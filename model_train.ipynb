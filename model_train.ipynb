{
  "nbformat": 4,
  "nbformat_minor": 0,
  "metadata": {
    "colab": {
      "name": "Building Email Smart Compose: Real-Time Assisted Writing_model_train.ipynb",
      "provenance": [],
      "collapsed_sections": [],
      "machine_shape": "hm"
    },
    "kernelspec": {
      "name": "python3",
      "display_name": "Python 3"
    },
    "accelerator": "GPU"
  },
  "cells": [
    {
      "cell_type": "code",
      "metadata": {
        "id": "lmd9Z9L5I0CH",
        "colab_type": "code",
        "outputId": "7b1d6eea-9ca1-4b7e-d855-274dc16a47a2",
        "colab": {
          "base_uri": "https://localhost:8080/",
          "height": 232
        }
      },
      "source": [
        "#!wget --header=\"Host: storage.googleapis.com\" --header=\"User-Agent: Mozilla/5.0 (Macintosh; Intel Mac OS X 10_15_2) AppleWebKit/537.36 (KHTML, like Gecko) Chrome/79.0.3945.88 Safari/537.36\" --header=\"Accept: text/html,application/xhtml+xml,application/xml;q=0.9,image/webp,image/apng,*/*;q=0.8,application/signed-exchange;v=b3;q=0.9\" --header=\"Accept-Language: en,gu;q=0.9\" --header=\"Referer: https://www.kaggle.com/\" \"https://storage.googleapis.com/kaggle-data-sets/55/120/bundle/archive.zip?GoogleAccessId=web-data@kaggle-161607.iam.gserviceaccount.com&Expires=1577864430&Signature=iI6pH6qtR0gPB4nTKgcaRxnKvKewyhkwLE1k0eu%2BGbYuMBJYyWCfbHb%2BrLtjbz41MnJ%2FQxR8CivHFriXLBzGEdHif15z6J%2BuQVY3KeBTBXXSGZ%2F%2BwCl31NY0vpstO9ZhMCwMFtuiOHZxIiCvct6oX1PYttdl60O%2BYdgUVDjik1btoHom%2BfE0IYlfx7f5tjmixmjvNHylZurGOKTDlmkWXKzgCXXwsWDv7GRuiudl3ejutbQYFCc1gBaXxjXK%2FHg6Fk6LmMNbECzPgJNnntTpD6H6Jv3plRCcvrzWpC1PI7aP0G9rLyK7dqq0b4QK7NbnDqAvHJr7zWFB2jbeQR%2FV%2FQ%3D%3D&response-content-disposition=attachment%3B+filename%3Denron-email-dataset.zip\" -O \"enron-email-dataset.zip\" -c"
      ],
      "execution_count": 0,
      "outputs": [
        {
          "output_type": "stream",
          "text": [
            "--2019-12-29 07:40:56--  https://storage.googleapis.com/kaggle-data-sets/55/120/bundle/archive.zip?GoogleAccessId=web-data@kaggle-161607.iam.gserviceaccount.com&Expires=1577864430&Signature=iI6pH6qtR0gPB4nTKgcaRxnKvKewyhkwLE1k0eu%2BGbYuMBJYyWCfbHb%2BrLtjbz41MnJ%2FQxR8CivHFriXLBzGEdHif15z6J%2BuQVY3KeBTBXXSGZ%2F%2BwCl31NY0vpstO9ZhMCwMFtuiOHZxIiCvct6oX1PYttdl60O%2BYdgUVDjik1btoHom%2BfE0IYlfx7f5tjmixmjvNHylZurGOKTDlmkWXKzgCXXwsWDv7GRuiudl3ejutbQYFCc1gBaXxjXK%2FHg6Fk6LmMNbECzPgJNnntTpD6H6Jv3plRCcvrzWpC1PI7aP0G9rLyK7dqq0b4QK7NbnDqAvHJr7zWFB2jbeQR%2FV%2FQ%3D%3D&response-content-disposition=attachment%3B+filename%3Denron-email-dataset.zip\n",
            "Resolving storage.googleapis.com (storage.googleapis.com)... 74.125.203.128, 2404:6800:4008:c00::80\n",
            "Connecting to storage.googleapis.com (storage.googleapis.com)|74.125.203.128|:443... connected.\n",
            "HTTP request sent, awaiting response... 200 OK\n",
            "Length: 375294957 (358M) [application/zip]\n",
            "Saving to: ‘enron-email-dataset.zip’\n",
            "\n",
            "enron-email-dataset 100%[===================>] 357.91M  37.4MB/s    in 9.6s    \n",
            "\n",
            "2019-12-29 07:41:06 (37.4 MB/s) - ‘enron-email-dataset.zip’ saved [375294957/375294957]\n",
            "\n"
          ],
          "name": "stdout"
        }
      ]
    },
    {
      "cell_type": "code",
      "metadata": {
        "id": "Hf9kIx3pKGNr",
        "colab_type": "code",
        "outputId": "1b32f6a9-ba36-44d9-bee4-723a1297b5b0",
        "colab": {
          "base_uri": "https://localhost:8080/",
          "height": 87
        }
      },
      "source": [
        "'''\n",
        "# importing required modules \n",
        "from zipfile import ZipFile \n",
        "  \n",
        "# specifying the zip file name \n",
        "file_name = \"enron-email-dataset.zip\"\n",
        "  \n",
        "# opening the zip file in READ mode \n",
        "with ZipFile(file_name, 'r') as zip: \n",
        "    # printing all the contents of the zip file \n",
        "    zip.printdir() \n",
        "  \n",
        "    # extracting all the files \n",
        "    print('Extracting all the files now...') \n",
        "    zip.extractall() \n",
        "    print('Done!') \n",
        "'''"
      ],
      "execution_count": 0,
      "outputs": [
        {
          "output_type": "stream",
          "text": [
            "File Name                                             Modified             Size\n",
            "emails.csv                                     2019-09-19 08:15:04   1426122219\n",
            "Extracting all the files now...\n",
            "Done!\n"
          ],
          "name": "stdout"
        }
      ]
    },
    {
      "cell_type": "code",
      "metadata": {
        "id": "FZqCqA_gt3ZL",
        "colab_type": "code",
        "outputId": "3dee3ed8-00c3-4c51-eba0-5801bf90bbdf",
        "colab": {
          "base_uri": "https://localhost:8080/",
          "height": 283
        }
      },
      "source": [
        "#!wget http://nlp.stanford.edu/software/stanford-ner-2015-04-20.zip"
      ],
      "execution_count": 0,
      "outputs": [
        {
          "output_type": "stream",
          "text": [
            "--2019-12-21 06:59:46--  http://nlp.stanford.edu/software/stanford-ner-2015-04-20.zip\n",
            "Resolving nlp.stanford.edu (nlp.stanford.edu)... 171.64.67.140\n",
            "Connecting to nlp.stanford.edu (nlp.stanford.edu)|171.64.67.140|:80... connected.\n",
            "HTTP request sent, awaiting response... 302 Found\n",
            "Location: https://nlp.stanford.edu/software/stanford-ner-2015-04-20.zip [following]\n",
            "--2019-12-21 06:59:47--  https://nlp.stanford.edu/software/stanford-ner-2015-04-20.zip\n",
            "Connecting to nlp.stanford.edu (nlp.stanford.edu)|171.64.67.140|:443... connected.\n",
            "HTTP request sent, awaiting response... 200 OK\n",
            "Length: 176961718 (169M) [application/zip]\n",
            "Saving to: ‘stanford-ner-2015-04-20.zip’\n",
            "\n",
            "stanford-ner-2015-0 100%[===================>] 168.76M  21.4MB/s    in 11s     \n",
            "\n",
            "2019-12-21 07:00:01 (15.5 MB/s) - ‘stanford-ner-2015-04-20.zip’ saved [176961718/176961718]\n",
            "\n"
          ],
          "name": "stdout"
        }
      ]
    },
    {
      "cell_type": "code",
      "metadata": {
        "id": "l9sRkuT-t4KL",
        "colab_type": "code",
        "outputId": "7918f385-c105-40ca-de1c-1534dc93d5e0",
        "colab": {
          "base_uri": "https://localhost:8080/",
          "height": 621
        }
      },
      "source": [
        "'''\n",
        "# importing required modules \n",
        "from zipfile import ZipFile \n",
        "  \n",
        "# specifying the zip file name \n",
        "file_name = \"stanford-ner-2015-04-20.zip\"\n",
        "  \n",
        "# opening the zip file in READ mode \n",
        "with ZipFile(file_name, 'r') as zip: \n",
        "    # printing all the contents of the zip file \n",
        "    zip.printdir() \n",
        "  \n",
        "    # extracting all the files \n",
        "    print('Extracting all the files now...') \n",
        "    zip.extractall() \n",
        "    print('Done!') \n",
        "'''"
      ],
      "execution_count": 0,
      "outputs": [
        {
          "output_type": "stream",
          "text": [
            "File Name                                             Modified             Size\n",
            "stanford-ner-2015-04-20/                       2015-05-03 17:59:04            0\n",
            "stanford-ner-2015-04-20/README.txt             2015-05-03 17:58:42        11496\n",
            "stanford-ner-2015-04-20/ner-gui.bat            2015-05-03 17:58:44           69\n",
            "stanford-ner-2015-04-20/build.xml              2015-05-03 17:58:44         5721\n",
            "stanford-ner-2015-04-20/stanford-ner-3.5.2.jar 2015-05-03 17:58:22      3983715\n",
            "stanford-ner-2015-04-20/stanford-ner.jar       2015-05-03 17:58:24      3983715\n",
            "stanford-ner-2015-04-20/sample-conll-file.txt  2015-05-03 17:58:44           79\n",
            "stanford-ner-2015-04-20/sample.ner.txt         2015-05-03 17:59:10          838\n",
            "stanford-ner-2015-04-20/lib/                   2015-05-03 17:58:24            0\n",
            "stanford-ner-2015-04-20/lib/jollyday-0.4.7.jar 2015-05-03 17:58:24       200993\n",
            "stanford-ner-2015-04-20/lib/joda-time.jar      2015-05-03 17:58:24       570478\n",
            "stanford-ner-2015-04-20/lib/stanford-ner-resources.jar 2015-05-03 17:58:26     21373256\n",
            "stanford-ner-2015-04-20/ner-gui.command        2015-05-03 17:58:44           88\n",
            "stanford-ner-2015-04-20/ner.sh                 2015-05-03 17:58:44          210\n",
            "stanford-ner-2015-04-20/NERDemo.java           2015-05-03 17:58:26         6786\n",
            "stanford-ner-2015-04-20/ner.bat                2015-05-03 17:58:44          152\n",
            "stanford-ner-2015-04-20/stanford-ner-3.5.2-javadoc.jar 2015-05-03 17:58:42      4372420\n",
            "stanford-ner-2015-04-20/classifiers/           2015-05-03 17:59:04            0\n",
            "stanford-ner-2015-04-20/classifiers/english.conll.4class.distsim.prop 2015-05-03 17:59:00         1543\n",
            "stanford-ner-2015-04-20/classifiers/example.serialized.ncc.ncc.ser.gz 2015-05-03 17:59:04     70316064\n",
            "stanford-ner-2015-04-20/classifiers/english.muc.7class.distsim.crf.ser.gz 2015-05-03 17:59:02     17859765\n",
            "stanford-ner-2015-04-20/classifiers/english.conll.4class.distsim.crf.ser.gz 2015-05-03 17:59:00     17803778\n",
            "stanford-ner-2015-04-20/classifiers/english.muc.7class.distsim.prop 2015-05-03 17:59:02         1175\n",
            "stanford-ner-2015-04-20/classifiers/english.all.3class.distsim.prop 2015-05-03 17:59:00         1777\n",
            "stanford-ner-2015-04-20/classifiers/example.serialized.ncc.prop 2015-05-03 17:59:04          260\n",
            "stanford-ner-2015-04-20/classifiers/english.all.3class.distsim.crf.ser.gz 2015-05-03 17:59:00     34663961\n",
            "stanford-ner-2015-04-20/stanford-ner-3.5.2-sources.jar 2015-05-03 17:58:24      2876224\n",
            "stanford-ner-2015-04-20/sample.txt             2015-05-03 17:58:44          470\n",
            "stanford-ner-2015-04-20/sample-w-time.txt      2015-05-03 17:58:44           82\n",
            "stanford-ner-2015-04-20/ner-gui.sh             2015-05-03 17:58:44          113\n",
            "stanford-ner-2015-04-20/LICENSE.txt            2015-05-03 17:58:42        18092\n",
            "Extracting all the files now...\n",
            "Done!\n"
          ],
          "name": "stdout"
        }
      ]
    },
    {
      "cell_type": "code",
      "metadata": {
        "id": "2WHLu_3Ie9gP",
        "colab_type": "code",
        "outputId": "82526bd5-7336-486f-c49c-12a9fc274f0c",
        "colab": {
          "base_uri": "https://localhost:8080/",
          "height": 124
        }
      },
      "source": [
        "if __name__ == \"__main__\":\n",
        "  from google.colab import drive\n",
        "  drive.mount('/content/drive')"
      ],
      "execution_count": 0,
      "outputs": [
        {
          "output_type": "stream",
          "text": [
            "Go to this URL in a browser: https://accounts.google.com/o/oauth2/auth?client_id=947318989803-6bn6qk8qdgf4n4g3pfee6491hc0brc4i.apps.googleusercontent.com&redirect_uri=urn%3aietf%3awg%3aoauth%3a2.0%3aoob&response_type=code&scope=email%20https%3a%2f%2fwww.googleapis.com%2fauth%2fdocs.test%20https%3a%2f%2fwww.googleapis.com%2fauth%2fdrive%20https%3a%2f%2fwww.googleapis.com%2fauth%2fdrive.photos.readonly%20https%3a%2f%2fwww.googleapis.com%2fauth%2fpeopleapi.readonly\n",
            "\n",
            "Enter your authorization code:\n",
            "··········\n",
            "Mounted at /content/drive\n"
          ],
          "name": "stdout"
        }
      ]
    },
    {
      "cell_type": "code",
      "metadata": {
        "id": "ZnLIrcuwtnxK",
        "colab_type": "code",
        "colab": {}
      },
      "source": [
        ""
      ],
      "execution_count": 0,
      "outputs": []
    },
    {
      "cell_type": "code",
      "metadata": {
        "id": "sVHr843DcmeK",
        "colab_type": "code",
        "outputId": "25dfe32f-0b8d-44fe-a7c1-84ecd439319c",
        "colab": {
          "base_uri": "https://localhost:8080/",
          "height": 196
        }
      },
      "source": [
        "!pip install import-ipynb"
      ],
      "execution_count": 0,
      "outputs": [
        {
          "output_type": "stream",
          "text": [
            "Collecting import-ipynb\n",
            "  Downloading https://files.pythonhosted.org/packages/63/35/495e0021bfdcc924c7cdec4e9fbb87c88dd03b9b9b22419444dc370c8a45/import-ipynb-0.1.3.tar.gz\n",
            "Building wheels for collected packages: import-ipynb\n",
            "  Building wheel for import-ipynb (setup.py) ... \u001b[?25l\u001b[?25hdone\n",
            "  Created wheel for import-ipynb: filename=import_ipynb-0.1.3-cp36-none-any.whl size=2975 sha256=04406d9ed0bbe2c122d9e5c424db21383dd714e843a4984f8bbd5292564d60ec\n",
            "  Stored in directory: /root/.cache/pip/wheels/b4/7b/e9/a3a6e496115dffdb4e3085d0ae39ffe8a814eacc44bbf494b5\n",
            "Successfully built import-ipynb\n",
            "Installing collected packages: import-ipynb\n",
            "Successfully installed import-ipynb-0.1.3\n"
          ],
          "name": "stdout"
        }
      ]
    },
    {
      "cell_type": "markdown",
      "metadata": {
        "id": "o7gzApI-KX_7",
        "colab_type": "text"
      },
      "source": [
        "<font color = #0066cc size=\"10\"> Building Email Smart Compose: Real-Time Assisted Writing</font>\n",
        "\n"
      ]
    },
    {
      "cell_type": "markdown",
      "metadata": {
        "id": "3l5MItvaMR53",
        "colab_type": "text"
      },
      "source": [
        "#### Build smart composer, that generate interactive, realtime suggestions while writing email that assists users in writing mails by reducing repetitive typing.\n",
        "- https://arxiv.org/pdf/1906.00080.pdf"
      ]
    },
    {
      "cell_type": "markdown",
      "metadata": {
        "id": "yIxAqKAw4bZF",
        "colab_type": "text"
      },
      "source": [
        "- Our Approach to solve this problem:\n",
        "   TO built gmail style smart compose we will use char-level seq to seq encoder decoder model with attention \n",
        "-   We can also use word level model to solve this kind of problem,but they are a great fit only where the user inputs come in short spurts.\n",
        "-   Here in emails, the user is going to type in a lot of text in one go across multiple emails. So lesser the user needs to type, the greater the user experience and productivity. Also, In emails if you look close, we end up repeating lot of sentences, from greetings to basic pleasantries to closure notes"
      ]
    },
    {
      "cell_type": "code",
      "metadata": {
        "id": "uvydRrM1JhKd",
        "colab_type": "code",
        "outputId": "40126417-59e7-4660-afc8-766e8e7b895c",
        "colab": {
          "base_uri": "https://localhost:8080/",
          "height": 893
        }
      },
      "source": [
        "import os\n",
        "import email\n",
        "import pandas as pd\n",
        "import numpy as np\n",
        "from tqdm import tqdm\n",
        "import gc\n",
        "from os import path\n",
        "import re\n",
        "import csv\n",
        "import tensorflow as tf\n",
        "from datetime import datetime\n",
        "import pickle\n",
        "from IPython.display import display\n",
        "import matplotlib.pyplot as plt\n",
        "from wordcloud import WordCloud,STOPWORDS \n",
        "from collections import Counter\n",
        "from nltk.tokenize import sent_tokenize\n",
        "from tensorflow.python.keras.layers import Input,Bidirectional,dot,Activation,concatenate,Embedding,BatchNormalization\n",
        "from tensorflow.python.keras.layers import LSTM,CuDNNLSTM, Dense, Concatenate, TimeDistributed\n",
        "from tensorflow.python.keras.layers import Layer\n",
        "from tensorflow.python.keras import backend as K\n",
        "from tensorflow.python.keras.callbacks import ModelCheckpoint,ReduceLROnPlateau\n",
        "from tensorflow.python.keras import optimizers\n",
        "from tensorflow.python.keras.layers import Dropout\n",
        "from tensorflow.keras.regularizers import l2,l1\n",
        "from tensorflow.python.keras.models import Model\n",
        "from tensorflow.python.keras.losses import categorical_crossentropy\n",
        "from tensorflow.keras.metrics import CategoricalAccuracy\n",
        "from tensorflow.python.keras.callbacks import LearningRateScheduler\n",
        "from tensorflow.keras.models import model_from_json\n",
        "from nltk.translate.bleu_score import sentence_bleu\n",
        "from sklearn.utils import shuffle\n",
        "import nltk\n",
        "import random \n",
        "from statistics import *\n",
        "nltk.download(\"popular\")\n",
        "from multiprocessing import  Pool"
      ],
      "execution_count": 0,
      "outputs": [
        {
          "output_type": "display_data",
          "data": {
            "text/html": [
              "<p style=\"color: red;\">\n",
              "The default version of TensorFlow in Colab will soon switch to TensorFlow 2.x.<br>\n",
              "We recommend you <a href=\"https://www.tensorflow.org/guide/migrate\" target=\"_blank\">upgrade</a> now \n",
              "or ensure your notebook will continue to use TensorFlow 1.x via the <code>%tensorflow_version 1.x</code> magic:\n",
              "<a href=\"https://colab.research.google.com/notebooks/tensorflow_version.ipynb\" target=\"_blank\">more info</a>.</p>\n"
            ],
            "text/plain": [
              "<IPython.core.display.HTML object>"
            ]
          },
          "metadata": {
            "tags": []
          }
        },
        {
          "output_type": "stream",
          "text": [
            "[nltk_data] Downloading collection 'popular'\n",
            "[nltk_data]    | \n",
            "[nltk_data]    | Downloading package cmudict to /root/nltk_data...\n",
            "[nltk_data]    |   Package cmudict is already up-to-date!\n",
            "[nltk_data]    | Downloading package gazetteers to /root/nltk_data...\n",
            "[nltk_data]    |   Package gazetteers is already up-to-date!\n",
            "[nltk_data]    | Downloading package genesis to /root/nltk_data...\n",
            "[nltk_data]    |   Package genesis is already up-to-date!\n",
            "[nltk_data]    | Downloading package gutenberg to /root/nltk_data...\n",
            "[nltk_data]    |   Package gutenberg is already up-to-date!\n",
            "[nltk_data]    | Downloading package inaugural to /root/nltk_data...\n",
            "[nltk_data]    |   Package inaugural is already up-to-date!\n",
            "[nltk_data]    | Downloading package movie_reviews to\n",
            "[nltk_data]    |     /root/nltk_data...\n",
            "[nltk_data]    |   Package movie_reviews is already up-to-date!\n",
            "[nltk_data]    | Downloading package names to /root/nltk_data...\n",
            "[nltk_data]    |   Package names is already up-to-date!\n",
            "[nltk_data]    | Downloading package shakespeare to /root/nltk_data...\n",
            "[nltk_data]    |   Package shakespeare is already up-to-date!\n",
            "[nltk_data]    | Downloading package stopwords to /root/nltk_data...\n",
            "[nltk_data]    |   Package stopwords is already up-to-date!\n",
            "[nltk_data]    | Downloading package treebank to /root/nltk_data...\n",
            "[nltk_data]    |   Package treebank is already up-to-date!\n",
            "[nltk_data]    | Downloading package twitter_samples to\n",
            "[nltk_data]    |     /root/nltk_data...\n",
            "[nltk_data]    |   Package twitter_samples is already up-to-date!\n",
            "[nltk_data]    | Downloading package omw to /root/nltk_data...\n",
            "[nltk_data]    |   Package omw is already up-to-date!\n",
            "[nltk_data]    | Downloading package wordnet to /root/nltk_data...\n",
            "[nltk_data]    |   Package wordnet is already up-to-date!\n",
            "[nltk_data]    | Downloading package wordnet_ic to /root/nltk_data...\n",
            "[nltk_data]    |   Package wordnet_ic is already up-to-date!\n",
            "[nltk_data]    | Downloading package words to /root/nltk_data...\n",
            "[nltk_data]    |   Package words is already up-to-date!\n",
            "[nltk_data]    | Downloading package maxent_ne_chunker to\n",
            "[nltk_data]    |     /root/nltk_data...\n",
            "[nltk_data]    |   Package maxent_ne_chunker is already up-to-date!\n",
            "[nltk_data]    | Downloading package punkt to /root/nltk_data...\n",
            "[nltk_data]    |   Package punkt is already up-to-date!\n",
            "[nltk_data]    | Downloading package snowball_data to\n",
            "[nltk_data]    |     /root/nltk_data...\n",
            "[nltk_data]    |   Package snowball_data is already up-to-date!\n",
            "[nltk_data]    | Downloading package averaged_perceptron_tagger to\n",
            "[nltk_data]    |     /root/nltk_data...\n",
            "[nltk_data]    |   Package averaged_perceptron_tagger is already up-\n",
            "[nltk_data]    |       to-date!\n",
            "[nltk_data]    | \n",
            "[nltk_data]  Done downloading collection popular\n"
          ],
          "name": "stdout"
        }
      ]
    },
    {
      "cell_type": "code",
      "metadata": {
        "id": "aoUrNB69zWuX",
        "colab_type": "code",
        "colab": {}
      },
      "source": [
        "#import import_ipynb\n",
        "#from xyz.abc import model_data"
      ],
      "execution_count": 0,
      "outputs": []
    },
    {
      "cell_type": "code",
      "metadata": {
        "id": "Lb7tfAkOfAVP",
        "colab_type": "code",
        "outputId": "62344fa5-5179-4727-d08e-ae2de9ae27c1",
        "colab": {
          "base_uri": "https://localhost:8080/",
          "height": 35
        }
      },
      "source": [
        "# Create directory\n",
        "dirName = '/content/drive/My Drive/char_level_attention_model'\n",
        "try:\n",
        "  # Create target Directory\n",
        "  os.mkdir(dirName)\n",
        "  print(\"Directory \" , dirName ,  \" Created \") \n",
        "except FileExistsError:\n",
        "  print(\"Directory \" , dirName ,  \" already exists\")"
      ],
      "execution_count": 0,
      "outputs": [
        {
          "output_type": "stream",
          "text": [
            "Directory  /content/drive/My Drive/char_level_attention_model  already exists\n"
          ],
          "name": "stdout"
        }
      ]
    },
    {
      "cell_type": "code",
      "metadata": {
        "id": "tKvdD0BEbyd3",
        "colab_type": "code",
        "colab": {}
      },
      "source": [
        "train_path = dirName + '/shuffled_train.csv'\n",
        "test_path = dirName + '/shuffled_test.csv'\n",
        "cv_path = dirName + '/shuffled_cv.csv'\n",
        "weight_path = dirName + '/weights/saved-model-146-0.9879.pkl'\n"
      ],
      "execution_count": 0,
      "outputs": []
    },
    {
      "cell_type": "markdown",
      "metadata": {
        "id": "1qomxXUMNMJK",
        "colab_type": "text"
      },
      "source": [
        "# <font color =#0066cc> Data Used  </font>"
      ]
    },
    {
      "cell_type": "markdown",
      "metadata": {
        "id": "O505DGYGNsG6",
        "colab_type": "text"
      },
      "source": [
        "- We will use Enron Email Dataset for this task\n",
        "- https://www.kaggle.com/wcukierski/enron-email-dataset\n",
        "- It contains data from about 150 users, mostly senior management of Enron, organized into folders.\n",
        "- The corpus contains a total of about 0.5M messages. This data was originally made public, and posted to the web, by the Federal Energy Regulatory Commission during its investigation."
      ]
    },
    {
      "cell_type": "markdown",
      "metadata": {
        "colab_type": "text",
        "id": "5csmdCv6tgRt"
      },
      "source": [
        "### <font color =#0066cc> Extracting Information using email - An email and MIME handling package:</font>\n",
        "- Now here we have to extract email body and subject from Message\n",
        "- we will use email — An email and MIME handling package to do so\n",
        "- reference link:\n",
        "- https://www.programcreek.com/python/example/1038/email.message_from_string\n",
        "- https://docs.python.org/3/library/email.parser.html\n",
        "- https://docs.python.org/2/library/email.message.html"
      ]
    },
    {
      "cell_type": "markdown",
      "metadata": {
        "colab_type": "text",
        "id": "FWWfUXmptgRj"
      },
      "source": [
        "### <font color =#0066cc>First Look at The Enron Email Dataset</font>"
      ]
    },
    {
      "cell_type": "code",
      "metadata": {
        "colab_type": "code",
        "id": "2mbO-UqqtgRk",
        "outputId": "bd606b32-1a91-43d7-f770-b09cb457702f",
        "colab": {
          "base_uri": "https://localhost:8080/",
          "height": 354
        }
      },
      "source": [
        "if __name__ == \"__main__\":\n",
        "  df = pd.read_csv('emails.csv')\n",
        "  print(df['message'].iloc[0])"
      ],
      "execution_count": 0,
      "outputs": [
        {
          "output_type": "stream",
          "text": [
            "Message-ID: <18782981.1075855378110.JavaMail.evans@thyme>\n",
            "Date: Mon, 14 May 2001 16:39:00 -0700 (PDT)\n",
            "From: phillip.allen@enron.com\n",
            "To: tim.belden@enron.com\n",
            "Subject: \n",
            "Mime-Version: 1.0\n",
            "Content-Type: text/plain; charset=us-ascii\n",
            "Content-Transfer-Encoding: 7bit\n",
            "X-From: Phillip K Allen\n",
            "X-To: Tim Belden <Tim Belden/Enron@EnronXGate>\n",
            "X-cc: \n",
            "X-bcc: \n",
            "X-Folder: \\Phillip_Allen_Jan2002_1\\Allen, Phillip K.\\'Sent Mail\n",
            "X-Origin: Allen-P\n",
            "X-FileName: pallen (Non-Privileged).pst\n",
            "\n",
            "Here is our forecast\n",
            "\n",
            " \n"
          ],
          "name": "stdout"
        }
      ]
    },
    {
      "cell_type": "code",
      "metadata": {
        "id": "3PNW8XS3TtKe",
        "colab_type": "code",
        "colab": {}
      },
      "source": [
        "def get_text_from_email(msg):\n",
        "    '''\n",
        "    To get the content from email objects\n",
        "\n",
        "    '''\n",
        "    parts = []\n",
        "    for part in msg.walk():\n",
        "        if part.get_content_type() == 'text/plain':\n",
        "            parts.append( part.get_payload() )\n",
        "    return ''.join(parts)"
      ],
      "execution_count": 0,
      "outputs": []
    },
    {
      "cell_type": "code",
      "metadata": {
        "id": "y379HIiUU4SC",
        "colab_type": "code",
        "colab": {}
      },
      "source": [
        "\n",
        "def email_to_df():\n",
        "  '''\n",
        "\n",
        "  Converting data from eamil format to pandas dataframe format and storing Df to all_subject_and_msg.csv file for future use\n",
        "  \n",
        "  '''\n",
        "  if not path.exists(dirName + '/all_subject_and_msg.csv'):\n",
        "    df = pd.read_csv('emails.csv')\n",
        "    print('Converting Email data format to pandas dataframe:----------')\n",
        "    print(\"Start\")\n",
        "\n",
        "    # Converting emails formate to list of email objects\n",
        "    list_message = list(df['message'].apply(email.message_from_string))\n",
        "    df.drop('message', axis=1, inplace=True)\n",
        "    df.drop('file', axis=1, inplace=True)\n",
        "\n",
        "    # Converting list of email object to dataframe using keys\n",
        "    keys = list_message[0].keys()\n",
        "    for key in keys:\n",
        "      df[key] = [doc[key] for doc in list_message]\n",
        "\n",
        "    # Extrect text from content \n",
        "    df['content'] = list(map(get_text_from_email, list_message))\n",
        "  \n",
        "    #Storing Df to csv for future use\n",
        "    df.to_csv(dirName+'/all_subject_and_msg.csv',index=False)\n",
        "    # garbege collection\n",
        "    list_message = None\n",
        "    df = None\n",
        "    del(list_message,\\\n",
        "        df)\n",
        "    gc.collect()\n",
        "    print('Done and stored dataframe to csv all_subject_and_msg.csv file')\n",
        "  \n",
        "  else:\n",
        "    print('all_subject_and_msg.csv file is already generated')"
      ],
      "execution_count": 0,
      "outputs": []
    },
    {
      "cell_type": "code",
      "metadata": {
        "id": "WAJ1vnhsNLmb",
        "colab_type": "code",
        "outputId": "daac0f33-3af2-4c9c-a8b8-8b1c375e28f1",
        "colab": {
          "base_uri": "https://localhost:8080/",
          "height": 87
        }
      },
      "source": [
        "if __name__ == \"__main__\":\n",
        "  email_to_df()\n",
        "  df = pd.read_csv(dirName + '/all_subject_and_msg.csv')\n",
        "  print(df.shape)"
      ],
      "execution_count": 0,
      "outputs": [
        {
          "output_type": "stream",
          "text": [
            "Converting Email data format to pandas dataframe:----------\n",
            "Start\n",
            "Done and stored dataframe to csv all_subject_and_msg.csv file\n",
            "(517401, 16)\n"
          ],
          "name": "stdout"
        }
      ]
    },
    {
      "cell_type": "markdown",
      "metadata": {
        "id": "VKcPWoaCbaTv",
        "colab_type": "text"
      },
      "source": [
        "# <font color =#0066cc> EDA </font>"
      ]
    },
    {
      "cell_type": "code",
      "metadata": {
        "id": "AL3-1y77bhMz",
        "colab_type": "code",
        "outputId": "b9ab0673-dd38-449e-cbc8-dd646e79fe40",
        "colab": {
          "base_uri": "https://localhost:8080/",
          "height": 1000
        }
      },
      "source": [
        "if __name__ == \"__main__\":\n",
        "  display(df.head(10))"
      ],
      "execution_count": 0,
      "outputs": [
        {
          "output_type": "display_data",
          "data": {
            "text/html": [
              "<div>\n",
              "<style scoped>\n",
              "    .dataframe tbody tr th:only-of-type {\n",
              "        vertical-align: middle;\n",
              "    }\n",
              "\n",
              "    .dataframe tbody tr th {\n",
              "        vertical-align: top;\n",
              "    }\n",
              "\n",
              "    .dataframe thead th {\n",
              "        text-align: right;\n",
              "    }\n",
              "</style>\n",
              "<table border=\"1\" class=\"dataframe\">\n",
              "  <thead>\n",
              "    <tr style=\"text-align: right;\">\n",
              "      <th></th>\n",
              "      <th>Message-ID</th>\n",
              "      <th>Date</th>\n",
              "      <th>From</th>\n",
              "      <th>To</th>\n",
              "      <th>Subject</th>\n",
              "      <th>Mime-Version</th>\n",
              "      <th>Content-Type</th>\n",
              "      <th>Content-Transfer-Encoding</th>\n",
              "      <th>X-From</th>\n",
              "      <th>X-To</th>\n",
              "      <th>X-cc</th>\n",
              "      <th>X-bcc</th>\n",
              "      <th>X-Folder</th>\n",
              "      <th>X-Origin</th>\n",
              "      <th>X-FileName</th>\n",
              "      <th>content</th>\n",
              "    </tr>\n",
              "  </thead>\n",
              "  <tbody>\n",
              "    <tr>\n",
              "      <th>0</th>\n",
              "      <td>&lt;18782981.1075855378110.JavaMail.evans@thyme&gt;</td>\n",
              "      <td>Mon, 14 May 2001 16:39:00 -0700 (PDT)</td>\n",
              "      <td>phillip.allen@enron.com</td>\n",
              "      <td>tim.belden@enron.com</td>\n",
              "      <td>NaN</td>\n",
              "      <td>1.0</td>\n",
              "      <td>text/plain; charset=us-ascii</td>\n",
              "      <td>7bit</td>\n",
              "      <td>Phillip K Allen</td>\n",
              "      <td>Tim Belden &lt;Tim Belden/Enron@EnronXGate&gt;</td>\n",
              "      <td>NaN</td>\n",
              "      <td>NaN</td>\n",
              "      <td>\\Phillip_Allen_Jan2002_1\\Allen, Phillip K.\\'Se...</td>\n",
              "      <td>Allen-P</td>\n",
              "      <td>pallen (Non-Privileged).pst</td>\n",
              "      <td>Here is our forecast\\n\\n</td>\n",
              "    </tr>\n",
              "    <tr>\n",
              "      <th>1</th>\n",
              "      <td>&lt;15464986.1075855378456.JavaMail.evans@thyme&gt;</td>\n",
              "      <td>Fri, 4 May 2001 13:51:00 -0700 (PDT)</td>\n",
              "      <td>phillip.allen@enron.com</td>\n",
              "      <td>john.lavorato@enron.com</td>\n",
              "      <td>Re:</td>\n",
              "      <td>1.0</td>\n",
              "      <td>text/plain; charset=us-ascii</td>\n",
              "      <td>7bit</td>\n",
              "      <td>Phillip K Allen</td>\n",
              "      <td>John J Lavorato &lt;John J Lavorato/ENRON@enronXg...</td>\n",
              "      <td>NaN</td>\n",
              "      <td>NaN</td>\n",
              "      <td>\\Phillip_Allen_Jan2002_1\\Allen, Phillip K.\\'Se...</td>\n",
              "      <td>Allen-P</td>\n",
              "      <td>pallen (Non-Privileged).pst</td>\n",
              "      <td>Traveling to have a business meeting takes the...</td>\n",
              "    </tr>\n",
              "    <tr>\n",
              "      <th>2</th>\n",
              "      <td>&lt;24216240.1075855687451.JavaMail.evans@thyme&gt;</td>\n",
              "      <td>Wed, 18 Oct 2000 03:00:00 -0700 (PDT)</td>\n",
              "      <td>phillip.allen@enron.com</td>\n",
              "      <td>leah.arsdall@enron.com</td>\n",
              "      <td>Re: test</td>\n",
              "      <td>1.0</td>\n",
              "      <td>text/plain; charset=us-ascii</td>\n",
              "      <td>7bit</td>\n",
              "      <td>Phillip K Allen</td>\n",
              "      <td>Leah Van Arsdall</td>\n",
              "      <td>NaN</td>\n",
              "      <td>NaN</td>\n",
              "      <td>\\Phillip_Allen_Dec2000\\Notes Folders\\'sent mail</td>\n",
              "      <td>Allen-P</td>\n",
              "      <td>pallen.nsf</td>\n",
              "      <td>test successful.  way to go!!!</td>\n",
              "    </tr>\n",
              "    <tr>\n",
              "      <th>3</th>\n",
              "      <td>&lt;13505866.1075863688222.JavaMail.evans@thyme&gt;</td>\n",
              "      <td>Mon, 23 Oct 2000 06:13:00 -0700 (PDT)</td>\n",
              "      <td>phillip.allen@enron.com</td>\n",
              "      <td>randall.gay@enron.com</td>\n",
              "      <td>NaN</td>\n",
              "      <td>1.0</td>\n",
              "      <td>text/plain; charset=us-ascii</td>\n",
              "      <td>7bit</td>\n",
              "      <td>Phillip K Allen</td>\n",
              "      <td>Randall L Gay</td>\n",
              "      <td>NaN</td>\n",
              "      <td>NaN</td>\n",
              "      <td>\\Phillip_Allen_Dec2000\\Notes Folders\\'sent mail</td>\n",
              "      <td>Allen-P</td>\n",
              "      <td>pallen.nsf</td>\n",
              "      <td>Randy,\\n\\n Can you send me a schedule of the s...</td>\n",
              "    </tr>\n",
              "    <tr>\n",
              "      <th>4</th>\n",
              "      <td>&lt;30922949.1075863688243.JavaMail.evans@thyme&gt;</td>\n",
              "      <td>Thu, 31 Aug 2000 05:07:00 -0700 (PDT)</td>\n",
              "      <td>phillip.allen@enron.com</td>\n",
              "      <td>greg.piper@enron.com</td>\n",
              "      <td>Re: Hello</td>\n",
              "      <td>1.0</td>\n",
              "      <td>text/plain; charset=us-ascii</td>\n",
              "      <td>7bit</td>\n",
              "      <td>Phillip K Allen</td>\n",
              "      <td>Greg Piper</td>\n",
              "      <td>NaN</td>\n",
              "      <td>NaN</td>\n",
              "      <td>\\Phillip_Allen_Dec2000\\Notes Folders\\'sent mail</td>\n",
              "      <td>Allen-P</td>\n",
              "      <td>pallen.nsf</td>\n",
              "      <td>Let's shoot for Tuesday at 11:45.</td>\n",
              "    </tr>\n",
              "    <tr>\n",
              "      <th>5</th>\n",
              "      <td>&lt;30965995.1075863688265.JavaMail.evans@thyme&gt;</td>\n",
              "      <td>Thu, 31 Aug 2000 04:17:00 -0700 (PDT)</td>\n",
              "      <td>phillip.allen@enron.com</td>\n",
              "      <td>greg.piper@enron.com</td>\n",
              "      <td>Re: Hello</td>\n",
              "      <td>1.0</td>\n",
              "      <td>text/plain; charset=us-ascii</td>\n",
              "      <td>7bit</td>\n",
              "      <td>Phillip K Allen</td>\n",
              "      <td>Greg Piper</td>\n",
              "      <td>NaN</td>\n",
              "      <td>NaN</td>\n",
              "      <td>\\Phillip_Allen_Dec2000\\Notes Folders\\'sent mail</td>\n",
              "      <td>Allen-P</td>\n",
              "      <td>pallen.nsf</td>\n",
              "      <td>Greg,\\n\\n How about either next Tuesday or Thu...</td>\n",
              "    </tr>\n",
              "    <tr>\n",
              "      <th>6</th>\n",
              "      <td>&lt;16254169.1075863688286.JavaMail.evans@thyme&gt;</td>\n",
              "      <td>Tue, 22 Aug 2000 07:44:00 -0700 (PDT)</td>\n",
              "      <td>phillip.allen@enron.com</td>\n",
              "      <td>david.l.johnson@enron.com, john.shafer@enron.com</td>\n",
              "      <td>NaN</td>\n",
              "      <td>1.0</td>\n",
              "      <td>text/plain; charset=us-ascii</td>\n",
              "      <td>7bit</td>\n",
              "      <td>Phillip K Allen</td>\n",
              "      <td>david.l.johnson@enron.com, John Shafer</td>\n",
              "      <td>NaN</td>\n",
              "      <td>NaN</td>\n",
              "      <td>\\Phillip_Allen_Dec2000\\Notes Folders\\'sent mail</td>\n",
              "      <td>Allen-P</td>\n",
              "      <td>pallen.nsf</td>\n",
              "      <td>Please cc the following distribution list with...</td>\n",
              "    </tr>\n",
              "    <tr>\n",
              "      <th>7</th>\n",
              "      <td>&lt;17189699.1075863688308.JavaMail.evans@thyme&gt;</td>\n",
              "      <td>Fri, 14 Jul 2000 06:59:00 -0700 (PDT)</td>\n",
              "      <td>phillip.allen@enron.com</td>\n",
              "      <td>joyce.teixeira@enron.com</td>\n",
              "      <td>Re: PRC review - phone calls</td>\n",
              "      <td>1.0</td>\n",
              "      <td>text/plain; charset=us-ascii</td>\n",
              "      <td>7bit</td>\n",
              "      <td>Phillip K Allen</td>\n",
              "      <td>Joyce Teixeira</td>\n",
              "      <td>NaN</td>\n",
              "      <td>NaN</td>\n",
              "      <td>\\Phillip_Allen_Dec2000\\Notes Folders\\'sent mail</td>\n",
              "      <td>Allen-P</td>\n",
              "      <td>pallen.nsf</td>\n",
              "      <td>any morning between 10 and 11:30</td>\n",
              "    </tr>\n",
              "    <tr>\n",
              "      <th>8</th>\n",
              "      <td>&lt;20641191.1075855687472.JavaMail.evans@thyme&gt;</td>\n",
              "      <td>Tue, 17 Oct 2000 02:26:00 -0700 (PDT)</td>\n",
              "      <td>phillip.allen@enron.com</td>\n",
              "      <td>mark.scott@enron.com</td>\n",
              "      <td>Re: High Speed Internet Access</td>\n",
              "      <td>1.0</td>\n",
              "      <td>text/plain; charset=us-ascii</td>\n",
              "      <td>7bit</td>\n",
              "      <td>Phillip K Allen</td>\n",
              "      <td>Mark Scott</td>\n",
              "      <td>NaN</td>\n",
              "      <td>NaN</td>\n",
              "      <td>\\Phillip_Allen_Dec2000\\Notes Folders\\'sent mail</td>\n",
              "      <td>Allen-P</td>\n",
              "      <td>pallen.nsf</td>\n",
              "      <td>1. login:  pallen pw: ke9davis\\n\\n I don't thi...</td>\n",
              "    </tr>\n",
              "    <tr>\n",
              "      <th>9</th>\n",
              "      <td>&lt;30795301.1075855687494.JavaMail.evans@thyme&gt;</td>\n",
              "      <td>Mon, 16 Oct 2000 06:44:00 -0700 (PDT)</td>\n",
              "      <td>phillip.allen@enron.com</td>\n",
              "      <td>zimam@enron.com</td>\n",
              "      <td>FW: fixed forward or other Collar floor gas pr...</td>\n",
              "      <td>1.0</td>\n",
              "      <td>text/plain; charset=us-ascii</td>\n",
              "      <td>7bit</td>\n",
              "      <td>Phillip K Allen</td>\n",
              "      <td>zimam@enron.com</td>\n",
              "      <td>NaN</td>\n",
              "      <td>NaN</td>\n",
              "      <td>\\Phillip_Allen_Dec2000\\Notes Folders\\'sent mail</td>\n",
              "      <td>Allen-P</td>\n",
              "      <td>pallen.nsf</td>\n",
              "      <td>---------------------- Forwarded by Phillip K ...</td>\n",
              "    </tr>\n",
              "  </tbody>\n",
              "</table>\n",
              "</div>"
            ],
            "text/plain": [
              "                                      Message-ID  ...                                            content\n",
              "0  <18782981.1075855378110.JavaMail.evans@thyme>  ...                          Here is our forecast\\n\\n \n",
              "1  <15464986.1075855378456.JavaMail.evans@thyme>  ...  Traveling to have a business meeting takes the...\n",
              "2  <24216240.1075855687451.JavaMail.evans@thyme>  ...                     test successful.  way to go!!!\n",
              "3  <13505866.1075863688222.JavaMail.evans@thyme>  ...  Randy,\\n\\n Can you send me a schedule of the s...\n",
              "4  <30922949.1075863688243.JavaMail.evans@thyme>  ...                Let's shoot for Tuesday at 11:45.  \n",
              "5  <30965995.1075863688265.JavaMail.evans@thyme>  ...  Greg,\\n\\n How about either next Tuesday or Thu...\n",
              "6  <16254169.1075863688286.JavaMail.evans@thyme>  ...  Please cc the following distribution list with...\n",
              "7  <17189699.1075863688308.JavaMail.evans@thyme>  ...                   any morning between 10 and 11:30\n",
              "8  <20641191.1075855687472.JavaMail.evans@thyme>  ...  1. login:  pallen pw: ke9davis\\n\\n I don't thi...\n",
              "9  <30795301.1075855687494.JavaMail.evans@thyme>  ...  ---------------------- Forwarded by Phillip K ...\n",
              "\n",
              "[10 rows x 16 columns]"
            ]
          },
          "metadata": {
            "tags": []
          }
        }
      ]
    },
    {
      "cell_type": "markdown",
      "metadata": {
        "id": "gYFKZ0fteVjz",
        "colab_type": "text"
      },
      "source": [
        "- Now here we are more intrested in text data only and we will use other columns to clean our main text\n",
        "- ex: We do not want to give name of person to model so to remove human names from main text \n",
        "- same way we can remove attachments from main text \n",
        "- So in final data fream we will keep only content column only"
      ]
    },
    {
      "cell_type": "code",
      "metadata": {
        "id": "RvLmjV8-bg8N",
        "colab_type": "code",
        "outputId": "74e46037-8474-4fb1-afc2-7be7a35ecbd6",
        "colab": {
          "base_uri": "https://localhost:8080/",
          "height": 301
        }
      },
      "source": [
        "if __name__ == \"__main__\":\n",
        "  # checking no of unique values in dataframe\n",
        "  for col in df.columns:\n",
        "      print(col, df[col].nunique())"
      ],
      "execution_count": 0,
      "outputs": [
        {
          "output_type": "stream",
          "text": [
            "Message-ID 517401\n",
            "Date 224128\n",
            "From 20328\n",
            "To 58563\n",
            "Subject 159289\n",
            "Mime-Version 1\n",
            "Content-Type 2\n",
            "Content-Transfer-Encoding 3\n",
            "X-From 27980\n",
            "X-To 73551\n",
            "X-cc 33700\n",
            "X-bcc 131\n",
            "X-Folder 5335\n",
            "X-Origin 259\n",
            "X-FileName 428\n",
            "content 249025\n"
          ],
          "name": "stdout"
        }
      ]
    },
    {
      "cell_type": "markdown",
      "metadata": {
        "id": "iaErWJcJft4Y",
        "colab_type": "text"
      },
      "source": [
        "- We can see that there are total 2,49,000 emails in data\n",
        "- And 428 different attachment files are there\n",
        "- emails are sent from 20328 different email ids to 55377 differnet email ids"
      ]
    },
    {
      "cell_type": "code",
      "metadata": {
        "id": "b28QKxtWbgyE",
        "colab_type": "code",
        "outputId": "265b6b1c-2173-4364-e1c5-431832f0ab07",
        "colab": {
          "base_uri": "https://localhost:8080/",
          "height": 278
        }
      },
      "source": [
        "if __name__ == \"__main__\":\n",
        "  # EDA for text length\n",
        "  x = list(df['content'].apply(lambda x:len(x)))\n",
        "  plt.hist(x,range=[1,12000],bins = 20,align ='left')\n",
        "  plt.rcParams[\"figure.figsize\"] = (10,4)\n",
        "  plt.xlabel(\"Length of text\")\n",
        "  plt.ylabel(\"Frequency\")"
      ],
      "execution_count": 0,
      "outputs": [
        {
          "output_type": "display_data",
          "data": {
            "image/png": "[encoded data removed]",
            "text/plain": [
              "<Figure size 432x288 with 1 Axes>"
            ]
          },
          "metadata": {
            "tags": []
          }
        }
      ]
    },
    {
      "cell_type": "code",
      "metadata": {
        "id": "081O7ov4fnMU",
        "colab_type": "code",
        "outputId": "6ce6fff7-9126-4842-882d-381219fce24d",
        "colab": {
          "base_uri": "https://localhost:8080/",
          "height": 407
        }
      },
      "source": [
        "if __name__ == \"__main__\":\n",
        "  for i in range(0,110,10):\n",
        "    print(\"{}th- percentile of len(text) is {}\".format(i,np.percentile(x, i)))\n",
        "    print(\"=\"*40)\n",
        "  x =None\n",
        "  del(x)\n",
        "  gc.collect()"
      ],
      "execution_count": 0,
      "outputs": [
        {
          "output_type": "stream",
          "text": [
            "0th- percentile of len(text) is 1.0\n",
            "========================================\n",
            "10th- percentile of len(text) is 109.0\n",
            "========================================\n",
            "20th- percentile of len(text) is 221.0\n",
            "========================================\n",
            "30th- percentile of len(text) is 361.0\n",
            "========================================\n",
            "40th- percentile of len(text) is 539.0\n",
            "========================================\n",
            "50th- percentile of len(text) is 770.0\n",
            "========================================\n",
            "60th- percentile of len(text) is 1067.0\n",
            "========================================\n",
            "70th- percentile of len(text) is 1465.0\n",
            "========================================\n",
            "80th- percentile of len(text) is 2146.0\n",
            "========================================\n",
            "90th- percentile of len(text) is 3657.0\n",
            "========================================\n",
            "100th- percentile of len(text) is 2011422.0\n",
            "========================================\n"
          ],
          "name": "stdout"
        }
      ]
    },
    {
      "cell_type": "markdown",
      "metadata": {
        "id": "AzJkvs18vlVk",
        "colab_type": "text"
      },
      "source": [
        "- From above plot it is clear that length of text ranges from 0 to 2011422 \n",
        "- Distribution for the length of text is looks like power-law distribution\n",
        "- Which has frequency for sort sentences higher than long sentences\n",
        "- As we can see above from percentile values 90 percent of text has max length 3657 chars"
      ]
    },
    {
      "cell_type": "code",
      "metadata": {
        "id": "D_rbh8bwvj_1",
        "colab_type": "code",
        "colab": {}
      },
      "source": [
        "if __name__ == \"__main__\":\n",
        "  # EDA atteched file extention\n",
        "  file_extention_list = set(df['X-FileName'].dropna().apply(lambda x : os.path.splitext(x)[1]))\n",
        "  #file_extention_list = set(df['content'].dropna().apply(lambda x : os.path.splitext(x)[1]))\n",
        "  #print(file_extention_list)"
      ],
      "execution_count": 0,
      "outputs": []
    },
    {
      "cell_type": "markdown",
      "metadata": {
        "id": "H3ialbjv49U8",
        "colab_type": "text"
      },
      "source": [
        "- Most of the files that are atteched has extentions .pst or .nsf"
      ]
    },
    {
      "cell_type": "code",
      "metadata": {
        "id": "OY1dMaZrfnBD",
        "colab_type": "code",
        "outputId": "5ba3578f-53b5-490a-c4c5-0a297b63f91e",
        "colab": {
          "base_uri": "https://localhost:8080/",
          "height": 606
        }
      },
      "source": [
        "if __name__ == \"__main__\":\n",
        "  # Word cloud for content , X-TO, X-From\n",
        "  wordcloud = WordCloud(width = 800, height = 800, \n",
        "                background_color ='white', \n",
        "                stopwords = STOPWORDS , \n",
        "                max_font_size = 50,\n",
        "                min_font_size = 10).generate(df['content'].to_string()) \n",
        "  # plot the WordCloud image                        \n",
        "  plt.figure(figsize = (8, 8), facecolor = None) \n",
        "  plt.imshow(wordcloud) \n",
        "  plt.axis(\"off\") \n",
        "  plt.tight_layout(pad = 0) \n",
        "  \n",
        "  plt.show() "
      ],
      "execution_count": 0,
      "outputs": [
        {
          "output_type": "display_data",
          "data": {
            "image/png": "[encoded data removed]",
            "text/plain": [
              "<Figure size 576x576 with 1 Axes>"
            ]
          },
          "metadata": {
            "tags": []
          }
        }
      ]
    },
    {
      "cell_type": "code",
      "metadata": {
        "id": "mE4TVgsQfm-4",
        "colab_type": "code",
        "outputId": "b2257318-63e5-448e-f205-d55bdb254f8c",
        "colab": {
          "base_uri": "https://localhost:8080/",
          "height": 318
        }
      },
      "source": [
        "if __name__ == \"__main__\":\n",
        "  # Word cloud for content , X-TO, X-From\n",
        "  stop_words = [\"CN\", \"OU\", \"NA\"] + list(STOPWORDS)\n",
        "  wordcloud = WordCloud(max_words=500,\n",
        "                        background_color ='white', \n",
        "                        stopwords = stop_words , \n",
        "                        max_font_size = 50,\n",
        "                        min_font_size = 10).generate(df['X-From'].to_string()) \n",
        "  # plot the WordCloud image                        \n",
        "  plt.figure(figsize = (8, 8), facecolor = None) \n",
        "  plt.imshow(wordcloud) \n",
        "  plt.axis(\"off\") \n",
        "  plt.tight_layout(pad = 0) \n",
        "  \n",
        "  plt.show() "
      ],
      "execution_count": 0,
      "outputs": [
        {
          "output_type": "display_data",
          "data": {
            "image/png": "[encoded data removed]",
            "text/plain": [
              "<Figure size 576x576 with 1 Axes>"
            ]
          },
          "metadata": {
            "tags": []
          }
        }
      ]
    },
    {
      "cell_type": "code",
      "metadata": {
        "id": "6SOs1J2zfm7_",
        "colab_type": "code",
        "outputId": "466d3e00-6654-44ce-a213-78020769e93d",
        "colab": {
          "base_uri": "https://localhost:8080/",
          "height": 318
        }
      },
      "source": [
        "if __name__ == \"__main__\":\n",
        "  # Word cloud for content , X-TO, X-From\n",
        "  stop_words = [\"CN\", \"NA\", \"OU\"] + list(STOPWORDS)\n",
        "  wordcloud = WordCloud(max_words=500,\n",
        "                background_color ='white', \n",
        "                stopwords = stop_words , \n",
        "                max_font_size = 50,\n",
        "                min_font_size = 10).generate(df['X-To'].to_string()) \n",
        "  # plot the WordCloud image                        \n",
        "  plt.figure(figsize = (8, 8), facecolor = None) \n",
        "  plt.imshow(wordcloud) \n",
        "  plt.axis(\"off\") \n",
        "  plt.tight_layout(pad = 0) \n",
        "  \n",
        "  plt.show() "
      ],
      "execution_count": 0,
      "outputs": [
        {
          "output_type": "display_data",
          "data": {
            "image/png": "[encoded data removed]",
            "text/plain": [
              "<Figure size 576x576 with 1 Axes>"
            ]
          },
          "metadata": {
            "tags": []
          }
        }
      ]
    },
    {
      "cell_type": "code",
      "metadata": {
        "id": "Rt3J0e-Ofm6G",
        "colab_type": "code",
        "colab": {}
      },
      "source": [
        "# most frequent words\n",
        "def word_count(str):\n",
        "    ''' \n",
        "    Function that get string and counts each word in the string \n",
        "    '''\n",
        "    counts = dict()\n",
        "    words = str.split()\n",
        "\n",
        "    for word in words:\n",
        "        if word in counts:\n",
        "            counts[word] += 1\n",
        "        elif(len(word)>2):\n",
        "            counts[word] = 1\n",
        "    return counts"
      ],
      "execution_count": 0,
      "outputs": []
    },
    {
      "cell_type": "code",
      "metadata": {
        "id": "BJunNBmhEkkH",
        "colab_type": "code",
        "outputId": "6c539f87-c577-477d-831b-a4fc4d19b38f",
        "colab": {
          "base_uri": "https://localhost:8080/",
          "height": 1000
        }
      },
      "source": [
        "if __name__ == \"__main__\":\n",
        "  # moost 100 frequent words in content\n",
        "  most_frequent_words = Counter(word_count(str(df['content'].to_string()))).most_common(100)\n",
        "  print('\\n'.join(map(str, most_frequent_words)))\n",
        "  most_frequent_words = None\n",
        "  del(most_frequent_words)\n",
        "  gc.collect()\n"
      ],
      "execution_count": 0,
      "outputs": [
        {
          "output_type": "stream",
          "text": [
            "('the', 124595)\n",
            "('...', 77042)\n",
            "('you', 58753)\n",
            "('for', 45793)\n",
            "('Forwarded', 39777)\n",
            "('and', 34510)\n",
            "('have', 31234)\n",
            "('this', 27334)\n",
            "('are', 26403)\n",
            "('----------------------', 24975)\n",
            "('that', 23285)\n",
            "('with', 19638)\n",
            "('your', 19398)\n",
            "('will', 18052)\n",
            "('The', 18028)\n",
            "('Please', 16919)\n",
            "('-----Original', 13931)\n",
            "('Attached', 12836)\n",
            "('has', 12213)\n",
            "('Message-----\\\\nFrom:', 11827)\n",
            "('from', 11805)\n",
            "('attached', 10872)\n",
            "('was', 10079)\n",
            "('not', 9946)\n",
            "('please', 9604)\n",
            "('our', 9544)\n",
            "('Date:', 9406)\n",
            "('This', 9264)\n",
            "('HourAhead', 9068)\n",
            "('hour:', 9068)\n",
            "('know', 8623)\n",
            "('been', 8306)\n",
            "('just', 8131)\n",
            "('t...', 8128)\n",
            "('would', 8002)\n",
            "('a...', 7748)\n",
            "('\\\\n\\\\n', 7639)\n",
            "('see', 7608)\n",
            "('about', 7455)\n",
            "('-----', 7299)\n",
            "('get', 7271)\n",
            "('Dear', 7239)\n",
            "('Enron', 7176)\n",
            "('like', 7166)\n",
            "('out', 6847)\n",
            "('find', 6656)\n",
            "('can', 6390)\n",
            "('need', 6375)\n",
            "('Here', 6271)\n",
            "('all', 6126)\n",
            "('think', 6114)\n",
            "(\"I'm\", 6077)\n",
            "('following', 5885)\n",
            "('Thanks', 5816)\n",
            "('call', 5781)\n",
            "('meeting', 5378)\n",
            "('Start', 5375)\n",
            "('but', 5278)\n",
            "('received', 5202)\n",
            "('what', 5071)\n",
            "('You', 4878)\n",
            "('Vince', 4853)\n",
            "('th...', 4762)\n",
            "('some', 4540)\n",
            "('had', 4531)\n",
            "('Jeff', 4524)\n",
            "('new', 4491)\n",
            "('Ka...', 4442)\n",
            "('sent', 4361)\n",
            "('going', 4271)\n",
            "('draft', 4190)\n",
            "('send', 4092)\n",
            "(\"don't\", 3983)\n",
            "('o...', 3968)\n",
            "('email', 3924)\n",
            "('should', 3865)\n",
            "('Mark', 3835)\n",
            "('\\\\n\\\\nStart', 3796)\n",
            "('good', 3742)\n",
            "('deal', 3672)\n",
            "('last', 3669)\n",
            "('let', 3621)\n",
            "('any', 3608)\n",
            "('want', 3493)\n",
            "('one', 3475)\n",
            "('an...', 3406)\n",
            "('report', 3385)\n",
            "('time', 3380)\n",
            "('got', 3259)\n",
            "('the...', 3220)\n",
            "('Just', 3177)\n",
            "('w...', 3140)\n",
            "('s...', 3103)\n",
            "('list', 3098)\n",
            "('these', 3082)\n",
            "('there', 3074)\n",
            "('copy', 2961)\n",
            "('did', 2955)\n",
            "('wanted', 2937)\n",
            "(\"I'll\", 2937)\n"
          ],
          "name": "stdout"
        }
      ]
    },
    {
      "cell_type": "markdown",
      "metadata": {
        "id": "w1iu0pqFITZp",
        "colab_type": "text"
      },
      "source": [
        "- From the word cloud of content it was not that clear that which words are more frequent so above we printed to 50 most frequent words and we can see that it contains many unwantes pattern like '...','----------------------','\\\\n\\\\n'etc in it that we will remove while cleaning the text"
      ]
    },
    {
      "cell_type": "code",
      "metadata": {
        "id": "0-RM2QmuQaRt",
        "colab_type": "code",
        "outputId": "e6e31c3f-31c5-4240-9518-699e57819dcb",
        "colab": {
          "base_uri": "https://localhost:8080/",
          "height": 70
        }
      },
      "source": [
        "if __name__ == \"__main__\":\n",
        "  #check for the rows that contains ---------------------- Forwarded\"\n",
        "  df_temp = df['content'][df['content'].str.contains(\"---------------------- Forwarded\")]\n",
        "  print(\"No of raws that contains Forwarded mails are {}\".format(df_temp.shape[0]))\n",
        "\n",
        "  #check for the rows that contains any file name in text\n",
        "  extention_list = ['.doc', '.xls','.csv','.ppt','.pst','.nsf']\n",
        "  df_temp = df['content'][df['content'].str.contains('|'.join(extention_list))]\n",
        "  print(\"No of raws that has attachment file name are {}\".format(df_temp.shape[0]))\n",
        "\n",
        "  # check for the intersection of above both means how many rows that contains file name in text but is not forwarded mail\n",
        "  df_temp = df_temp[~df_temp.str.contains(\"---------------------- Forwarded\")]\n",
        "  print(\"No of raws that has attachment file name and are not forwarded mails are {}\".format(df_temp.shape[0]))"
      ],
      "execution_count": 0,
      "outputs": [
        {
          "output_type": "stream",
          "text": [
            "No of raws that contains Forwarded mails are 80823\n",
            "No of raws that has attachment file name are 89253\n",
            "No of raws that has attachment file name and are not forwarded mails are 70154\n"
          ],
          "name": "stdout"
        }
      ]
    },
    {
      "cell_type": "code",
      "metadata": {
        "id": "MH3Q4bJ8W6Es",
        "colab_type": "code",
        "outputId": "86a59f9a-6d94-472a-b077-55beaf27de15",
        "colab": {
          "base_uri": "https://localhost:8080/",
          "height": 407
        }
      },
      "source": [
        "def max_forwarded(sent):\n",
        "  \"\"\"\n",
        "  count how many times mail contains Forwarded by in mails that contains \"---------------------- Forwarded\"\n",
        "  \"\"\"\n",
        "  no_of_forward = len(re.findall('Forwarded by', sent))\n",
        "  return(no_of_forward)\n",
        "\n",
        "if __name__ == \"__main__\":\n",
        "\n",
        "  # count Forwarded by in text\n",
        "  forward_count = np.asarray(df['content'][df['content'].str.contains(\"---------------------- Forwarded\")].apply(max_forwarded))\n",
        "  \n",
        "  # Printing percentile of count\n",
        "  for i in range(0,110,10):\n",
        "    print(\"{}th- percentile of forward_count is {}\".format(i,np.percentile(forward_count, i)))\n",
        "    print(\"=\"*40)\n",
        "  #forward_count =None\n",
        "  #del(forward_count)\n",
        "  #gc.collect()"
      ],
      "execution_count": 0,
      "outputs": [
        {
          "output_type": "stream",
          "text": [
            "0th- percentile of forward_count is 0.0\n",
            "========================================\n",
            "10th- percentile of forward_count is 1.0\n",
            "========================================\n",
            "20th- percentile of forward_count is 1.0\n",
            "========================================\n",
            "30th- percentile of forward_count is 1.0\n",
            "========================================\n",
            "40th- percentile of forward_count is 1.0\n",
            "========================================\n",
            "50th- percentile of forward_count is 1.0\n",
            "========================================\n",
            "60th- percentile of forward_count is 1.0\n",
            "========================================\n",
            "70th- percentile of forward_count is 1.0\n",
            "========================================\n",
            "80th- percentile of forward_count is 2.0\n",
            "========================================\n",
            "90th- percentile of forward_count is 2.0\n",
            "========================================\n",
            "100th- percentile of forward_count is 68.0\n",
            "========================================\n"
          ],
          "name": "stdout"
        }
      ]
    },
    {
      "cell_type": "markdown",
      "metadata": {
        "id": "dS-t0Cisa4jv",
        "colab_type": "text"
      },
      "source": [
        "- From above it is clear that 90% of rows that contains \"---------------------- Forwarded\" aka forwarded mails contains max 2 other forwarded message in same mail\n",
        "- And 70% contains only one forwarded by in mail"
      ]
    },
    {
      "cell_type": "markdown",
      "metadata": {
        "id": "7aQkaDh6sA_F",
        "colab_type": "text"
      },
      "source": [
        "# <font color =#0066cc> Take Look at emails </font>"
      ]
    },
    {
      "cell_type": "code",
      "metadata": {
        "id": "P0nwgTrjuWnl",
        "colab_type": "code",
        "colab": {}
      },
      "source": [
        "df_new = pd.read_csv(dirName + '/all_subject_and_msg.csv')"
      ],
      "execution_count": 0,
      "outputs": []
    },
    {
      "cell_type": "code",
      "metadata": {
        "id": "e2WabRv9uYdg",
        "colab_type": "code",
        "outputId": "5fb172b1-4d8f-4c01-eb35-98eb3f2463d2",
        "colab": {
          "base_uri": "https://localhost:8080/",
          "height": 34
        }
      },
      "source": [
        "print(\"total null values in datafream is \",df_new['content'].isnull().sum())"
      ],
      "execution_count": 0,
      "outputs": [
        {
          "output_type": "stream",
          "text": [
            "total null values in datafream is  0\n"
          ],
          "name": "stdout"
        }
      ]
    },
    {
      "cell_type": "code",
      "metadata": {
        "id": "truFb9hhZ2sG",
        "colab_type": "code",
        "outputId": "ceca5dad-e547-46fb-92b6-e693ffc766f1",
        "colab": {
          "base_uri": "https://localhost:8080/",
          "height": 1000
        }
      },
      "source": [
        "if __name__ == \"__main__\":\n",
        "  df_new = pd.read_csv(dirName + '/all_subject_and_msg.csv')\n",
        "  df_new['content'].dropna(inplace = True)\n",
        "  df_temp = df_new[df_new['content'].str.contains(\"Outlook Migration Team@ENRON\")]\n",
        "  print(\"No of rows containg Outlook Migration are \"+str(df_temp.shape[0]))\n",
        "  print(df_temp['content'].iloc[0])"
      ],
      "execution_count": 0,
      "outputs": [
        {
          "output_type": "stream",
          "text": [
            "No of rows containg Outlook Migration are 99\n",
            "\n",
            "---------------------- Forwarded by Phillip K Allen/HOU/ECT on 05/01/2001 0=\n",
            "2:14 PM ---------------------------\n",
            "\n",
            "\n",
            "Outlook Migration Team@ENRON\n",
            "04/27/2001 01:01 PM\n",
            "To:=09Allison Horton/NA/Enron@ENRON, Amir Baig/NA/Enron@ENRON, Brandon Bang=\n",
            "erter/NA/Enron@Enron, Brian Ellis/Corp/Enron@Enron, Charles Philpott/HR/Cor=\n",
            "p/Enron@ENRON, Chris P Wood/NA/Enron@Enron, Chris Tull/HOU/ECT@ECT, Dale Sm=\n",
            "ith/Corp/Enron@ENRON, Dave June/NA/Enron@ENRON, Donald Sutton/NA/Enron@Enro=\n",
            "n, Felicia Buenrostro/HR/Corp/Enron@ENRON, Johnna Morrison/Corp/Enron@ENRON=\n",
            ", Joe Dorn/Corp/Enron@ENRON, Kathryn Schultea/HR/Corp/Enron@ENRON, Leon McD=\n",
            "owell/NA/Enron@ENRON, Leticia Barrios/Corp/Enron@ENRON, Milton Brown/HR/Cor=\n",
            "p/Enron@ENRON, Raj Perubhatla/Corp/Enron@Enron, Shekar Komatireddy/NA/Enron=\n",
            "@Enron, Andrea Yowman/Corp/Enron@ENRON, Angie O'Brian/HR/Corp/Enron@ENRON, =\n",
            "Bonne Castellano/HR/Corp/Enron@ENRON, Gwynn Gorsuch/NA/Enron@ENRON, Jo Ann =\n",
            "Matson/Corp/Enron@ENRON, LaQuitta Washington/HR/Corp/Enron@ENRON, Rick John=\n",
            "son/HR/Corp/Enron@ENRON, Sandra Lighthill/HR/Corp/Enron@ENRON, Valeria A Ho=\n",
            "pe/HOU/ECT@ECT, Charlotte Brown/HR/Corp/Enron@ENRON, Ronald Fain/HR/Corp/En=\n",
            "ron@ENRON, Gary Fitch/HR/Corp/Enron@Enron, Anna Harris/HR/Corp/Enron@ENRON,=\n",
            " Keith Jones/HR/Corp/Enron@ENRON, Kristi Monson/NA/Enron@Enron, Bobbie McNi=\n",
            "el/HR/Corp/Enron@ENRON, John Stabler/HR/Corp/Enron@ENRON, Michelle Prince/N=\n",
            "A/Enron@Enron, James Gramke/NA/Enron@ENRON, Blair Hicks/NA/Enron@ENRON, Jen=\n",
            "nifer Johnson/Contractor/Enron Communications@Enron Communications, Jim Lit=\n",
            "tle/Enron@EnronXGate, Dale Lukert/NA/Enron@ENRON, Donald Martin/NA/Enron@EN=\n",
            "RON, Andrew Mattei/NA/Enron@ENRON, Darvin Mitchell/NA/Enron@ENRON, Mark Old=\n",
            "ham/NA/Enron@ENRON, Wesley Pearson/NA/Enron@ENRON, Ramon Pizarro/ENRON_DEVE=\n",
            "LOPMENT@ENRON_DEVELOPMENT, Natalie Rau/NA/Enron@ENRON, William Redick/NA/En=\n",
            "ron@ENRON, Mark A Richardson/NA/Enron@ENRON, Joseph Schnieders/NA/Enron@ENR=\n",
            "ON, Gary Simmons/NA/Enron@Enron, Delaney Trimble/NA/Enron@ENRON, David Upto=\n",
            "n/NA/Enron@ENRON, Mike Boegler/HR/Corp/Enron@ENRON, Lyndel Click/HR/Corp/En=\n",
            "ron@ENRON, Gabriel Franco/NA/Enron@Enron, Randy Gross/HR/Corp/Enron@Enron, =\n",
            "Arthur Johnson/HR/Corp/Enron@Enron, Danny Jones/HR/Corp/Enron@ENRON, John O=\n",
            "gden/Houston/Eott@Eott, Edgar Ponce/NA/Enron@Enron, Tracy Pursifull/HR/Corp=\n",
            "/Enron@ENRON, Lance Stanley/HR/Corp/Enron@ENRON, Frank Ermis/HOU/ECT@ECT, J=\n",
            "ane M Tholt/HOU/ECT@ECT, Jay Reitmeyer/HOU/ECT@ECT, Keith Holst/HOU/ECT@ect=\n",
            ", Matthew Lenhart/HOU/ECT@ECT, Mike Grigsby/HOU/ECT@ECT, Monique Sanchez/HO=\n",
            "U/ECT@ECT, Phillip K Allen/HOU/ECT@ECT, Randall L Gay/HOU/ECT@ECT, Tori Kuy=\n",
            "kendall/HOU/ECT@ECT, Brenda H Fletcher/HOU/ECT@ECT, Jeanne Wukasch/Corp/Enr=\n",
            "on@ENRON, Mary Theresa Franklin/HOU/ECT@ECT, Mike Potter/NA/Enron@Enron, Na=\n",
            "talie Baker/HOU/ECT@ECT, Suzanne Calcagno/NA/Enron@Enron, Alvin Thompson/Co=\n",
            "rp/Enron@Enron, Cynthia Franklin/Corp/Enron@ENRON, Jesse Villarreal/HOU/ECT=\n",
            "@ECT, Joan Collins/HOU/EES@EES, Joe A Casas/HOU/ECT@ECT, Kelly Loocke/ENRON=\n",
            "@enronXgate, Lia Halstead/NA/Enron@ENRON, Meredith Homco/HOU/ECT@ECT, Rober=\n",
            "t Allwein/HOU/ECT@ECT, Scott Loving/NA/Enron@ENRON, Shanna Boudreaux/ENRON@=\n",
            "enronXgate, Steve Gillespie/Corp/Enron@ENRON, Tamara Carter/NA/Enron@ENRON,=\n",
            " Tracy Wood/NA/Enron@ENRON, Gabriel Fuzat/Enron Communications@Enron Commun=\n",
            "ications, Jack Netek/Enron Communications@Enron Communications, Lam Nguyen/=\n",
            "NA/Enron@Enron, Camille Gerard/Corp/Enron@ENRON, Craig Taylor/HOU/ECT@ECT, =\n",
            "Jessica Hangach/NYC/MGUSA@MGUSA, Kathy Gagel/NYC/MGUSA@MGUSA, Lisa Goulart/=\n",
            "NYC/MGUSA@MGUSA, Ruth Balladares/NYC/MGUSA@MGUSA, Sid Strutt/NYC/MGUSA@MGUS=\n",
            "A\n",
            "cc:=09=20\n",
            "Subject:=094-URGENT - OWA Please print this now.\n",
            "\n",
            "\n",
            "Current Notes User:\n",
            "\n",
            "REASONS FOR USING OUTLOOK WEB ACCESS (OWA)\n",
            "\n",
            "1. Once your mailbox has been migrated from Notes to Outlook, the Outlook c=\n",
            "lient will be configured on your computer.\n",
            "After migration of your mailbox, you will not be able to send or recieve ma=\n",
            "il via Notes, and you will not be able to start using Outlook until it is c=\n",
            "onfigured by the Outlook Migration team the morning after your mailbox is m=\n",
            "igrated.  During this period, you can use Outlook Web Access (OWA) via your=\n",
            " web browser (Internet Explorer 5.0) to read and send mail.\n",
            "\n",
            "PLEASE NOTE:  Your calendar entries, personal address book, journals, and T=\n",
            "o-Do entries imported from Notes will not be available until the Outlook cl=\n",
            "ient is configured on your desktop.\n",
            "\n",
            "2. Remote access to your mailbox.\n",
            "After your Outlook client is configured, you can use Outlook Web Access (OW=\n",
            "A) for remote access to your mailbox.\n",
            "\n",
            "PLEASE NOTE:  At this time, the OWA client is only accessible while connect=\n",
            "ing to the Enron network (LAN).  There are future plans to make OWA availab=\n",
            "le from your home or when traveling abroad.\n",
            "\n",
            "HOW TO ACCESS OUTLOOK WEB ACCESS (OWA)\n",
            "\n",
            "Launch Internet Explorer 5.0, and in the address window type:  http://nahou=\n",
            "-msowa01p/exchange/john.doe\n",
            "\n",
            "Substitute \"john.doe\" with your first and last name, then click ENTER.  You=\n",
            " will be prompted with a sign in box as shown below.  Type in \"corp/your us=\n",
            "er id\" for the user name and your NT password to logon to OWA and click OK.=\n",
            "  You will now be able to view your mailbox.\n",
            "\n",
            "=09\n",
            "\n",
            "PLEASE NOTE:  There are some subtle differences in the functionality betwee=\n",
            "n the Outlook and OWA clients.  You will not be able to do many of the thin=\n",
            "gs in OWA that you can do in Outlook.  Below is a brief list of *some* of t=\n",
            "he functions NOT available via OWA:\n",
            "\n",
            "Features NOT available using OWA:\n",
            "\n",
            "-  Tasks\n",
            "-  Journal\n",
            "-  Spell Checker\n",
            "-  Offline Use\n",
            "-  Printing Templates\n",
            "-  Reminders\n",
            "-  Timed Delivery\n",
            "-  Expiration\n",
            "-  Outlook Rules\n",
            "-  Voting, Message Flags and Message Recall\n",
            "-  Sharing Contacts with others\n",
            "-  Task Delegation\n",
            "-  Direct Resource Booking\n",
            "-  Personal Distribution Lists\n",
            "\n",
            "QUESTIONS OR CONCERNS?\n",
            "\n",
            "If you have questions or concerns using the OWA client, please contact the =\n",
            "Outlook 2000 question and answer Mailbox at:\n",
            "\n",
            "=09Outlook.2000@enron.com\n",
            "\n",
            "Otherwise, you may contact the Resolution Center at:\n",
            "\n",
            "=09713-853-1411\n",
            "\n",
            "Thank you,\n",
            "\n",
            "Outlook 2000 Migration Team\n",
            "\n"
          ],
          "name": "stdout"
        }
      ]
    },
    {
      "cell_type": "code",
      "metadata": {
        "id": "p2cgyh4BtHL_",
        "colab_type": "code",
        "outputId": "9bbba55d-6b5e-464a-92a0-10037e2daeae",
        "colab": {
          "base_uri": "https://localhost:8080/",
          "height": 1000
        }
      },
      "source": [
        "if __name__ == \"__main__\":\n",
        "  df_temp = df_new[df_new['content'].str.contains(\"Trade Counts and Volume\")]\n",
        "  print(\"No of rows containg Trade Counts are \"+str(df_temp.shape[0]))\n",
        "  print(df_temp['content'].iloc[0])"
      ],
      "execution_count": 0,
      "outputs": [
        {
          "output_type": "stream",
          "text": [
            "No of rows containg Trade Counts are 46\n",
            "EnronOnline\n",
            "Trade Counts and Volume for May 14, 2001 \n",
            "\t\t\tEXTERNAL\t\tINTERNAL\t\tTOTAL\t\t\n",
            "COUNTRY\tCOMMODITY\tCATEGORY\tCOUNT\tQTY\tCOUNT\tQTY\tCOUNT\tQTY\tUNIT OF MEASURE\n",
            "Austria\tPower\tPhysical\t        13 \t           10,300 \t        -   \t                 \n",
            "  -   \t        13 \t           10,300 \tMWh\n",
            "Belgium\tNatural Gas\tPhysical\t        10 \t      1,065,000 \t        -   \t                \n",
            "   -   \t        10 \t      1,065,000 \tMMBtu\n",
            "Canada\tNatural Gas\tFinancial\t          7 \t      3,655,000 \t          1 \t         \n",
            "155,000 \t          8 \t      3,810,000 \tMMBtu\n",
            "Canada\tNatural Gas\tPhysical\t      235 \t    14,076,271 \t        -   \t                   \n",
            "-   \t      235 \t    14,076,271 \tMMBtu\n",
            "Canada\tPower\tFinancial\t        18 \t           20,642 \t        -   \t                 \n",
            "  -   \t        18 \t           20,642 \tMWh (Canada)\n",
            "France\tPower\tPhysical\t          1 \t             4,741 \t        -   \t                \n",
            "   -   \t          1 \t             4,741 \tMWh\n",
            "Germany\tPower\tPhysical\t        68 \t         239,804 \t        -   \t                  \n",
            " -   \t        68 \t         239,804 \tMWh\n",
            "Netherlands\tPower\tPhysical\t          1 \t                600 \t        -   \t          \n",
            "         -   \t          1 \t                600 \tMWh\n",
            "Norway\tPower\tFinancial\t        23 \t         441,192 \t        -   \t                  \n",
            " -   \t        23 \t         441,192 \tMWh\n",
            "Singapore\tCrude\tFinancial\t          1 \t           50,000 \t          1 \t           \n",
            "50,000 \t          2 \t         100,000 \tBarrel\n",
            "Singapore\tOil Products\tFinancial\t          1 \t         150,000 \t        -   \t               \n",
            "    -   \t          1 \t         150,000 \tBarrel\n",
            "Switzerland\tPower\tPhysical\t        26 \t           36,593 \t        -   \t             \n",
            "      -   \t        26 \t           36,593 \tMWh\n",
            "United Kingdom\tCrude\tFinancial\t          3 \t         350,000 \t          2 \t           \n",
            "50,000 \t          5 \t         400,000 \tBarrel\n",
            "United Kingdom\tLPG\tFinancial\t          3 \t           10,000 \t        -   \t                 \n",
            "  -   \t          3 \t           10,000 \tmt \n",
            "United Kingdom\tMetals\tFinancial\t      500 \t           10,830 \t        81 \t             \n",
            "1,625 \t      581 \t           12,455 \tLME Registered mt Lot\n",
            "United Kingdom\tNatural Gas\tPhysical NBP\t      135 \t    19,881,050 \t          2 \t           \n",
            "95,000 \t      137 \t    19,976,050 \tMMBtu\n",
            "United Kingdom\tOil Products\tFinancial\t          1 \t           22,350 \t        -   \t                \n",
            "   -   \t          1 \t           22,350 \tBarrel per month\n",
            "United Kingdom\tOil Products\tFinancial\t          3 \t           15,000 \t        -   \t                \n",
            "   -   \t          3 \t           15,000 \tIPE mt\n",
            "United Kingdom\tPower\tPhysical\t        13 \t         846,720 \t        -   \t                  \n",
            " -   \t        13 \t         846,720 \tMWh\n",
            "United Kingdom\tSea Freight\tFinancial\t          1 \t                  15 \t          1 \t             \n",
            "     15 \t          2 \t                  30 \tSea Freight Lots\n",
            "USA\tCoal\tPhysical\t          1 \t                    4 \t        -   \t                 \n",
            "  -   \t          1 \t                    4 \tCOAL-Tons/Barges/Mnth\n",
            "USA\tCrude\tFinancial\t      162 \t      7,225,000 \t        97 \t      3,915,000 \t      \n",
            "259 \t    11,140,000 \tBarrel\n",
            "USA\tCrude\tFinancial Option\t          2 \t           75,000 \t          1 \t           50,000 \t\n",
            "          3 \t         125,000 \tBarrel\n",
            "USA\tCrude\tPhysical\t          8 \t      1,143,000 \t        -   \t                   \n",
            "-   \t          8 \t      1,143,000 \tBarrel\n",
            "USA\tEmissions\tPhysical\t          2 \t\t        -   \t\t          2 \t                   \n",
            "-   \tEmission allowance\n",
            "USA\tGas Pipeline Capacity\tPhysical\t          2 \t           20,000 \t        -   \t            \n",
            "       -   \t          2 \t           20,000 \tMMBtu\n",
            "USA\tLPG\tFinancial\t          2 \t           55,000 \t        -   \t                   \n",
            "-   \t          2 \t           55,000 \tGallon\n",
            "USA\tLPG\tPhysical\t          1 \t             5,000 \t        -   \t                   \n",
            "-   \t          1 \t             5,000 \tGallon\n",
            "USA\tLumber\tPhysical\t          4 \t                  14 \t        -   \t                \n",
            "   -   \t          4 \t                  14 \tThousand Board Feet\n",
            "USA\tNatural Gas\tFinancial\t      874 \t  337,955,873 \t      389 \t  126,439,578 \t   1,263 \t \n",
            " 464,395,451 \tMMBtu\n",
            "USA\tNatural Gas\tFinancial Option\t          9 \t      9,010,000 \t          3 \t      3,000,000 \t \n",
            "       12 \t    12,010,000 \tMMBtu\n",
            "USA\tNatural Gas\tPhysical\t   1,808 \t    16,749,218 \t        41 \t         781,899 \t   \n",
            "1,849 \t    17,531,117 \tMMBtu\n",
            "USA\tOil Products\tFinancial\t        38 \t         854,524 \t          3 \t           30,715 \t    \n",
            "    41 \t         885,239 \tBarrel\n",
            "USA\tPaper\tPhysical\t          1 \t                  40 \t        -   \t                 \n",
            "  -   \t          1 \t                  40 \tMetric Tons (+/- 5%)\n",
            "USA\tPetchems\tFinancial\t          1 \t           30,000 \t        -   \t                \n",
            "   -   \t          1 \t           30,000 \tGallon\n",
            "USA\tPower\tFinancial\t        27 \t         244,469 \t        10 \t           67,530 \t    \n",
            "    37 \t         311,999 \tMWh\n",
            "USA\tPower\tPhysical\t      427 \t      4,371,728 \t      154 \t      2,483,741 \t      581 \t\n",
            "      6,855,468 \tMWh\n",
            "USA\tRate and Currency\tFinancial\t        -   \t                   -   \t          3 \t      \n",
            "5,900,000 \t          3 \t      5,900,000 \tEUR/1\n",
            "USA\tRate and Currency\tFinancial\t        -   \t                   -   \t          2 \t      \n",
            "4,000,000 \t          2 \t      4,000,000 \tFX USD\n",
            "USA\tRate and Currency\tFinancial\t        -   \t                   -   \t          3 \t      \n",
            "1,090,000 \t          3 \t      1,090,000 \tGBP/1\n",
            "USA\tRate and Currency\tFinancial\t        -   \t                   -   \t          3 \t      \n",
            "1,154,000 \t          3 \t      1,154,000 \tUSD/1\n",
            "USA\tWeather\tFinancial\t          6 \t                  14 \t        -   \t              \n",
            "     -   \t          6 \t                  14 \tCooling Degree Day\n",
            "\t\t\t   4,438 \t\t      797 \t\t   5,235 \t\t\n"
          ],
          "name": "stdout"
        }
      ]
    },
    {
      "cell_type": "markdown",
      "metadata": {
        "id": "C-rBgcGnuelD",
        "colab_type": "text"
      },
      "source": [
        "### Observation:\n",
        "- Aftre walking through extrected data we came to know that there is some data which is not usefull for our task which contain text from outlook team and Trade Counts so we will remove them"
      ]
    },
    {
      "cell_type": "code",
      "metadata": {
        "id": "oUjoAay1vIvC",
        "colab_type": "code",
        "outputId": "bd2d3b94-49b6-436f-93b8-dbdde4282398",
        "colab": {
          "base_uri": "https://localhost:8080/",
          "height": 34
        }
      },
      "source": [
        "if __name__ == \"__main__\":\n",
        "  df_new = pd.read_csv(dirName + '/all_subject_and_msg.csv')\n",
        "  final_df = df_new[~df_new['content'].str.contains(\"Trade Counts and Volume\")]\n",
        "  final_df = final_df[~final_df['content'].str.contains(\"Outlook Migration Team@ENRON\")]\n",
        "  final_df.to_csv(dirName + '/all_subject_and_msg.csv',index = False)\n",
        "  print(final_df.shape)\n"
      ],
      "execution_count": 0,
      "outputs": [
        {
          "output_type": "stream",
          "text": [
            "(517256, 16)\n"
          ],
          "name": "stdout"
        }
      ]
    },
    {
      "cell_type": "markdown",
      "metadata": {
        "id": "Lz85NlS3eh-_",
        "colab_type": "text"
      },
      "source": [
        "# <font color =#0066cc> Data Cleaning and Pre Processing </font>"
      ]
    },
    {
      "cell_type": "code",
      "metadata": {
        "id": "zulXN-3wvdWz",
        "colab_type": "code",
        "colab": {}
      },
      "source": [
        "#https://stackoverflow.com/questions/35092720/verbosity-pandas-apply\n",
        "\n",
        "def percentage_coroutine(to_process, print_on_percent = 0.1):\n",
        "    '''\n",
        "    helper function to Display Verbocity for the .apply function to keep track of progress\n",
        "    '''\n",
        "    print(\"Starting progress percentage monitor\")\n",
        "\n",
        "    processed = 0\n",
        "    count = 0\n",
        "    print_count = to_process*print_on_percent\n",
        "    while True:\n",
        "        yield\n",
        "        processed += 1\n",
        "        count += 1\n",
        "        if (count >= print_count):\n",
        "            count = 0\n",
        "            pct = (float(processed)/float(to_process))*100\n",
        "\n",
        "            print (\"{0:.2f}% finished\".format(pct))\n",
        "\n",
        "def trace_progress(func, progress = None):\n",
        "    '''\n",
        "    Display Verbocity for the .apply function to keep track of progress\n",
        "    '''\n",
        "    def callf(*args, **kwargs):\n",
        "        if (progress is not None):\n",
        "            progress.send(None)\n",
        "\n",
        "        return func(*args, **kwargs)\n",
        "\n",
        "    return callf"
      ],
      "execution_count": 0,
      "outputs": []
    },
    {
      "cell_type": "code",
      "metadata": {
        "id": "FPhEL37ui3lX",
        "colab_type": "code",
        "colab": {}
      },
      "source": [
        "def extract_email(sent):\n",
        "  sentences = sent.split('\\n')\n",
        "  indices_1 = [i for i, s in enumerate(sentences) if any(c in s for c in ('---------------------- Forwarded by','-----Original Message-----','Subject:','Sincerely,',\\\n",
        "                                                                        'Sincerely yours,','Thank you,','Thanks.',\\\n",
        "                                                                        'Best regards,','Gratefully yours,','Best regards,','regards,',\\\n",
        "                                                                        'Thank you for your assistance.','Thank you for your assistance',\\\n",
        "                                                                        'Thank you for your help'))]\n",
        "  temp_sent = \"\"\n",
        "  if len(indices_1)>1:\n",
        "    if any(sub_string in sentences[indices_1[0]] for sub_string in ('---------------------- Forwarded by',\\\n",
        "                                                                  '-----Original Message-----')):\n",
        "        for i in range(1,len(indices_1),2):\n",
        "          if i < len(indices_1)-1:\n",
        "            start = indices_1[i] +1\n",
        "            end = indices_1[i+1] \n",
        "            temp_sent = temp_sent + ' '.join(sentences[start:end])\n",
        "          else:\n",
        "            start = indices_1[i]+1\n",
        "            temp_sent = temp_sent + ' '.join(sentences[start:])\n",
        "    elif any(sub_string in sentences[indices_1[0]] for sub_string in ('Subject:')):\n",
        "        for i in range(0,len(indices_1),2):\n",
        "          if i < len(indices_1)-1:\n",
        "            start = indices_1[i] +1\n",
        "            end = indices_1[i+1] \n",
        "            temp_sent = temp_sent + ' '.join(sentences[start:end])\n",
        "          else:\n",
        "            start = indices_1[i]+1\n",
        "            temp_sent = temp_sent + ' '.join(sentences[start:])\n",
        "  elif len(indices_1) == 1:\n",
        "    if any(sub_string in sentences[indices_1[0]] for sub_string in ('---------------------- Forwarded by',\\\n",
        "                                                                  '-----Original Message-----',\\\n",
        "                                                                  'Subject:')):\n",
        "      start = indices_1[0] + 1\n",
        "      temp_sent = temp_sent + ' '.join(sentences[start:])\n",
        "    else:\n",
        "      stop = indices_1[0]+1\n",
        "      temp_sent = temp_sent + ' '.join(sentences[:stop])\n",
        "  else:\n",
        "    temp_sent = temp_sent + ' '.join(sentences[:])\n",
        "  return(temp_sent)"
      ],
      "execution_count": 0,
      "outputs": []
    },
    {
      "cell_type": "code",
      "metadata": {
        "id": "Iqo_vcRfsTnI",
        "colab_type": "code",
        "colab": {}
      },
      "source": [
        "def extract_text_from_different_format():\n",
        "  '''\n",
        "  extrect text from emails with diffrent formats\n",
        "  '''\n",
        "  df = pd.read_csv(dirName + '/all_subject_and_msg.csv')\n",
        "  print(\"main df shape\"+str(df.shape))\n",
        "  co = percentage_coroutine(df.shape[0])\n",
        "  # Extracting text from mails containing \"Forwarded by\"\n",
        "  df['content'] = df['content'].apply(trace_progress(extract_email,progress=co))\n",
        "  \n",
        "  df.to_csv(dirName + '/all_subject_and_msg_cleaned.csv',index=False)\n",
        "  print(df.shape)\n",
        "  print(\"File saved\")\n",
        "  df = None\n",
        "  del(df)\n",
        "  gc.collect()"
      ],
      "execution_count": 0,
      "outputs": []
    },
    {
      "cell_type": "code",
      "metadata": {
        "id": "Jphz07NAeXXQ",
        "colab_type": "code",
        "outputId": "34342879-10fe-4eb8-9883-76c673031058",
        "colab": {
          "base_uri": "https://localhost:8080/",
          "height": 247
        }
      },
      "source": [
        "if __name__ == \"__main__\":\n",
        "  extract_text_from_different_format()"
      ],
      "execution_count": 0,
      "outputs": [
        {
          "output_type": "stream",
          "text": [
            "main df shape(517401, 16)\n",
            "Starting progress percentage monitor\n",
            "10.00% finished\n",
            "20.00% finished\n",
            "30.00% finished\n",
            "40.00% finished\n",
            "50.00% finished\n",
            "60.00% finished\n",
            "70.00% finished\n",
            "80.00% finished\n",
            "90.00% finished\n",
            "(517401, 16)\n",
            "File saved\n"
          ],
          "name": "stdout"
        }
      ]
    },
    {
      "cell_type": "code",
      "metadata": {
        "id": "1vwCBGVTzE8q",
        "colab_type": "code",
        "outputId": "3cee663a-7c4e-4f99-d46f-174ffacc4e2a",
        "colab": {
          "base_uri": "https://localhost:8080/",
          "height": 54
        }
      },
      "source": [
        "from nltk.tag.stanford import StanfordNERTagger\n",
        "st = StanfordNERTagger('stanford-ner-2015-04-20/classifiers/english.all.3class.distsim.crf.ser.gz','stanford-ner-2015-04-20/stanford-ner.jar')\n",
        "def remove_names(sent):\n",
        "'''\n",
        "  #Remove Human Names from Text\n",
        "'''\n",
        "  tokens = nltk.tokenize.word_tokenize(sent)\n",
        "  tags = st.tag(tokens)\n",
        "  sent = \"\"\n",
        "  for tag in tags:\n",
        "    if tag[1]!='PERSON':\n",
        "      sent  = sent + \" \" +tag[0]\n",
        "  return(sent)\n"
      ],
      "execution_count": 0,
      "outputs": [
        {
          "output_type": "execute_result",
          "data": {
            "text/plain": [
              "'\\n  tokens = nltk.tokenize.word_tokenize(sent)\\n  tags = st.tag(tokens)\\n  sent = \"\"\\n  for tag in tags:\\n    if tag[1]!=\\'PERSON\\':\\n      sent  = sent + \" \" +tag[0]\\n  return(sent)\\n'"
            ]
          },
          "metadata": {
            "tags": []
          },
          "execution_count": 14
        }
      ]
    },
    {
      "cell_type": "code",
      "metadata": {
        "id": "8OqszcpLaQjA",
        "colab_type": "code",
        "colab": {}
      },
      "source": [
        "def strip_sent(sent):\n",
        "  ''' \n",
        "  sentence have same space and punctuation at the start so this function will strip the sentence\n",
        "  '''\n",
        "  if len(sent)>4:\n",
        "    if sent[0] == \" \":\n",
        "      if sent[1] in [',','.']:\n",
        "        return(sent[3:])\n",
        "      else:\n",
        "        return(sent[1:])\n",
        "  else:\n",
        "    return(sent)"
      ],
      "execution_count": 0,
      "outputs": []
    },
    {
      "cell_type": "code",
      "metadata": {
        "id": "WLi3q1IVzrET",
        "colab_type": "code",
        "colab": {}
      },
      "source": [
        "def parallelize_dataframe(df, func):\n",
        "    '''\n",
        "    parallelize datafream for parallel processing\n",
        "    '''\n",
        "    df_split = np.array_split(df, 4)\n",
        "    pool = Pool(4)\n",
        "    df = pd.concat(pool.map(func, df_split))\n",
        "    pool.close()\n",
        "    pool.join()\n",
        "    return df"
      ],
      "execution_count": 0,
      "outputs": []
    },
    {
      "cell_type": "code",
      "metadata": {
        "id": "qIzf3LIB0szB",
        "colab_type": "code",
        "colab": {}
      },
      "source": [
        "def clean_data(df_temp):\n",
        "  '''\n",
        "  Removing Unwanted data and words from context\n",
        "  '''\n",
        "  if not path.exists(dirName + '/data_set_1.csv'):\n",
        "    \n",
        "    df_temp = df_temp['content'].to_frame()\n",
        "    print(\"Datafream ready to use\")\n",
        "    \n",
        "    # remove email_id\n",
        "    df_temp['content'] = df_temp['content'].apply(lambda x : re.sub('\\S+@\\S+',' ', x))\n",
        "    print(\"remove email_id Done\")\n",
        "\n",
        "    # remove URL\n",
        "    df_temp['content'] = df_temp['content'].apply(lambda x : re.sub(r'http\\S+', ' ', x))\n",
        "    print(\"remove URL Done\")\n",
        "\n",
        "    # remove Numeric\n",
        "    df_temp['content'] = df_temp['content'].apply(lambda x : re.sub('[0-9]',' ', x))\n",
        "    print(\"remove Numeric Done\")\n",
        "\n",
        "    #remove Attachment\n",
        "    extention_list = [\"\\S+\\.doc\",\"\\S+\\.csv\",\"\\S+\\.pst\",\"\\S+\\.ppt\",\"\\S+\\.nsf\",\"\\S+\\.dat\",\"\\S+\\.ost\",\".\\S+\\nst\",\"\\S+\\.nsf\",\"\\S+\\.xml\",\"\\S+\\.xls\",/n\n",
        "                      \"\\S+\\.sql\",\"\\S+\\.jar\",\"\\S+\\.bin\",\"\\S+\\.gif\",\"\\S+\\.jpeg\",\"\\S+\\.jpg\"]\n",
        "    p = re.compile('|'.join(extention_list))\n",
        "    df_temp['content'] = df_temp['content'].apply(lambda x : p.sub(\"\",x))\n",
        "    print(\"remove Attachment Done\")\n",
        "\n",
        "    #remove Punctuation\n",
        "    p = re.compile(\"[\" +re.escape('(#$%&*+-<=>@[\\\\]^_`{|}~\\t\\n:-)')+ \"]\") #re.escape(str) = add backslash to string for feeding it to regex as pattern. \n",
        "    df_temp['content'] = df_temp['content'].apply(lambda x : p.sub(\" \", x))#Return the new string.\n",
        "    print(\"remove Punctuation Done\")\n",
        "\n",
        "    # remove space before punctuation\n",
        "    df_temp['content'] = df_temp['content'].apply(lambda x : re.sub(r\"\\s+([?.!',])\", r'\\1', x)) #split at the space and replace space with whatever the pattern is there after space(r'\\1)\n",
        "    print(\"remove space before punctuation Done\")\n",
        "\n",
        "    #remove multi dot\n",
        "    multidots = re.compile(r'\\.{2,}') #min repetition 2 {m,n}\n",
        "    df_temp['content'] = df_temp['content'].apply(lambda x : multidots.sub('.', x))\n",
        "    print(\"remove multi dot Done\")\n",
        "\n",
        "    #remove multi punctuation\n",
        "    multipunt_ex = re.compile(r'!{2,}') #min repetition 2 {m,n}\n",
        "    df_temp['content'] = df_temp['content'].apply(lambda x : multipunt_ex.sub('!', x))\n",
        "    multipunt_qe = re.compile(r'\\?{2,}') #min repetition 2 {m,n}\n",
        "    df_temp['content'] = df_temp['content'].apply(lambda x : multipunt_qe.sub('?', x))\n",
        "    print(\"remove multi punctuation Done\")\n",
        "\n",
        "    #remove Name\n",
        "    co = percentage_coroutine(df_temp.shape[0])\n",
        "    co.__next__()\n",
        "\n",
        "    df_temp['content'] = df_temp['content'].apply(trace_progress(remove_names,progress=co))\n",
        "    print(\"remove Name Done\")\n",
        "\n",
        "    #remove extra white_space\n",
        "    df_temp['content'] = df_temp['content'].apply(lambda x : re.sub(' +', ' ',x))\n",
        "    print(\"remove extra white_space Done\")\n",
        "\n",
        "    #Strip Sentence\n",
        "    df_temp['content'] = df_temp['content'].apply(strip_sent)\n",
        "    print(\"Strip Sentence Done\")\n",
        "  \n",
        "    return(df_temp)\n",
        "  else:\n",
        "    print(\"File data_set_1.csv is already generated\")"
      ],
      "execution_count": 0,
      "outputs": []
    },
    {
      "cell_type": "code",
      "metadata": {
        "id": "CR_I7oSr06ST",
        "colab_type": "code",
        "outputId": "9ef89139-8730-4a75-e0a1-59e4a8b8d27a",
        "colab": {
          "base_uri": "https://localhost:8080/",
          "height": 798
        }
      },
      "source": [
        "if __name__ == \"__main__\":\n",
        "  df_temp = pd.read_csv(dirName + '/all_subject_and_msg_cleaned.csv')\n",
        "  df_temp.dropna(subset=['content'],inplace = True)\n",
        "\n",
        "  train = parallelize_dataframe(df_temp, clean_data) \n",
        "  train.to_csv(dirName+'/data_set_1.csv',index =False)\n",
        "  train = None\n",
        "  df_temp = None\n",
        "  del(train,df_temp)\n",
        "  gc.collect()"
      ],
      "execution_count": 0,
      "outputs": [
        {
          "output_type": "stream",
          "text": [
            "Datafream ready to use\n",
            "Datafream ready to use\n",
            "Datafream ready to use\n",
            "Datafream ready to use\n",
            "remove email_id Done\n",
            "remove URL Done\n",
            "remove email_id Done\n",
            "remove URL Done\n",
            "remove email_id Done\n",
            "remove Numeric Done\n",
            "remove URL Done\n",
            "remove email_id Done\n",
            "remove Numeric Done\n",
            "remove URL Done\n",
            "remove Numeric Done\n",
            "remove Numeric Done\n",
            "remove Attachment Done\n",
            "remove Punctuation Done\n",
            "remove Attachment Done\n",
            "remove Punctuation Done\n",
            "remove space before punctuation Done\n",
            "remove multi dot Done\n",
            "remove multi punctuation Done\n",
            "remove Attachment Done\n",
            "remove Punctuation Done\n",
            "remove Attachment Done\n",
            "remove extra white_space Done\n",
            "Strip Sentence Done\n",
            "remove Punctuation Done\n",
            "remove space before punctuation Done\n",
            "remove multi dot Done\n",
            "remove space before punctuation Done\n",
            "remove multi punctuation Done\n",
            "remove multi dot Done\n",
            "remove multi punctuation Done\n",
            "remove extra white_space Done\n",
            "Strip Sentence Done\n",
            "remove extra white_space Done\n",
            "Strip Sentence Done\n",
            "remove space before punctuation Done\n",
            "remove multi dot Done\n",
            "remove multi punctuation Done\n",
            "remove extra white_space Done\n",
            "Strip Sentence Done\n"
          ],
          "name": "stdout"
        }
      ]
    },
    {
      "cell_type": "markdown",
      "metadata": {
        "colab_type": "text",
        "id": "7ZM6yEnJFY7q"
      },
      "source": [
        "### <font color =#0066cc>split email to sentences</font>"
      ]
    },
    {
      "cell_type": "code",
      "metadata": {
        "id": "NdqWs4e1628Z",
        "colab_type": "code",
        "outputId": "671d3563-1378-4ed2-efd5-3f9f8d7a4018",
        "colab": {
          "base_uri": "https://localhost:8080/",
          "height": 70
        }
      },
      "source": [
        "if __name__ == \"__main__\":\n",
        "  df_temp = pd.read_csv(dirName+'/data_set_1.csv')\n",
        "  print(\"Shape before sentence tokenizer {}\".format(df_temp.shape))\n",
        "  df_temp.dropna(subset=['content'],inplace = True)\n",
        "  print(\"Shape after dropna {}\".format(df_temp.shape))\n",
        "  sentences = []\n",
        "  for sent in df_temp['content']:\n",
        "    tokens = sent_tokenize(sent)\n",
        "    sentences.extend(tokens)\n",
        "    tokens = None\n",
        "  df_temp = pd.DataFrame(sentences,columns=['content'])\n",
        "  print(\"Shape after sentence tokenizer {}\".format(df_temp.shape))\n",
        "  df_temp['length'] = list(df_temp['content'].apply(lambda x:len(x)))\n",
        "  df_temp.to_csv(dirName+'/final_data_set.csv',index = False) \n",
        "  #garbage collection\n",
        "  df_temp = None\n",
        "  sentences = None\n",
        "  tokens = None\n",
        "  del(df_temp)\n",
        "  del(sentences)\n",
        "  gc.collect()"
      ],
      "execution_count": 0,
      "outputs": [
        {
          "output_type": "stream",
          "text": [
            "Shape before sentence tokenizer (507014, 1)\n",
            "Shape after dropna (250400, 1)\n",
            "Shape after sentence tokenizer (2833415, 1)\n"
          ],
          "name": "stdout"
        }
      ]
    },
    {
      "cell_type": "code",
      "metadata": {
        "id": "D6nnHpEYAlCs",
        "colab_type": "code",
        "outputId": "2e9c5518-2a0e-4ebf-fe74-d01195742455",
        "colab": {
          "base_uri": "https://localhost:8080/",
          "height": 406
        }
      },
      "source": [
        "if __name__ == \"__main__\":\n",
        "  df_temp = pd.read_csv(dirName+'/final_data_set.csv')\n",
        "  display(df_temp.head(-100))"
      ],
      "execution_count": 0,
      "outputs": [
        {
          "output_type": "display_data",
          "data": {
            "text/html": [
              "<div>\n",
              "<style scoped>\n",
              "    .dataframe tbody tr th:only-of-type {\n",
              "        vertical-align: middle;\n",
              "    }\n",
              "\n",
              "    .dataframe tbody tr th {\n",
              "        vertical-align: top;\n",
              "    }\n",
              "\n",
              "    .dataframe thead th {\n",
              "        text-align: right;\n",
              "    }\n",
              "</style>\n",
              "<table border=\"1\" class=\"dataframe\">\n",
              "  <thead>\n",
              "    <tr style=\"text-align: right;\">\n",
              "      <th></th>\n",
              "      <th>content</th>\n",
              "      <th>length</th>\n",
              "    </tr>\n",
              "  </thead>\n",
              "  <tbody>\n",
              "    <tr>\n",
              "      <th>0</th>\n",
              "      <td>Phillip, As discussed during our phone convers...</td>\n",
              "      <td>220</td>\n",
              "    </tr>\n",
              "    <tr>\n",
              "      <th>1</th>\n",
              "      <td>To do so I need a corresponding term gas price...</td>\n",
              "      <td>56</td>\n",
              "    </tr>\n",
              "    <tr>\n",
              "      <th>2</th>\n",
              "      <td>Microturbine is an onsite generation product d...</td>\n",
              "      <td>115</td>\n",
              "    </tr>\n",
              "    <tr>\n",
              "      <th>3</th>\n",
              "      <td>using natural gas.</td>\n",
              "      <td>18</td>\n",
              "    </tr>\n",
              "    <tr>\n",
              "      <th>4</th>\n",
              "      <td>In doing so, I need your best fixed price forw...</td>\n",
              "      <td>161</td>\n",
              "    </tr>\n",
              "    <tr>\n",
              "      <th>...</th>\n",
              "      <td>...</td>\n",
              "      <td>...</td>\n",
              "    </tr>\n",
              "    <tr>\n",
              "      <th>2833310</th>\n",
              "      <td>he has an interview with stanford next week is...</td>\n",
              "      <td>65</td>\n",
              "    </tr>\n",
              "    <tr>\n",
              "      <th>2833311</th>\n",
              "      <td>write me and give me an update you're bad for ...</td>\n",
              "      <td>63</td>\n",
              "    </tr>\n",
              "    <tr>\n",
              "      <th>2833312</th>\n",
              "      <td>lee</td>\n",
              "      <td>3</td>\n",
              "    </tr>\n",
              "    <tr>\n",
              "      <th>2833313</th>\n",
              "      <td>As we move forward in the planning stages for ...</td>\n",
              "      <td>133</td>\n",
              "    </tr>\n",
              "    <tr>\n",
              "      <th>2833314</th>\n",
              "      <td>We have identif ied the great majority of the ...</td>\n",
              "      <td>157</td>\n",
              "    </tr>\n",
              "  </tbody>\n",
              "</table>\n",
              "<p>2833315 rows × 2 columns</p>\n",
              "</div>"
            ],
            "text/plain": [
              "                                                   content  length\n",
              "0        Phillip, As discussed during our phone convers...     220\n",
              "1        To do so I need a corresponding term gas price...      56\n",
              "2        Microturbine is an onsite generation product d...     115\n",
              "3                                       using natural gas.      18\n",
              "4        In doing so, I need your best fixed price forw...     161\n",
              "...                                                    ...     ...\n",
              "2833310  he has an interview with stanford next week is...      65\n",
              "2833311  write me and give me an update you're bad for ...      63\n",
              "2833312                                                lee       3\n",
              "2833313  As we move forward in the planning stages for ...     133\n",
              "2833314  We have identif ied the great majority of the ...     157\n",
              "\n",
              "[2833315 rows x 2 columns]"
            ]
          },
          "metadata": {
            "tags": []
          }
        }
      ]
    },
    {
      "cell_type": "markdown",
      "metadata": {
        "id": "cpOoViISMPED",
        "colab_type": "text"
      },
      "source": [
        "# <font color =#0066cc>Test sentence clean</font>"
      ]
    },
    {
      "cell_type": "code",
      "metadata": {
        "id": "sJ1doPgOMLHe",
        "colab_type": "code",
        "colab": {}
      },
      "source": [
        "def clean_sent(sent):\n",
        "  '''\n",
        "  clean sentance by removing unwanted symbols\n",
        "  '''\n",
        "  file = open(dirName + '/constant_size.pkl', 'rb')\n",
        "  # dump information to that file\n",
        "  constant_size = pickle.load(file)\n",
        "  max_encoder_seq_length = constant_size['max_encoder_seq_length']\n",
        "  \n",
        "  sent = ''.join(i for i in sent if not i.isdigit()) #clean numbers\\\\\n",
        "  \n",
        "  punct = '(#$%&*+-<=>@[\\\\]^_`{|}~\\t\\n)'  \n",
        "  for p in punct:\n",
        "    sent = sent.replace(p, '')\n",
        "  sent = sent.lower()\n",
        "  if len(sent) > max_encoder_seq_length:\n",
        "    return(sent[-max_encoder_seq_length:])\n",
        "    #return('Length of sentence must be less than ',max_encoder_seq_length)\n",
        "  else:\n",
        "    return(sent)\n",
        "\n"
      ],
      "execution_count": 0,
      "outputs": []
    },
    {
      "cell_type": "markdown",
      "metadata": {
        "id": "oj1LNzJfeRBw",
        "colab_type": "text"
      },
      "source": [
        "# <font color =#0066cc>Train - Test split</font>"
      ]
    },
    {
      "cell_type": "code",
      "metadata": {
        "colab_type": "code",
        "outputId": "e4013fdc-12e7-44ee-c470-f1bbe4812fb3",
        "id": "laDtc5HaF25U",
        "colab": {
          "base_uri": "https://localhost:8080/",
          "height": 407
        }
      },
      "source": [
        "if __name__ == \"__main__\":\n",
        "  df = pd.read_csv(dirName + '/final_data_set.csv')\n",
        "  df.dropna(inplace=True)\n",
        "  x = list(df['content'].apply(lambda x:len(x)))\n",
        "  for i in range(0,110,10):\n",
        "    print(\"{}th- percentile of len(text) is {}\".format(i,np.percentile(x, i)))\n",
        "    print(\"=\"*40)"
      ],
      "execution_count": 0,
      "outputs": [
        {
          "output_type": "stream",
          "text": [
            "0th- percentile of len(text) is 1.0\n",
            "========================================\n",
            "10th- percentile of len(text) is 17.0\n",
            "========================================\n",
            "20th- percentile of len(text) is 33.0\n",
            "========================================\n",
            "30th- percentile of len(text) is 47.0\n",
            "========================================\n",
            "40th- percentile of len(text) is 62.0\n",
            "========================================\n",
            "50th- percentile of len(text) is 78.0\n",
            "========================================\n",
            "60th- percentile of len(text) is 96.0\n",
            "========================================\n",
            "70th- percentile of len(text) is 118.0\n",
            "========================================\n",
            "80th- percentile of len(text) is 146.0\n",
            "========================================\n",
            "90th- percentile of len(text) is 195.0\n",
            "========================================\n",
            "100th- percentile of len(text) is 332218.0\n",
            "========================================\n"
          ],
          "name": "stdout"
        }
      ]
    },
    {
      "cell_type": "markdown",
      "metadata": {
        "id": "6ES1Ck5AKqdi",
        "colab_type": "text"
      },
      "source": [
        "- As we can see above 90% of data of the data has max length < 200\n",
        "- so we will keep those rows only which has characters <=200"
      ]
    },
    {
      "cell_type": "code",
      "metadata": {
        "id": "1tWfBXF05a1c",
        "colab_type": "code",
        "colab": {}
      },
      "source": [
        "def train_test_split():\n",
        "  '''\n",
        "  Split data into train test and cv in (80-10-10) ratio\n",
        "\n",
        "  '''\n",
        "\n",
        "  if [path.exists(dirName+ '/train_df.csv') == path.exists(dirName + '/test_df.csv') == path.exists(dirName + '/cv_df.csv') == False]:\n",
        "    print('splitting data into train-test-cv in (80:10:10) ratio')\n",
        "    print('We are using 20000 rows of dataset')\n",
        "    df = pd.read_csv(dirName + '/final_data_set.csv')\n",
        "    df = df[df['length']<=60][:12000]\n",
        "    # we eill use 60% to train and 20-20% for cv and text\n",
        "    train_limit = int(df.shape[0]*(0.80))\n",
        "    cv_limit = int(df.shape[0]*(0.10))\n",
        "    train_df = df[:train_limit]\n",
        "    temp_df = df[train_limit:]\n",
        "    test_df = temp_df[:cv_limit]\n",
        "    cv_df = temp_df[cv_limit:]\n",
        "\n",
        "    train_df.dropna(inplace=True)\n",
        "    test_df.dropna(inplace=True)\n",
        "    cv_df.dropna(inplace=True)\n",
        "    train_df.to_csv(dirName + '/train_df.csv')\n",
        "    test_df.to_csv(dirName + '/test_df.csv')\n",
        "    cv_df.to_csv(dirName + '/cv_df.csv')\n",
        "\n",
        "    print('Train data shape'+str(train_df.shape))\n",
        "    print('Test_data_shape'+str(test_df.shape))\n",
        "    print('CV_data_shape'+str(cv_df.shape))\n",
        "    train_df = None\n",
        "    test_df = None\n",
        "    cv_df = None\n",
        "    del(train_df,test_df,cv_df)\n",
        "    gc.collect()\n",
        "  else:\n",
        "    print('train_df.csv - test_df.csv and cv_df.csv files are already generated')"
      ],
      "execution_count": 0,
      "outputs": []
    },
    {
      "cell_type": "code",
      "metadata": {
        "id": "dyvtg65GBYyp",
        "colab_type": "code",
        "outputId": "e5a62520-e5fc-4ce4-fc08-f2780709d012",
        "colab": {
          "base_uri": "https://localhost:8080/",
          "height": 338
        }
      },
      "source": [
        "if __name__ == \"__main__\":\n",
        "  # Train- Cv- Test split function call\n",
        "  train_test_split()\n"
      ],
      "execution_count": 0,
      "outputs": [
        {
          "output_type": "stream",
          "text": [
            "splitting data into train-test-cv in (80:10:10) ratio\n",
            "We are using 20000 rows of dataset\n"
          ],
          "name": "stdout"
        },
        {
          "output_type": "stream",
          "text": [
            "/usr/local/lib/python3.6/dist-packages/ipykernel_launcher.py:20: SettingWithCopyWarning: \n",
            "A value is trying to be set on a copy of a slice from a DataFrame\n",
            "\n",
            "See the caveats in the documentation: http://pandas.pydata.org/pandas-docs/stable/user_guide/indexing.html#returning-a-view-versus-a-copy\n",
            "/usr/local/lib/python3.6/dist-packages/ipykernel_launcher.py:21: SettingWithCopyWarning: \n",
            "A value is trying to be set on a copy of a slice from a DataFrame\n",
            "\n",
            "See the caveats in the documentation: http://pandas.pydata.org/pandas-docs/stable/user_guide/indexing.html#returning-a-view-versus-a-copy\n",
            "/usr/local/lib/python3.6/dist-packages/ipykernel_launcher.py:22: SettingWithCopyWarning: \n",
            "A value is trying to be set on a copy of a slice from a DataFrame\n",
            "\n",
            "See the caveats in the documentation: http://pandas.pydata.org/pandas-docs/stable/user_guide/indexing.html#returning-a-view-versus-a-copy\n"
          ],
          "name": "stderr"
        },
        {
          "output_type": "stream",
          "text": [
            "Train data shape(18000, 2)\n",
            "Test_data_shape(1000, 2)\n",
            "CV_data_shape(1000, 2)\n"
          ],
          "name": "stdout"
        }
      ]
    },
    {
      "cell_type": "markdown",
      "metadata": {
        "colab_type": "text",
        "id": "hESp_0r_2z_h"
      },
      "source": [
        "# <font color =#0066cc>char ngram :</font>"
      ]
    },
    {
      "cell_type": "markdown",
      "metadata": {
        "colab_type": "text",
        "id": "h9vtlKB92z_i"
      },
      "source": [
        "### <font color =#0066cc>Why char ngram?</font>\n",
        "- Here we are trying to make model which can help us to auto compose text while writing email as described in paper:https://arxiv.org/pdf/1906.00080.pdf\n",
        "- Here for example if sentence that we want to write is \n",
        "-- <font color =#0066cc>\"here is our forecast\"</font>\n",
        "- so while writing email is i write <font color =#0066cc>\"here is o\"</font> ---> prediction ---><font color =#0066cc>\"our forecast\"</font>\n",
        "- so as we can see above here we are <font color =#0066cc>making prediction at character level instead of word level</font>"
      ]
    },
    {
      "cell_type": "markdown",
      "metadata": {
        "colab_type": "text",
        "id": "On4qlTVd2z_j"
      },
      "source": [
        "### <font color =#0066cc>How to achieve char ngram model?</font>\n",
        "- To achieve char ngram model we have to make dataset as seen below \n",
        "- ex_text : \"here is our forecast\"\n",
        "\n",
        "<table style=\"width:50%;border: 1px solid black\" align=\"left\" >\n",
        "  <tr>\n",
        "    <th style = \"text-align:left;border: 1px solid black\">X_train</th>\n",
        "    <th style = \"text-align:left;border: 1px solid black\">Y_train</th>\n",
        "  </tr>\n",
        "  <tr>\n",
        "    <td style = \"text-align:left;border: 1px solid black\"> h </td>\n",
        "    <td style = \"text-align:left;border: 1px solid black\"> ere is our forecast </td>\n",
        "  </tr>\n",
        "  <tr>\n",
        "    <td style = \"text-align:left;border: 1px solid black\"> he </td>\n",
        "    <td style = \"text-align:left;border: 1px solid black\"> re is our forecast </td>\n",
        "  </tr>\n",
        "  <tr>\n",
        "    <td style = \"text-align:left;border: 1px solid black\"> her </td>\n",
        "    <td style = \"text-align:left;border: 1px solid black\"> e is our forecast </td>\n",
        "  </tr>\n",
        "  <tr>\n",
        "    <td style = \"text-align:left;border: 1px solid black\"> here </td>\n",
        "    <td style = \"text-align:left;border: 1px solid black\"> is our forecast </td>\n",
        "  </tr>\n",
        "  <tr>\n",
        "    <td style = \"text-align:left;border: 1px solid black\"> here i </td>\n",
        "    <td style = \"text-align:left;border: 1px solid black\"> s our forecast </td>\n",
        "  </tr>\n",
        "  <tr>\n",
        "    <td style = \"text-align:left;border: 1px solid black\"> here is </td>\n",
        "    <td style = \"text-align:left;border: 1px solid black\"> our forecast </td>\n",
        "  </tr>\n",
        "  <tr>\n",
        "    <td style = \"text-align:left;border: 1px solid black\"> here is o </td>\n",
        "    <td style = \"text-align:left;border: 1px solid black\"> ur forecast </td>\n",
        "  </tr>\n",
        "</table>"
      ]
    },
    {
      "cell_type": "markdown",
      "metadata": {
        "colab_type": "text",
        "id": "V9yoTGq52z_j"
      },
      "source": [
        "### <font color =#0066cc>Reference Links:</font>\n",
        "- https://www.youtube.com/watch?v=7PG7bhZQzP4"
      ]
    },
    {
      "cell_type": "markdown",
      "metadata": {
        "colab_type": "text",
        "id": "wyWQpw9N2z_k"
      },
      "source": [
        "### Creating X and Y for training:"
      ]
    },
    {
      "cell_type": "markdown",
      "metadata": {
        "colab_type": "text",
        "id": "SDwikQ-F2z_l"
      },
      "source": [
        "- Teacher forcing -Teacher forcing is a procedure in which during training the model receives the ground truth output y(t) as input at time t + 1.\n",
        "https://machinelearningmastery.com/teacher-forcing-for-recurrent-neural-networks/"
      ]
    },
    {
      "cell_type": "code",
      "metadata": {
        "id": "abhlgsZAUQW3",
        "colab_type": "code",
        "colab": {}
      },
      "source": [
        "def data_pair(df_name):\n",
        "  '''\n",
        "    creating X and Y ngrams and storing them into csv file\n",
        "\n",
        "  '''\n",
        "  if not path.exists(dirName + '/{}_ngram.csv'.format(df_name)):\n",
        "    df = pd.read_csv(dirName + '/{}_df.csv'.format(df_name))\n",
        "    df.dropna(inplace=True)\n",
        "    my_file = open(dirName + '/{}_ngram.csv'.format(df_name), 'a')\n",
        "    example=csv.writer(my_file, delimiter=',')\n",
        "    example.writerows( [[\"X\", \"Y\"]])\n",
        "    for msg in tqdm(df['content'].str.lower()):\n",
        "      for i in range(0, len(msg)-1):\n",
        "        x = \"\"\n",
        "        y = \"\"\n",
        "        if msg[i] != ' ':\n",
        "          x = msg[:i+1]\n",
        "          y = '\\t '+ msg[i+1:] + ' \\n'\n",
        "          #print(x)\n",
        "        else:\n",
        "          continue\n",
        "        example.writerows( [[x, y]])\n",
        "    my_file.close()\n",
        "    df = None\n",
        "    del(df)\n",
        "    gc.collect()\n",
        "  else:\n",
        "    print('{}_ngram.csv file is already generated'.format(df_name))"
      ],
      "execution_count": 0,
      "outputs": []
    },
    {
      "cell_type": "code",
      "metadata": {
        "id": "7RdYQkLtBlb7",
        "colab_type": "code",
        "outputId": "a75e938b-431e-47df-968d-8c4499cedf53",
        "colab": {
          "base_uri": "https://localhost:8080/",
          "height": 70
        }
      },
      "source": [
        "if __name__ == \"__main__\":\n",
        "  #Function call to make X-Y pair \n",
        "  data_pair(\"train\")\n",
        "  data_pair(\"test\")\n",
        "  data_pair(\"cv\")"
      ],
      "execution_count": 0,
      "outputs": [
        {
          "output_type": "stream",
          "text": [
            "100%|██████████| 18000/18000 [00:03<00:00, 4737.07it/s]\n",
            "100%|██████████| 1000/1000 [00:00<00:00, 4703.87it/s]\n",
            "100%|██████████| 1000/1000 [00:00<00:00, 4651.21it/s]\n"
          ],
          "name": "stderr"
        }
      ]
    },
    {
      "cell_type": "code",
      "metadata": {
        "id": "SuMAa0q1CAj_",
        "colab_type": "code",
        "outputId": "09c3db63-87c2-4fe4-ea66-889547eacf45",
        "colab": {
          "base_uri": "https://localhost:8080/",
          "height": 365
        }
      },
      "source": [
        "if __name__ == \"__main__\":\n",
        "  df_temp = pd.read_csv(dirName+'/train_ngram.csv')\n",
        "  display(df_temp.shape)\n",
        "  display(df_temp.head(10))"
      ],
      "execution_count": 0,
      "outputs": [
        {
          "output_type": "display_data",
          "data": {
            "text/plain": [
              "(1117109, 2)"
            ]
          },
          "metadata": {
            "tags": []
          }
        },
        {
          "output_type": "display_data",
          "data": {
            "text/html": [
              "<div>\n",
              "<style scoped>\n",
              "    .dataframe tbody tr th:only-of-type {\n",
              "        vertical-align: middle;\n",
              "    }\n",
              "\n",
              "    .dataframe tbody tr th {\n",
              "        vertical-align: top;\n",
              "    }\n",
              "\n",
              "    .dataframe thead th {\n",
              "        text-align: right;\n",
              "    }\n",
              "</style>\n",
              "<table border=\"1\" class=\"dataframe\">\n",
              "  <thead>\n",
              "    <tr style=\"text-align: right;\">\n",
              "      <th></th>\n",
              "      <th>X</th>\n",
              "      <th>Y</th>\n",
              "    </tr>\n",
              "  </thead>\n",
              "  <tbody>\n",
              "    <tr>\n",
              "      <th>0</th>\n",
              "      <td>t</td>\n",
              "      <td>\\t o do so i need a corresponding term gas pri...</td>\n",
              "    </tr>\n",
              "    <tr>\n",
              "      <th>1</th>\n",
              "      <td>to</td>\n",
              "      <td>\\t  do so i need a corresponding term gas pric...</td>\n",
              "    </tr>\n",
              "    <tr>\n",
              "      <th>2</th>\n",
              "      <td>to d</td>\n",
              "      <td>\\t o so i need a corresponding term gas price ...</td>\n",
              "    </tr>\n",
              "    <tr>\n",
              "      <th>3</th>\n",
              "      <td>to do</td>\n",
              "      <td>\\t  so i need a corresponding term gas price f...</td>\n",
              "    </tr>\n",
              "    <tr>\n",
              "      <th>4</th>\n",
              "      <td>to do s</td>\n",
              "      <td>\\t o i need a corresponding term gas price for...</td>\n",
              "    </tr>\n",
              "    <tr>\n",
              "      <th>5</th>\n",
              "      <td>to do so</td>\n",
              "      <td>\\t  i need a corresponding term gas price for ...</td>\n",
              "    </tr>\n",
              "    <tr>\n",
              "      <th>6</th>\n",
              "      <td>to do so i</td>\n",
              "      <td>\\t  need a corresponding term gas price for sa...</td>\n",
              "    </tr>\n",
              "    <tr>\n",
              "      <th>7</th>\n",
              "      <td>to do so i n</td>\n",
              "      <td>\\t eed a corresponding term gas price for same...</td>\n",
              "    </tr>\n",
              "    <tr>\n",
              "      <th>8</th>\n",
              "      <td>to do so i ne</td>\n",
              "      <td>\\t ed a corresponding term gas price for same. \\n</td>\n",
              "    </tr>\n",
              "    <tr>\n",
              "      <th>9</th>\n",
              "      <td>to do so i nee</td>\n",
              "      <td>\\t d a corresponding term gas price for same. \\n</td>\n",
              "    </tr>\n",
              "  </tbody>\n",
              "</table>\n",
              "</div>"
            ],
            "text/plain": [
              "                X                                                  Y\n",
              "0               t  \\t o do so i need a corresponding term gas pri...\n",
              "1              to  \\t  do so i need a corresponding term gas pric...\n",
              "2            to d  \\t o so i need a corresponding term gas price ...\n",
              "3           to do  \\t  so i need a corresponding term gas price f...\n",
              "4         to do s  \\t o i need a corresponding term gas price for...\n",
              "5        to do so  \\t  i need a corresponding term gas price for ...\n",
              "6      to do so i  \\t  need a corresponding term gas price for sa...\n",
              "7    to do so i n  \\t eed a corresponding term gas price for same...\n",
              "8   to do so i ne  \\t ed a corresponding term gas price for same. \\n\n",
              "9  to do so i nee   \\t d a corresponding term gas price for same. \\n"
            ]
          },
          "metadata": {
            "tags": []
          }
        }
      ]
    },
    {
      "cell_type": "markdown",
      "metadata": {
        "colab_type": "text",
        "id": "DxPRT_fp20AF"
      },
      "source": [
        "## <font color=#0066cc> Shuffle data </font>\n",
        "- Shuffling data would help model to learn parameters well"
      ]
    },
    {
      "cell_type": "code",
      "metadata": {
        "colab_type": "code",
        "id": "nybxOkc420AG",
        "colab": {}
      },
      "source": [
        "#Shuffle all of the data in unison. This training set has the longest (e.g. most complicated) data at the end,\n",
        "# so a simple Keras validation split will be problematic if not shuffled.\n",
        "#https://stackoverflow.com/questions/15772009/shuffling-permutating-a-dataframe-in-pandas/15772330\n"
      ],
      "execution_count": 0,
      "outputs": []
    },
    {
      "cell_type": "code",
      "metadata": {
        "id": "ipfG4p_jTvvf",
        "colab_type": "code",
        "colab": {}
      },
      "source": [
        "def shuffle_data():\n",
        "  '''Shuffle all of the data in unison. This training set has the longest (e.g. most complicated) data at the end,\n",
        "      so a simple Keras validation split will be problematic if not shuffled.\n",
        "  '''\n",
        "  train_df = pd.read_csv(dirName + '/train_ngram.csv')\n",
        "  #train_df = train_df.reindex(np.random.permutation(train_df.index))\n",
        "  train_df = shuffle(train_df,random_state=1)\n",
        "  train_df.to_csv(dirName + '/shuffled_train.csv',index=False)\n",
        "\n",
        "  test_df = pd.read_csv(dirName + '/test_ngram.csv')\n",
        "  #test_df = test_df.reindex(np.random.permutation(test_df.index))\n",
        "  test_df = shuffle(test_df,random_state=1)\n",
        "  test_df.to_csv(dirName + '/shuffled_test.csv',index=False)\n",
        "\n",
        "  cv_df = pd.read_csv(dirName + '/cv_ngram.csv')\n",
        "  #cv_df = cv_df.reindex(np.random.permutation(cv_df.index))\n",
        "  cv_df = shuffle(cv_df,random_state=1)\n",
        "  cv_df.to_csv(dirName + '/shuffled_cv.csv',index=False)\n",
        "\n",
        "  print(\"train_df shape\" + str(train_df.shape))\n",
        "  print(\"test_df shape\" + str(test_df.shape))\n",
        "  print(\"cv_df shape\" + str(cv_df.shape))\n",
        "  train_df = None\n",
        "  test_df = None\n",
        "  cv_df = None\n",
        "  del(train_df,test_df,cv_df)\n",
        "  gc.collect()\n"
      ],
      "execution_count": 0,
      "outputs": []
    },
    {
      "cell_type": "markdown",
      "metadata": {
        "colab_type": "text",
        "id": "aJNMDQzH20AP"
      },
      "source": [
        "## <font color=#0066cc> Function to extract vocab, word2index, index2word </font>\n"
      ]
    },
    {
      "cell_type": "code",
      "metadata": {
        "colab_type": "code",
        "id": "rgA2rp6t20AS",
        "colab": {}
      },
      "source": [
        "def split(word): \n",
        "    '''\n",
        "    splits word to char\n",
        "\n",
        "    '''\n",
        "    return [char for char in str(word)]  \n",
        "    \n",
        "# below functoin creates a char -> index mapping (e.g,. \"h\" -> 5) and vice-versa \n",
        "def vocab_index():    \n",
        "  '''\n",
        "  generating vocab, word2index, index2word, constants and storing them for futurre use\n",
        "  \n",
        "  '''\n",
        "  vocab  = set()\n",
        "  word2index  = {}\n",
        "  index2word  = {}\n",
        "  word2index[\"<pad>\"] = 0 #only needed if we use preprocessing.sequence.pad_sequences else not needed\n",
        "  index2word[0] = \"<pad>\"\n",
        "    \n",
        "  #creating vocab for X and Y\n",
        "  train_df = pd.read_csv(dirName + '/shuffled_train.csv')\n",
        "  input_texts = list(train_df['X'])\n",
        "  target_texts = list(train_df['Y'])\n",
        "  final_text = input_texts + target_texts\n",
        "  for line in final_text:\n",
        "    vocab.update(split(line))\n",
        "  vocab  = sorted(vocab)\n",
        "    \n",
        "  #creating word2index and index2word\n",
        "  for index, word in enumerate(vocab):\n",
        "      word2index[word] = index + 1 # word2 index starts from 1 because 0 is for pading\n",
        "      index2word[index + 1] = word\n",
        "\n",
        "  # get seq lenght for encoder and decoder and vocab size\n",
        "  max_encoder_seq_length = max([len(str(txt))for txt in input_texts])\n",
        "  max_decoder_seq_length = max([len(str(txt)) for txt in target_texts])\n",
        "  vocab_size = len(vocab) + 1\n",
        "  #make dir of values\n",
        "  size = {'vocab_size':vocab_size,'max_encoder_seq_length': max_encoder_seq_length,'max_decoder_seq_length':max_decoder_seq_length}\n",
        "\n",
        "  output = open(dirName + '/word2index_1.pkl', 'wb')\n",
        "  pickle.dump(word2index, output)\n",
        "  output.close()\n",
        "  output_1 = open(dirName + '/index2word_1.pkl', 'wb')\n",
        "  pickle.dump(index2word, output_1)\n",
        "  output_1.close()\n",
        "  output_2 = open(dirName + '/vocab_1.pkl', 'wb')\n",
        "  pickle.dump(vocab, output_2)\n",
        "  output_2.close()\n",
        "\n",
        "  output_3 = open(dirName + '/constant_size_1.pkl', 'wb')\n",
        "  pickle.dump(size, output_3)\n",
        "  output_3.close()  \n",
        "    \n",
        "  df = None\n",
        "  del(df)\n",
        "  gc.collect()\n"
      ],
      "execution_count": 0,
      "outputs": []
    },
    {
      "cell_type": "code",
      "metadata": {
        "id": "rL4qv5UQraEr",
        "colab_type": "code",
        "outputId": "bde5b9de-42fd-44f6-a19f-83c89252068d",
        "colab": {
          "base_uri": "https://localhost:8080/",
          "height": 70
        }
      },
      "source": [
        "if __name__ == \"__main__\":\n",
        "  #shuffle data function call\n",
        "  shuffle_data()\n",
        "\n",
        "  #call vocab function to make vacab, word2index and index2word\n",
        "  vocab_index()"
      ],
      "execution_count": 0,
      "outputs": [
        {
          "output_type": "stream",
          "text": [
            "train_df shape(1117109, 2)\n",
            "test_df shape(61142, 2)\n",
            "cv_df shape(60151, 2)\n"
          ],
          "name": "stdout"
        }
      ]
    },
    {
      "cell_type": "markdown",
      "metadata": {
        "colab_type": "text",
        "id": "5ZROzNZo20Af"
      },
      "source": [
        "## <font color=#0066cc> Make data model ready\n",
        "</font>"
      ]
    },
    {
      "cell_type": "code",
      "metadata": {
        "id": "lHxRg8bIsl_n",
        "colab_type": "code",
        "colab": {}
      },
      "source": [
        "def generate_batch(X , y , batch_size = 64):\n",
        "    ''' Generate a batch of data '''\n",
        "\n",
        "    vocab_file = open(dirName + '/vocab_1.pkl', 'rb')\n",
        "    word2index_file = open(dirName + '/word2index_1.pkl', 'rb')\n",
        "    size_file = open(dirName + '/constant_size_1.pkl','rb')\n",
        "\n",
        "    vocab = pickle.load(vocab_file)\n",
        "    word2index = pickle.load(word2index_file)\n",
        "    size = pickle.load(size_file)\n",
        "    num_decoder_tokens = size['vocab_size']\n",
        "    max_length_src = size['max_encoder_seq_length']\n",
        "    max_length_tar = size['max_decoder_seq_length']\n",
        "    while True:\n",
        "        for j in range(0, len(X), batch_size):\n",
        "            encoder_input_data = np.zeros((batch_size, max_length_src),dtype='float32')\n",
        "            decoder_input_data = np.zeros((batch_size, max_length_tar),dtype='float32')\n",
        "            decoder_target_data = np.zeros((batch_size, max_length_tar),dtype='float32')\n",
        "            #decoder_target_data = np.zeros((batch_size, max_length_tar,num_decoder_tokens),dtype='float32')\n",
        "            for i, (input_text, target_text) in enumerate(zip(X[j:j+batch_size], y[j:j+batch_size])):\n",
        "                for t, char in enumerate(input_text):\n",
        "                    encoder_input_data[i, t] = word2index[char] # encoder input seq\n",
        "                for t, char in enumerate(target_text):\n",
        "                    #if t<len(target_text)-1:\n",
        "                        #decoder_input_data[i, t] = word2index[char] # decoder input seq\n",
        "                    decoder_input_data[i, t] = word2index[char] # decoder input seq\n",
        "                    if t>0:\n",
        "                        # decoder target sequence (one hot encoded)\n",
        "                        # does not include the START_ token\n",
        "                        # Offset by one timestep\n",
        "                        #decoder_target_data[i, t - 1, word2index[char]] = 1.\n",
        "                        decoder_target_data[i, t - 1] = word2index[char]\n",
        "            decoder_target_data = decoder_target_data.reshape(decoder_target_data.shape[0], decoder_target_data.shape[1], 1)\n",
        "            yield([encoder_input_data, decoder_input_data], decoder_target_data)"
      ],
      "execution_count": 0,
      "outputs": []
    },
    {
      "cell_type": "code",
      "metadata": {
        "id": "SClxfI7F2iyO",
        "colab_type": "code",
        "colab": {}
      },
      "source": [
        "def model_sent_data(sent):\n",
        "  '''\n",
        "  converting text data to model ready data for single input sentence \n",
        "  '''\n",
        "  dirName = '/content/drive/My Drive/char_level_attention_model'\n",
        "  file = open(dirName + '/constant_size_1.pkl', 'rb')\n",
        "  # dump information to that file\n",
        "  constant_size = pickle.load(file)\n",
        "  max_encoder_seq_length = constant_size['max_encoder_seq_length']\n",
        "  max_decoder_seq_length = constant_size['max_decoder_seq_length']\n",
        "  num_encoder_tokens = constant_size['vocab_size']\n",
        "  num_decoder_tokens = constant_size['vocab_size']\n",
        "\n",
        "  file_1 = open(dirName + '/word2index_1.pkl', 'rb')\n",
        "  word2index = pickle.load(file_1)\n",
        "\n",
        "  file_2 = open(dirName + '/index2word_1.pkl', 'rb')\n",
        "  index2word = pickle.load(file_2)\n",
        "  output = [sent]\n",
        "\n",
        "  encoder_input_data_sent = np.zeros((1, max_encoder_seq_length),dtype='float32')\n",
        "  for i, input_text in tqdm(enumerate(output)):\n",
        "    for t, char in enumerate(input_text.lower()):\n",
        "        encoder_input_data_sent[i, t] = word2index[char]\n",
        "    encoder_input_data_sent[i, t + 1:] = 0\n",
        "\n",
        "  return(encoder_input_data_sent)"
      ],
      "execution_count": 0,
      "outputs": []
    },
    {
      "cell_type": "markdown",
      "metadata": {
        "id": "DyZn27CbztC-",
        "colab_type": "text"
      },
      "source": [
        "# <font color=#0066cc> Random Model: </font>\n"
      ]
    },
    {
      "cell_type": "code",
      "metadata": {
        "id": "HUB0DK0Cz0iS",
        "colab_type": "code",
        "colab": {}
      },
      "source": [
        "def random_model(file_path):\n",
        "  '''\n",
        "  generating random model to get idea about loss for the random model\n",
        "  '''\n",
        "  dirName = '/content/drive/My Drive/char_level_attention_model'\n",
        "  file_1 = open(dirName + '/word2index.pkl', 'rb')\n",
        "  word2index = pickle.load(file_1)\n",
        "\n",
        "  file_2 = open(dirName + '/index2word.pkl', 'rb')\n",
        "  index2word = pickle.load(file_2)\n",
        "\n",
        "  file_3 = open(dirName + '/vocab.pkl', 'rb')\n",
        "  vocab = pickle.load(file_3)\n",
        "\n",
        "  \n",
        "  output = []\n",
        "\n",
        "  for a in range(7572):\n",
        "    sent =\"\"\n",
        "    j = random.randint(3,10)\n",
        "    for b in range(j):\n",
        "      k = random.randint(1,5)\n",
        "      sent = sent+ (''.join(random.sample(vocab, k)))\n",
        "    output.append(sent)\n",
        "  file = open(dirName + '/constant_size.pkl', 'rb')\n",
        "  # dump information to that file\n",
        "  constant_size = pickle.load(file)\n",
        "  max_encoder_seq_length = constant_size['max_encoder_seq_length']\n",
        "  num_encoder_tokens = constant_size['vocab_size']\n",
        "\n",
        "  encoder_input_data_pred = np.zeros((len(output), max_encoder_seq_length, num_encoder_tokens),dtype='float32')\n",
        "\n",
        "  for i, pred in enumerate(output):\n",
        "    for t, char in enumerate(pred.lower()):\n",
        "        encoder_input_data_pred[i, t, word2index[char]] = 1.\n",
        "    encoder_input_data_pred[i, t + 1:, word2index[' ']] = 1.\n",
        "  \n",
        "  ls = []\n",
        "  \n",
        "  encoder_input_data, decoder_input_data, decoder_target_data = model_data(df_name = \"train\", file_path = file_path)\n",
        "  y_train = encoder_input_data[:7572]\n",
        "  y_train = y_train.astype('float32')\n",
        "  y_true = K.constant(y_train)\n",
        "\n",
        "  y_pred = encoder_input_data_pred\n",
        "  y_pred = K.constant(y_pred)\n",
        "  g = K.categorical_crossentropy(target=y_true, output=y_pred)\n",
        "  ce = K.eval(g)\n",
        "  ppl_2_random = K.eval(K.pow(2.0,ce.mean()))\n",
        "  ppl_e_random = K.eval(K.exp(ce.mean()))\n",
        "  #print(\"{categorical_crossentropy loss or random model is }\".format(ce.mean()))\n",
        "  encoder_input_data = None\n",
        "  decoder_input_data = None\n",
        "  decoder_target_data = None\n",
        "  df =None\n",
        "  del(encoder_input_data,decoder_input_data,decoder_target_data,df)\n",
        "  gc.collect()\n",
        "  return(ce.mean(),ppl_e_random,ppl_2_random)"
      ],
      "execution_count": 0,
      "outputs": []
    },
    {
      "cell_type": "markdown",
      "metadata": {
        "id": "nPHCBqFy9J_4",
        "colab_type": "text"
      },
      "source": [
        "# <font color=#0066cc> performance matrix  </font>\n"
      ]
    },
    {
      "cell_type": "markdown",
      "metadata": {
        "id": "AvyZvrVN7gHx",
        "colab_type": "text"
      },
      "source": [
        "- https://www.quora.com/What-is-perplexity-in-NLP\n",
        "- http://www.cs.yale.edu/homes/radev/nlpclass/slides2017/213.pdf\n",
        "- perplexity metric in NLP is a way to capture the degree of 'uncertainty' a model has in predicting (assigning probabilities to) some text. \n",
        "- It is related to Shannon's Entropy. Lower the entropy (uncertainty), lower the perplexity. If a model, which is trained on good blogs and is being evaluated on similarly looking good blogs, assigns higher probability, we say the model has lower perplexity than a model which assigns lower probability."
      ]
    },
    {
      "cell_type": "code",
      "metadata": {
        "id": "vYue2nOQ9LBw",
        "colab_type": "code",
        "colab": {}
      },
      "source": [
        "#https://stackoverflow.com/questions/44697318/how-to-implement-perplexity-in-keras\n",
        "# perplexity\n",
        "def ppl_2(y_true, y_pred):\n",
        "    '''\n",
        "    perplexity with base 2\n",
        "\n",
        "    '''\n",
        "    return K.pow(2.0, K.mean(K.sparse_categorical_crossentropy(y_true, y_pred)))\n",
        "    \n",
        "def ppl_e(y_true,y_pred):\n",
        "    '''\n",
        "    perplexity with base e\n",
        "  \n",
        "    '''\n",
        "    return K.exp(K.mean(K.sparse_categorical_crossentropy(y_true, y_pred)))\n"
      ],
      "execution_count": 0,
      "outputs": []
    },
    {
      "cell_type": "markdown",
      "metadata": {
        "id": "ivtmjidS80Iu",
        "colab_type": "text"
      },
      "source": [
        "# <font color=#0066cc> Model </font>\n"
      ]
    },
    {
      "cell_type": "markdown",
      "metadata": {
        "id": "JivB-qoiJjNr",
        "colab_type": "text"
      },
      "source": [
        "-Reference: Effective Approaches to Attention-based Neural Machine\n",
        "Translation's Global Attention with Dot-based scoring function \n",
        "(Section 3, 3.1) https://arxiv.org/pdf/1508.04025.pdf\n",
        "\n"
      ]
    },
    {
      "cell_type": "code",
      "metadata": {
        "id": "1LLTGmVZCxX8",
        "colab_type": "code",
        "colab": {}
      },
      "source": [
        "def get_model(units = 256 ,batch_size = 64,embedding_dim = 12 ,epochs = 100):\n",
        "  '''\n",
        "  #create encoder decoder model attention\n",
        "  '''\n",
        "  file = open(dirName + '/constant_size_1.pkl', 'rb')\n",
        "  # dump information to that file\n",
        "  constant_size = pickle.load(file)\n",
        "  max_encoder_seq_length = constant_size['max_encoder_seq_length']  \n",
        "  max_decoder_seq_length = constant_size['max_decoder_seq_length']  \n",
        "  num_encoder_tokens = constant_size['vocab_size']\n",
        "  num_decoder_tokens = constant_size['vocab_size']\n",
        "  vocab_size = constant_size['vocab_size']\n",
        "\n",
        "  ################ define training encoder #####################\n",
        "  encoder_inputs = Input(shape=(max_encoder_seq_length,),name='Encoder-Input')\n",
        "  encoder_emb  = Embedding(input_dim=vocab_size, output_dim=embedding_dim,name='Encoder-char-Embedding')(encoder_inputs)\n",
        "  encoder_lstm = CuDNNLSTM(units=units, return_sequences=True, return_state=True,kernel_regularizer =l1(0.001),name = 'Encoder-Lstm')\n",
        "  encoder_out,state_h, state_c = encoder_lstm(encoder_emb)\n",
        "  encoder_states = [state_h, state_c]\n",
        "\n",
        "  ################ define training decoder #####################\n",
        "  decoder_inputs = Input(shape=(None,),name='Decoder-Input')\n",
        "  decoder_emb = Embedding(input_dim= vocab_size, output_dim=embedding_dim,name='Decoder-char-Embedding')(decoder_inputs)\n",
        "  decoder_lstm = CuDNNLSTM(units=units, return_sequences=True, return_state=True,kernel_regularizer =l1(0.001),name='Decoder-Lstm')\n",
        "  decoder_out, _, _ = decoder_lstm(decoder_emb, initial_state=encoder_states)\n",
        "\n",
        "  ################ define attention  #####################\n",
        "  attention = dot([decoder_out, encoder_out], axes=[2, 2],name = 'Dot_1')\n",
        "  attention = Activation('softmax', name='attention')(attention)\n",
        "  context = dot([attention, encoder_out], axes=[2,1], name='Dot_2')\n",
        "  decoder_combined_context = concatenate([context, decoder_out],name='Concatenate')\n",
        "  output = TimeDistributed(Dense(units, activation=\"tanh\"),name='time_distributed_1')(decoder_combined_context)\n",
        "  output = TimeDistributed(Dense(vocab_size, activation=\"softmax\"),name='time_distributed_2')(output)\n",
        "  final_output = (output)\n",
        "\n",
        "  model = Model(inputs = [encoder_inputs, decoder_inputs], outputs= final_output)\n",
        "  Optimizer = tf.keras.optimizers.Adam(amsgrad=True,learning_rate=0.0008)\n",
        "  model.compile(optimizer = Optimizer, loss='sparse_categorical_crossentropy',metrics=['sparse_categorical_accuracy',ppl_e,ppl_2])\n",
        "  model.summary() \n",
        "  return model\n"
      ],
      "execution_count": 0,
      "outputs": []
    },
    {
      "cell_type": "code",
      "metadata": {
        "id": "sxz-sIpmcQOH",
        "colab_type": "code",
        "colab": {}
      },
      "source": [
        "def save_model(model):   \n",
        "    '''\n",
        "    save model to .json format\n",
        "    ''' \n",
        "    json_string = model.to_json()\n",
        "    open(dirName + '/model.json', 'w').write(json_string)"
      ],
      "execution_count": 0,
      "outputs": []
    },
    {
      "cell_type": "code",
      "metadata": {
        "id": "R0108AwacZuR",
        "colab_type": "code",
        "colab": {}
      },
      "source": [
        "def lr_scheduler(epoch,lr):\n",
        "  '''\n",
        "  function to set learning rate scheduler\n",
        "  \n",
        "  '''\n",
        "  decay_rate = 0.00001\n",
        "  decay_step = 10\n",
        "  if epoch % decay_step == 0 and epoch:\n",
        "    return(lr-decay_rate)\n",
        "  return(lr)"
      ],
      "execution_count": 0,
      "outputs": []
    },
    {
      "cell_type": "code",
      "metadata": {
        "id": "pzRNCSFgcx91",
        "colab_type": "code",
        "colab": {}
      },
      "source": [
        "#from tensorflow.keras.models import load_model\n",
        "def load_model(weight_path):\n",
        "    '''\n",
        "    loading model back from .json file\n",
        "    '''\n",
        "    model = tf.keras.models.load_model(weight_path,custom_objects={'ppl_e': ppl_e,'ppl_2':ppl_2} )\n",
        "    #model = model_from_json(open(dirName + '/model.json').read())\n",
        "    #model.load_weights(dirName + '/weights/saved-model-145-0.9879.pkl',by_name=True)\n",
        "    #model.compile(optimizer =  tf.keras.optimizers.Adam(amsgrad=True), loss='categorical_crossentropy',metrics=['accuracy',ppl_e,ppl_2])\n",
        "    return model"
      ],
      "execution_count": 0,
      "outputs": []
    },
    {
      "cell_type": "code",
      "metadata": {
        "id": "m87S0MuhtNLK",
        "colab_type": "code",
        "colab": {}
      },
      "source": [
        "def evaluate(model,X,y,batch_size=64):\n",
        "  '''\n",
        "  evaluate model on data_set using model.evaluate \n",
        "  '''\n",
        "  loss , accuracy, ppl_e, ppl_2 = model.evaluate_generator(generator = generate_batch(X, y, batch_size = batch_size), \n",
        "                 verbose=1, steps = len(X)//batch_size,\n",
        "                 callbacks=None, max_queue_size=10, workers=1, \n",
        "                 use_multiprocessing=False)\n",
        "  return(loss , accuracy, ppl_e, ppl_2)"
      ],
      "execution_count": 0,
      "outputs": []
    },
    {
      "cell_type": "code",
      "metadata": {
        "id": "zBLB5zV6GbdP",
        "colab_type": "code",
        "colab": {}
      },
      "source": [
        ""
      ],
      "execution_count": 0,
      "outputs": []
    },
    {
      "cell_type": "code",
      "metadata": {
        "id": "UFZZrz1Bcx1Z",
        "colab_type": "code",
        "colab": {}
      },
      "source": [
        "#https://github.com/hamelsmu/Seq2Seq_Tutorial/blob/master/notebooks/seq2seq_utils.py\n",
        "def inference_model(model):\n",
        "  '''\n",
        "  Inference model used to predict\n",
        "  '''\n",
        "  dirName = '/content/drive/My Drive/char_level_attention_model'\n",
        "  file = open(dirName + '/constant_size_1.pkl', 'rb')\n",
        "  # dump information to that file\n",
        "  constant_size = pickle.load(file)\n",
        "  max_encoder_seq_length = constant_size['max_encoder_seq_length']\n",
        "  max_decoder_seq_length = constant_size['max_decoder_seq_length']\n",
        "  num_encoder_tokens = constant_size['vocab_size']\n",
        "  num_decoder_tokens = constant_size['vocab_size']\n",
        "  vocab_size = constant_size['vocab_size']\n",
        "\n",
        "  units = 256\n",
        "  batch_size = 64\n",
        "\n",
        "  ############### Encoder Inference ####################\n",
        "  inf_encoder_inputs = model.get_layer('Decoder-Input').input\n",
        "  inf_enc_emb = model.get_layer('Encoder-char-Embedding')(inf_encoder_inputs)\n",
        "  inf_encoder_outputs, inf_state_h_enc, inf_state_c_enc = model.get_layer('Encoder-Lstm')(inf_enc_emb)\n",
        "  print(inf_encoder_outputs)\n",
        "  inf_encoder_states = [inf_state_h_enc, inf_state_c_enc]\n",
        "\n",
        "  inf_encoder_model = Model(inputs=[inf_encoder_inputs],outputs= [inf_encoder_outputs ,inf_encoder_states])\n",
        "\n",
        "  ############## Decoder Inference ######################\n",
        "  inf_decoder_inputs = model.get_layer('Decoder-Input').input\n",
        "  inf_dec_emb = model.get_layer('Decoder-char-Embedding')(inf_decoder_inputs)\n",
        "\n",
        "  inf_decoder_state_input_h = Input(shape=(units,))\n",
        "  inf_decoder_state_input_c = Input(shape=(units,))\n",
        "\n",
        "  #inf_encoder_outputs_1 =  Input(shape=(max_decoder_seq_length,units))\n",
        "  inf_encoder_outputs_1 =  Input(shape=(None,units))\n",
        "  print(inf_encoder_outputs_1)\n",
        "  inf_decoder_states_inputs = [inf_decoder_state_input_h, inf_decoder_state_input_c]\n",
        "\n",
        "  inf_decoder_lstm = model.get_layer('Decoder-Lstm')\n",
        "  inf_decoder_outputs, inf_state_h_dec, inf_state_c_dec = inf_decoder_lstm(inf_dec_emb, initial_state=inf_decoder_states_inputs)\n",
        "  inf_decoder_states = [inf_state_h_dec, inf_state_c_dec]\n",
        "\n",
        "  dot_product_1 = model.get_layer('Dot_1')#Dot_1\n",
        "  dot_product_dec_enc = dot_product_1([inf_decoder_outputs,inf_encoder_outputs_1])\n",
        "\n",
        "  attention_layer = model.get_layer('attention')\n",
        "  attention_out = attention_layer(dot_product_dec_enc)\n",
        "\n",
        "  dot_cproduct_2 = model.get_layer('Dot_2')#Dot_2\n",
        "  context_vec = dot_cproduct_2([attention_out,inf_encoder_outputs_1])\n",
        "\n",
        "  concate_layer = model.get_layer('Concatenate')#Concatenate\n",
        "  decoder_combined = concate_layer([context_vec,inf_decoder_outputs])\n",
        "\n",
        "  dense_1 = model.get_layer('time_distributed_1')#time_distributed_1\n",
        "  output_1 = dense_1(decoder_combined)\n",
        "\n",
        "  dense_2 = model.get_layer('time_distributed_2')#time_distributed_2\n",
        "  output_final = dense_2(output_1)\n",
        "\n",
        "  inf_decoder_model = Model(\n",
        "      [inf_encoder_outputs_1,inf_decoder_inputs] + inf_decoder_states_inputs,\n",
        "      [output_final] + inf_decoder_states)\n",
        "\n",
        "  return(inf_encoder_model,inf_decoder_model)\n",
        "  \n"
      ],
      "execution_count": 0,
      "outputs": []
    },
    {
      "cell_type": "markdown",
      "metadata": {
        "id": "Lm_EGYKGf-1v",
        "colab_type": "text"
      },
      "source": [
        "# <font color=#0066cc> Beam_search\n",
        "</font>"
      ]
    },
    {
      "cell_type": "code",
      "metadata": {
        "id": "jUf-ROFHKcUG",
        "colab_type": "code",
        "colab": {}
      },
      "source": [
        "def predict_beamsearch(input_seq, inf_encoder_model , inf_decoder_model, k=3):\n",
        "    '''\n",
        "    Beam search with variable beam size\n",
        "\n",
        "    '''\n",
        "    dirName = '/content/drive/My Drive/char_level_attention_model'\n",
        "    file_1 = open(dirName + '/word2index_1.pkl', 'rb')\n",
        "    word2index = pickle.load(file_1)\n",
        "\n",
        "    file_2 = open(dirName + '/index2word_1.pkl', 'rb')\n",
        "    index2word = pickle.load(file_2)\n",
        "\n",
        "    file = open(dirName + '/constant_size_1.pkl', 'rb')\n",
        "    constant_size = pickle.load(file)\n",
        "    max_encoder_seq_length = constant_size['max_encoder_seq_length']\n",
        "    max_decoder_seq_length = constant_size['max_decoder_seq_length']\n",
        "    num_encoder_tokens = constant_size['vocab_size']\n",
        "    num_decoder_tokens = constant_size['vocab_size']\n",
        "    vocab_size = constant_size['vocab_size']\n",
        "\n",
        "    encoder_output,state_h,state_c = inf_encoder_model.predict(input_seq)\n",
        "    \n",
        "    all_seqs = []\n",
        "    all_seq_scores = []\n",
        "    \n",
        "    \n",
        "    live_seqs = [[word2index['\\t']]]\n",
        "    live_scores = [0]\n",
        "    live_states = [[state_h,state_c]]\n",
        "    # Sampling loop for a batch of sequences\n",
        "    # (to simplify, here we assume a batch of size 1).\n",
        "    decoded_sentence = ''\n",
        "\n",
        "    while len(live_seqs) > 0:  \n",
        "        new_live_seqs = [] \n",
        "        new_live_scores = [] \n",
        "        new_live_states = []\n",
        "\n",
        "        for sidx,seq in enumerate(live_seqs):\n",
        "            target_seq = np.array([[seq[-1]]])\n",
        "            output_token_probs, s, c = inf_decoder_model.predict([encoder_output,target_seq] + live_states[sidx])\n",
        "            best_token_indicies = output_token_probs[0,0,:].argsort()[-k:] \n",
        "            for token_index in best_token_indicies:\n",
        "                new_seq = seq + [token_index]\n",
        "                prob = output_token_probs[0,0,:][token_index]\n",
        "                new_seq_score = live_scores[sidx] - np.log(prob)\n",
        "                if index2word[token_index] == '\\n' or len(new_seq) > max_decoder_seq_length:\n",
        "                    all_seqs.append(new_seq) \n",
        "                    all_seq_scores.append(new_seq_score) \n",
        "                    continue\n",
        "                new_live_seqs.append(new_seq)\n",
        "                new_live_scores.append(new_seq_score)\n",
        "                new_live_states.append([s, c])\n",
        "                \n",
        "        while len(new_live_scores) > k:\n",
        "            worst_seq_score_idx = np.array(new_live_scores).argsort()[-1] \n",
        "            del new_live_seqs[worst_seq_score_idx]\n",
        "            del new_live_scores[worst_seq_score_idx]\n",
        "            del new_live_states[worst_seq_score_idx]\n",
        "            \n",
        "        live_seqs = new_live_seqs\n",
        "        live_scores = new_live_scores\n",
        "        live_states = new_live_states\n",
        "        \n",
        "    best_idx = np.argmin(all_seq_scores)\n",
        "    score = all_seq_scores[best_idx]\n",
        "    sentence = ''\n",
        "    for i in all_seqs[best_idx]:\n",
        "      sentence += index2word[i] + ''\n",
        "    \n",
        "    return (sentence)\n"
      ],
      "execution_count": 0,
      "outputs": []
    },
    {
      "cell_type": "markdown",
      "metadata": {
        "id": "5OAVtGkE9_-D",
        "colab_type": "text"
      },
      "source": [
        "#<font color=#0066cc> Functions call and training model </font>"
      ]
    },
    {
      "cell_type": "code",
      "metadata": {
        "id": "IMb9rytZ_QFe",
        "colab_type": "code",
        "outputId": "999dd7e9-9360-4bad-ed98-1b6baccec101",
        "colab": {
          "base_uri": "https://localhost:8080/",
          "height": 780
        }
      },
      "source": [
        "if __name__ == \"__main__\":\n",
        "  \n",
        "  # function call to get model\n",
        "  model = get_model()\n",
        "\n",
        "  #function call to save model\n",
        "  save_model(model)"
      ],
      "execution_count": 0,
      "outputs": [
        {
          "output_type": "stream",
          "text": [
            "WARNING:tensorflow:From /usr/local/lib/python3.6/dist-packages/tensorflow_core/python/keras/initializers.py:119: calling RandomUniform.__init__ (from tensorflow.python.ops.init_ops) with dtype is deprecated and will be removed in a future version.\n",
            "Instructions for updating:\n",
            "Call initializer instance with the dtype argument instead of passing it to the constructor\n",
            "WARNING:tensorflow:From /usr/local/lib/python3.6/dist-packages/tensorflow_core/python/ops/resource_variable_ops.py:1630: calling BaseResourceVariable.__init__ (from tensorflow.python.ops.resource_variable_ops) with constraint is deprecated and will be removed in a future version.\n",
            "Instructions for updating:\n",
            "If using Keras pass *_constraint arguments to layers.\n",
            "Model: \"model\"\n",
            "__________________________________________________________________________________________________\n",
            "Layer (type)                    Output Shape         Param #     Connected to                     \n",
            "==================================================================================================\n",
            "Encoder-Input (InputLayer)      [(None, 59)]         0                                            \n",
            "__________________________________________________________________________________________________\n",
            "Decoder-Input (InputLayer)      [(None, None)]       0                                            \n",
            "__________________________________________________________________________________________________\n",
            "Encoder-char-Embedding (Embeddi (None, 59, 12)       456         Encoder-Input[0][0]              \n",
            "__________________________________________________________________________________________________\n",
            "Decoder-char-Embedding (Embeddi (None, None, 12)     456         Decoder-Input[0][0]              \n",
            "__________________________________________________________________________________________________\n",
            "Encoder-Lstm (CuDNNLSTM)        [(None, 59, 256), (N 276480      Encoder-char-Embedding[0][0]     \n",
            "__________________________________________________________________________________________________\n",
            "Decoder-Lstm (CuDNNLSTM)        [(None, None, 256),  276480      Decoder-char-Embedding[0][0]     \n",
            "                                                                 Encoder-Lstm[0][1]               \n",
            "                                                                 Encoder-Lstm[0][2]               \n",
            "__________________________________________________________________________________________________\n",
            "Dot_1 (Dot)                     (None, None, 59)     0           Decoder-Lstm[0][0]               \n",
            "                                                                 Encoder-Lstm[0][0]               \n",
            "__________________________________________________________________________________________________\n",
            "attention (Activation)          (None, None, 59)     0           Dot_1[0][0]                      \n",
            "__________________________________________________________________________________________________\n",
            "Dot_2 (Dot)                     (None, None, 256)    0           attention[0][0]                  \n",
            "                                                                 Encoder-Lstm[0][0]               \n",
            "__________________________________________________________________________________________________\n",
            "Concatenate (Concatenate)       (None, None, 512)    0           Dot_2[0][0]                      \n",
            "                                                                 Decoder-Lstm[0][0]               \n",
            "__________________________________________________________________________________________________\n",
            "time_distributed_1 (TimeDistrib (None, None, 256)    131328      Concatenate[0][0]                \n",
            "__________________________________________________________________________________________________\n",
            "time_distributed_2 (TimeDistrib (None, None, 38)     9766        time_distributed_1[0][0]         \n",
            "==================================================================================================\n",
            "Total params: 694,966\n",
            "Trainable params: 694,966\n",
            "Non-trainable params: 0\n",
            "__________________________________________________________________________________________________\n"
          ],
          "name": "stdout"
        }
      ]
    },
    {
      "cell_type": "code",
      "metadata": {
        "id": "ifoYyxTdKFm8",
        "colab_type": "code",
        "outputId": "1481e8cc-cf04-465c-cd68-972ed9067dd9",
        "colab": {
          "base_uri": "https://localhost:8080/",
          "height": 35
        }
      },
      "source": [
        "if __name__ == \"__main__\":\n",
        "  # Create directory to store weights\n",
        "  path = dirName + '/weights'\n",
        "  try:\n",
        "      # Create target Directory\n",
        "      os.mkdir(path)\n",
        "      print(\"Directory \" , path ,  \" Created \") \n",
        "  except FileExistsError:\n",
        "      print(\"Directory \" , path ,  \" already exists\")\n",
        "\n",
        "  lr_schedular = LearningRateScheduler(lr_scheduler,verbose = 1)\n",
        "\n",
        "  checkpoint_path = dirName + '/weights/saved-model-{epoch:02d}.pkl'\n",
        "  checkpoint = ModelCheckpoint(checkpoint_path, monitor='val_loss', mode='min', verbose=0)"
      ],
      "execution_count": 0,
      "outputs": [
        {
          "output_type": "stream",
          "text": [
            "Directory  /content/drive/My Drive/char_level_attention_model/weights  already exists\n"
          ],
          "name": "stdout"
        }
      ]
    },
    {
      "cell_type": "code",
      "metadata": {
        "id": "J8i7VNJfKFkm",
        "colab_type": "code",
        "outputId": "2b05a4ec-a387-46b0-8232-f72e9a435576",
        "colab": {
          "base_uri": "https://localhost:8080/",
          "height": 35
        }
      },
      "source": [
        "if __name__ == \"__main__\":\n",
        "\n",
        "  # Create directory to store weights\n",
        "  path = dirName + '/logs_2'\n",
        "  try:\n",
        "      # Create target Directory\n",
        "      os.mkdir(path)\n",
        "      print(\"Directory \" , path ,  \" Created \") \n",
        "  except FileExistsError:\n",
        "      print(\"Directory \" , path ,  \" already exists\")\n",
        "\n",
        "  LOG_DIR = dirName + '/logs_2'\n",
        "  tbCallBack = tf.keras.callbacks.TensorBoard(log_dir=LOG_DIR, histogram_freq=5,\n",
        "                                            write_graph=False,\n",
        "                                            write_images=False,\n",
        "                                            update_freq='epoch',\n",
        "                                            profile_batch=2,\n",
        "                                            embeddings_freq=0,\n",
        "                                            embeddings_metadata=None)\n",
        "  "
      ],
      "execution_count": 0,
      "outputs": [
        {
          "output_type": "stream",
          "text": [
            "Directory  /content/drive/My Drive/char_level_attention_model/logs_2  already exists\n"
          ],
          "name": "stdout"
        }
      ]
    },
    {
      "cell_type": "code",
      "metadata": {
        "id": "pxHOHoTBJ6v9",
        "colab_type": "code",
        "colab": {}
      },
      "source": [
        "reduce_lr = ReduceLROnPlateau(monitor='val_loss', factor=0.2,\n",
        "                              patience=5, min_lr=0.0004)"
      ],
      "execution_count": 0,
      "outputs": []
    },
    {
      "cell_type": "code",
      "metadata": {
        "id": "6XpbdjG7rRER",
        "colab_type": "code",
        "outputId": "f10f6976-c36c-40ce-d09c-eb75cea80b41",
        "colab": {
          "base_uri": "https://localhost:8080/",
          "height": 52
        }
      },
      "source": [
        "if __name__ == \"__main__\":\n",
        "  batch_size =64\n",
        "  epochs = 200\n",
        "\n",
        "  train_df = pd.read_csv(dirName + '/shuffled_train.csv')\n",
        "  train_df.dropna(inplace=True)\n",
        "  X_train = train_df['X']\n",
        "  y_train = train_df['Y']\n",
        "  train_samples = len(X_train)\n",
        "  print(\"No of training sample\",train_samples)\n",
        "\n",
        "  cv_df = pd.read_csv(dirName + '/shuffled_cv.csv')\n",
        "  cv_df.dropna(inplace=True)\n",
        "  #X_cv = cv_df['X']\n",
        "  #y_cv = cv_df['Y']\n",
        "  val_samples = len(cv_df['X'])\n",
        "  [cv_encoder_input_data, cv_decoder_input_data], cv_decoder_target_data = next(generate_batch( cv_df['X'], cv_df['Y'],batch_size = val_samples))\n",
        "  print(\"No of cv sample\",val_samples) "
      ],
      "execution_count": 0,
      "outputs": [
        {
          "output_type": "stream",
          "text": [
            "No of training sample 243880\n",
            "No of cv sample 30060\n"
          ],
          "name": "stdout"
        }
      ]
    },
    {
      "cell_type": "code",
      "metadata": {
        "id": "c2QNIQ2GKFiI",
        "colab_type": "code",
        "outputId": "f99f3298-5f35-4fe5-afd9-66ede0865c87",
        "colab": {
          "base_uri": "https://localhost:8080/",
          "height": 1000
        }
      },
      "source": [
        "if __name__ == \"__main__\":\n",
        "  Model_history = model.fit_generator(generator = generate_batch(X_train, y_train, batch_size = batch_size),\n",
        "                            steps_per_epoch = train_samples//batch_size,\n",
        "                            shuffle=False,\n",
        "                            verbose=1,\n",
        "                            epochs=epochs,\n",
        "                            validation_data = ([cv_encoder_input_data, cv_decoder_input_data], cv_decoder_target_data),\n",
        "                            #validation_steps = val_samples//batch_size,\n",
        "                            callbacks= [checkpoint,tbCallBack,reduce_lr],#,lr_schedular],\n",
        "                            initial_epoch = 0)\n"
      ],
      "execution_count": 0,
      "outputs": [
        {
          "output_type": "stream",
          "text": [
            "Epoch 1/200\n",
            "WARNING:tensorflow:From /usr/local/lib/python3.6/dist-packages/tensorflow_core/python/ops/math_grad.py:1424: where (from tensorflow.python.ops.array_ops) is deprecated and will be removed in a future version.\n",
            "Instructions for updating:\n",
            "Use tf.where in 2.0, which has the same broadcast rule as np.where\n",
            "3809/3810 [============================>.] - ETA: 0s - loss: 0.8988 - sparse_categorical_accuracy: 0.7533 - ppl_e: 2.4556 - ppl_2: 1.8504Epoch 1/200\n",
            "30060/3810 [============================================================================================================================================================================================================================================] - 71s 2ms/sample - loss: 0.7221 - sparse_categorical_accuracy: 0.7817 - ppl_e: 2.1277 - ppl_2: 1.6869\n",
            "3810/3810 [==============================] - 140s 37ms/step - loss: 0.8988 - sparse_categorical_accuracy: 0.7533 - ppl_e: 2.4556 - ppl_2: 1.8504 - val_loss: 0.7654 - val_sparse_categorical_accuracy: 0.7817 - val_ppl_e: 2.1277 - val_ppl_2: 1.6869\n",
            "Epoch 2/200\n",
            "3809/3810 [============================>.] - ETA: 0s - loss: 0.7354 - sparse_categorical_accuracy: 0.7908 - ppl_e: 3.6187 - ppl_2: 1.7563Epoch 1/200\n",
            "30060/3810 [============================================================================================================================================================================================================================================] - 3s 100us/sample - loss: 0.6556 - sparse_categorical_accuracy: 0.8036 - ppl_e: 1.9746 - ppl_2: 1.6019\n",
            "3810/3810 [==============================] - 66s 17ms/step - loss: 0.7353 - sparse_categorical_accuracy: 0.7908 - ppl_e: 3.6182 - ppl_2: 1.7562 - val_loss: 0.6923 - val_sparse_categorical_accuracy: 0.8036 - val_ppl_e: 1.9746 - val_ppl_2: 1.6019\n",
            "Epoch 3/200\n",
            "3809/3810 [============================>.] - ETA: 0s - loss: 0.6286 - sparse_categorical_accuracy: 0.8223 - ppl_e: 1.8524 - ppl_2: 1.5325Epoch 1/200\n",
            "30060/3810 [============================================================================================================================================================================================================================================] - 3s 99us/sample - loss: 0.5959 - sparse_categorical_accuracy: 0.8214 - ppl_e: 1.8714 - ppl_2: 1.5435\n",
            "3810/3810 [==============================] - 66s 17ms/step - loss: 0.6286 - sparse_categorical_accuracy: 0.8223 - ppl_e: 1.8524 - ppl_2: 1.5325 - val_loss: 0.6392 - val_sparse_categorical_accuracy: 0.8214 - val_ppl_e: 1.8714 - val_ppl_2: 1.5435\n",
            "Epoch 4/200\n",
            "3809/3810 [============================>.] - ETA: 0s - loss: 0.5305 - sparse_categorical_accuracy: 0.8530 - ppl_e: 1.6779 - ppl_2: 1.4312Epoch 1/200\n",
            "30060/3810 [============================================================================================================================================================================================================================================] - 3s 98us/sample - loss: 0.5502 - sparse_categorical_accuracy: 0.8364 - ppl_e: 1.8003 - ppl_2: 1.5026\n",
            "3810/3810 [==============================] - 66s 17ms/step - loss: 0.5305 - sparse_categorical_accuracy: 0.8530 - ppl_e: 1.6779 - ppl_2: 1.4312 - val_loss: 0.6006 - val_sparse_categorical_accuracy: 0.8364 - val_ppl_e: 1.8003 - val_ppl_2: 1.5026\n",
            "Epoch 5/200\n",
            "3809/3810 [============================>.] - ETA: 0s - loss: 0.4595 - sparse_categorical_accuracy: 0.8745 - ppl_e: 1.5624 - ppl_2: 1.3622Epoch 1/200\n",
            "30060/3810 [============================================================================================================================================================================================================================================] - 3s 97us/sample - loss: 0.5259 - sparse_categorical_accuracy: 0.8471 - ppl_e: 1.7631 - ppl_2: 1.4810\n",
            "3810/3810 [==============================] - 67s 17ms/step - loss: 0.4595 - sparse_categorical_accuracy: 0.8745 - ppl_e: 1.5624 - ppl_2: 1.3622 - val_loss: 0.5793 - val_sparse_categorical_accuracy: 0.8471 - val_ppl_e: 1.7631 - val_ppl_2: 1.4810\n",
            "Epoch 6/200\n",
            "3808/3810 [============================>.] - ETA: 0s - loss: 0.4126 - sparse_categorical_accuracy: 0.8880 - ppl_e: 1.4909 - ppl_2: 1.3188Epoch 1/200\n",
            "30060/3810 [============================================================================================================================================================================================================================================] - 70s 2ms/sample - loss: 0.5116 - sparse_categorical_accuracy: 0.8545 - ppl_e: 1.7417 - ppl_2: 1.4685\n",
            "3810/3810 [==============================] - 134s 35ms/step - loss: 0.4126 - sparse_categorical_accuracy: 0.8880 - ppl_e: 1.4909 - ppl_2: 1.3188 - val_loss: 0.5667 - val_sparse_categorical_accuracy: 0.8545 - val_ppl_e: 1.7417 - val_ppl_2: 1.4685\n",
            "Epoch 7/200\n",
            "3807/3810 [============================>.] - ETA: 0s - loss: 0.3807 - sparse_categorical_accuracy: 0.8972 - ppl_e: 1.4443 - ppl_2: 1.2901Epoch 1/200\n",
            "30060/3810 [============================================================================================================================================================================================================================================] - 3s 101us/sample - loss: 0.5028 - sparse_categorical_accuracy: 0.8595 - ppl_e: 1.7316 - ppl_2: 1.4625\n",
            "3810/3810 [==============================] - 68s 18ms/step - loss: 0.3807 - sparse_categorical_accuracy: 0.8972 - ppl_e: 1.4443 - ppl_2: 1.2901 - val_loss: 0.5604 - val_sparse_categorical_accuracy: 0.8595 - val_ppl_e: 1.7316 - val_ppl_2: 1.4625\n",
            "Epoch 8/200\n",
            "3808/3810 [============================>.] - ETA: 0s - loss: 0.3580 - sparse_categorical_accuracy: 0.9034 - ppl_e: 1.4124 - ppl_2: 1.2703Epoch 1/200\n",
            "30060/3810 [============================================================================================================================================================================================================================================] - 3s 97us/sample - loss: 0.4973 - sparse_categorical_accuracy: 0.8629 - ppl_e: 1.7275 - ppl_2: 1.4601\n",
            "3810/3810 [==============================] - 67s 17ms/step - loss: 0.3580 - sparse_categorical_accuracy: 0.9034 - ppl_e: 1.4124 - ppl_2: 1.2703 - val_loss: 0.5576 - val_sparse_categorical_accuracy: 0.8629 - val_ppl_e: 1.7275 - val_ppl_2: 1.4601\n",
            "Epoch 9/200\n",
            "3807/3810 [============================>.] - ETA: 0s - loss: 0.3413 - sparse_categorical_accuracy: 0.9079 - ppl_e: 1.3894 - ppl_2: 1.2559Epoch 1/200\n",
            "30060/3810 [============================================================================================================================================================================================================================================] - 3s 98us/sample - loss: 0.4931 - sparse_categorical_accuracy: 0.8655 - ppl_e: 1.7260 - ppl_2: 1.4592\n",
            "3810/3810 [==============================] - 67s 17ms/step - loss: 0.3413 - sparse_categorical_accuracy: 0.9079 - ppl_e: 1.3894 - ppl_2: 1.2559 - val_loss: 0.5562 - val_sparse_categorical_accuracy: 0.8655 - val_ppl_e: 1.7260 - val_ppl_2: 1.4592\n",
            "Epoch 10/200\n",
            "3809/3810 [============================>.] - ETA: 0s - loss: 0.3283 - sparse_categorical_accuracy: 0.9113 - ppl_e: 1.3719 - ppl_2: 1.2450Epoch 1/200\n",
            "30060/3810 [============================================================================================================================================================================================================================================] - 3s 99us/sample - loss: 0.4903 - sparse_categorical_accuracy: 0.8676 - ppl_e: 1.7269 - ppl_2: 1.4597\n",
            "3810/3810 [==============================] - 66s 17ms/step - loss: 0.3283 - sparse_categorical_accuracy: 0.9113 - ppl_e: 1.3719 - ppl_2: 1.2450 - val_loss: 0.5562 - val_sparse_categorical_accuracy: 0.8676 - val_ppl_e: 1.7269 - val_ppl_2: 1.4597\n",
            "Epoch 11/200\n",
            "3809/3810 [============================>.] - ETA: 0s - loss: 0.3179 - sparse_categorical_accuracy: 0.9139 - ppl_e: 1.3581 - ppl_2: 1.2363Epoch 1/200\n",
            "30060/3810 [============================================================================================================================================================================================================================================] - 70s 2ms/sample - loss: 0.4880 - sparse_categorical_accuracy: 0.8693 - ppl_e: 1.7288 - ppl_2: 1.4607\n",
            "3810/3810 [==============================] - 134s 35ms/step - loss: 0.3179 - sparse_categorical_accuracy: 0.9139 - ppl_e: 1.3581 - ppl_2: 1.2363 - val_loss: 0.5569 - val_sparse_categorical_accuracy: 0.8693 - val_ppl_e: 1.7288 - val_ppl_2: 1.4607\n",
            "Epoch 12/200\n",
            "3806/3810 [============================>.] - ETA: 0s - loss: 0.3094 - sparse_categorical_accuracy: 0.9161 - ppl_e: 1.3470 - ppl_2: 1.2293Epoch 1/200\n",
            "30060/3810 [============================================================================================================================================================================================================================================] - 3s 100us/sample - loss: 0.4870 - sparse_categorical_accuracy: 0.8705 - ppl_e: 1.7314 - ppl_2: 1.4622\n",
            "3810/3810 [==============================] - 67s 17ms/step - loss: 0.3094 - sparse_categorical_accuracy: 0.9161 - ppl_e: 1.3470 - ppl_2: 1.2293 - val_loss: 0.5580 - val_sparse_categorical_accuracy: 0.8705 - val_ppl_e: 1.7314 - val_ppl_2: 1.4622\n",
            "Epoch 13/200\n",
            "3809/3810 [============================>.] - ETA: 0s - loss: 0.3022 - sparse_categorical_accuracy: 0.9179 - ppl_e: 1.3378 - ppl_2: 1.2235Epoch 1/200\n",
            "30060/3810 [============================================================================================================================================================================================================================================] - 3s 98us/sample - loss: 0.4869 - sparse_categorical_accuracy: 0.8715 - ppl_e: 1.7341 - ppl_2: 1.4637\n",
            "3810/3810 [==============================] - 66s 17ms/step - loss: 0.3022 - sparse_categorical_accuracy: 0.9179 - ppl_e: 1.3378 - ppl_2: 1.2234 - val_loss: 0.5592 - val_sparse_categorical_accuracy: 0.8715 - val_ppl_e: 1.7341 - val_ppl_2: 1.4637\n",
            "Epoch 14/200\n",
            "3809/3810 [============================>.] - ETA: 0s - loss: 0.2962 - sparse_categorical_accuracy: 0.9194 - ppl_e: 1.3300 - ppl_2: 1.2186Epoch 1/200\n",
            "30060/3810 [============================================================================================================================================================================================================================================] - 3s 97us/sample - loss: 0.4874 - sparse_categorical_accuracy: 0.8723 - ppl_e: 1.7368 - ppl_2: 1.4653\n",
            "3810/3810 [==============================] - 66s 17ms/step - loss: 0.2962 - sparse_categorical_accuracy: 0.9194 - ppl_e: 1.3300 - ppl_2: 1.2185 - val_loss: 0.5604 - val_sparse_categorical_accuracy: 0.8723 - val_ppl_e: 1.7368 - val_ppl_2: 1.4653\n",
            "Epoch 15/200\n",
            "3806/3810 [============================>.] - ETA: 0s - loss: 0.2850 - sparse_categorical_accuracy: 0.9221 - ppl_e: 1.3175 - ppl_2: 1.2106Epoch 1/200\n",
            "30060/3810 [============================================================================================================================================================================================================================================] - 3s 98us/sample - loss: 0.4828 - sparse_categorical_accuracy: 0.8741 - ppl_e: 1.7321 - ppl_2: 1.4626\n",
            "3810/3810 [==============================] - 66s 17ms/step - loss: 0.2850 - sparse_categorical_accuracy: 0.9221 - ppl_e: 1.3175 - ppl_2: 1.2106 - val_loss: 0.5559 - val_sparse_categorical_accuracy: 0.8741 - val_ppl_e: 1.7321 - val_ppl_2: 1.4626\n",
            "Epoch 16/200\n",
            "3807/3810 [============================>.] - ETA: 0s - loss: 0.2822 - sparse_categorical_accuracy: 0.9228 - ppl_e: 1.3140 - ppl_2: 1.2084Epoch 1/200\n",
            "30060/3810 [============================================================================================================================================================================================================================================] - 70s 2ms/sample - loss: 0.4833 - sparse_categorical_accuracy: 0.8746 - ppl_e: 1.7348 - ppl_2: 1.4641\n",
            "3810/3810 [==============================] - 133s 35ms/step - loss: 0.2822 - sparse_categorical_accuracy: 0.9228 - ppl_e: 1.3140 - ppl_2: 1.2084 - val_loss: 0.5572 - val_sparse_categorical_accuracy: 0.8746 - val_ppl_e: 1.7348 - val_ppl_2: 1.4641\n",
            "Epoch 17/200\n",
            "3806/3810 [============================>.] - ETA: 0s - loss: 0.2798 - sparse_categorical_accuracy: 0.9234 - ppl_e: 1.3111 - ppl_2: 1.2065Epoch 1/200\n",
            "30060/3810 [============================================================================================================================================================================================================================================] - 3s 101us/sample - loss: 0.4840 - sparse_categorical_accuracy: 0.8749 - ppl_e: 1.7377 - ppl_2: 1.4658\n",
            "3810/3810 [==============================] - 66s 17ms/step - loss: 0.2798 - sparse_categorical_accuracy: 0.9234 - ppl_e: 1.3111 - ppl_2: 1.2065 - val_loss: 0.5587 - val_sparse_categorical_accuracy: 0.8749 - val_ppl_e: 1.7377 - val_ppl_2: 1.4658\n",
            "Epoch 18/200\n",
            "3807/3810 [============================>.] - ETA: 0s - loss: 0.2777 - sparse_categorical_accuracy: 0.9239 - ppl_e: 1.3084 - ppl_2: 1.2048Epoch 1/200\n",
            "30060/3810 [============================================================================================================================================================================================================================================] - 3s 97us/sample - loss: 0.4849 - sparse_categorical_accuracy: 0.8753 - ppl_e: 1.7408 - ppl_2: 1.4676\n",
            "3810/3810 [==============================] - 66s 17ms/step - loss: 0.2777 - sparse_categorical_accuracy: 0.9239 - ppl_e: 1.3085 - ppl_2: 1.2048 - val_loss: 0.5603 - val_sparse_categorical_accuracy: 0.8753 - val_ppl_e: 1.7408 - val_ppl_2: 1.4676\n",
            "Epoch 19/200\n",
            "3808/3810 [============================>.] - ETA: 0s - loss: 0.2757 - sparse_categorical_accuracy: 0.9243 - ppl_e: 1.3060 - ppl_2: 1.2032Epoch 1/200\n",
            "30060/3810 [============================================================================================================================================================================================================================================] - 3s 99us/sample - loss: 0.4860 - sparse_categorical_accuracy: 0.8756 - ppl_e: 1.7441 - ppl_2: 1.4695\n",
            "3810/3810 [==============================] - 67s 17ms/step - loss: 0.2757 - sparse_categorical_accuracy: 0.9243 - ppl_e: 1.3060 - ppl_2: 1.2032 - val_loss: 0.5620 - val_sparse_categorical_accuracy: 0.8756 - val_ppl_e: 1.7441 - val_ppl_2: 1.4695\n",
            "Epoch 20/200\n",
            "3809/3810 [============================>.] - ETA: 0s - loss: 0.2738 - sparse_categorical_accuracy: 0.9248 - ppl_e: 1.3036 - ppl_2: 1.2017Epoch 1/200\n",
            "30060/3810 [============================================================================================================================================================================================================================================] - 3s 98us/sample - loss: 0.4870 - sparse_categorical_accuracy: 0.8758 - ppl_e: 1.7471 - ppl_2: 1.4712\n",
            "3810/3810 [==============================] - 67s 18ms/step - loss: 0.2738 - sparse_categorical_accuracy: 0.9248 - ppl_e: 1.3036 - ppl_2: 1.2017 - val_loss: 0.5636 - val_sparse_categorical_accuracy: 0.8758 - val_ppl_e: 1.7471 - val_ppl_2: 1.4712\n",
            "Epoch 21/200\n",
            "3807/3810 [============================>.] - ETA: 0s - loss: 0.2720 - sparse_categorical_accuracy: 0.9252 - ppl_e: 1.3014 - ppl_2: 1.2003Epoch 1/200\n",
            "30060/3810 [============================================================================================================================================================================================================================================] - 72s 2ms/sample - loss: 0.4881 - sparse_categorical_accuracy: 0.8760 - ppl_e: 1.7499 - ppl_2: 1.4728\n",
            "3810/3810 [==============================] - 135s 36ms/step - loss: 0.2720 - sparse_categorical_accuracy: 0.9252 - ppl_e: 1.3014 - ppl_2: 1.2003 - val_loss: 0.5651 - val_sparse_categorical_accuracy: 0.8760 - val_ppl_e: 1.7499 - val_ppl_2: 1.4728\n",
            "Epoch 22/200\n",
            "3809/3810 [============================>.] - ETA: 0s - loss: 0.2703 - sparse_categorical_accuracy: 0.9256 - ppl_e: 1.2994 - ppl_2: 1.1990Epoch 1/200\n",
            "30060/3810 [============================================================================================================================================================================================================================================] - 3s 102us/sample - loss: 0.4891 - sparse_categorical_accuracy: 0.8763 - ppl_e: 1.7524 - ppl_2: 1.4743\n",
            "3810/3810 [==============================] - 67s 17ms/step - loss: 0.2703 - sparse_categorical_accuracy: 0.9256 - ppl_e: 1.2994 - ppl_2: 1.1990 - val_loss: 0.5664 - val_sparse_categorical_accuracy: 0.8763 - val_ppl_e: 1.7524 - val_ppl_2: 1.4743\n",
            "Epoch 23/200\n",
            "3807/3810 [============================>.] - ETA: 0s - loss: 0.2687 - sparse_categorical_accuracy: 0.9259 - ppl_e: 1.2974 - ppl_2: 1.1978Epoch 1/200\n",
            "30060/3810 [============================================================================================================================================================================================================================================] - 3s 98us/sample - loss: 0.4899 - sparse_categorical_accuracy: 0.8765 - ppl_e: 1.7544 - ppl_2: 1.4755\n",
            "3810/3810 [==============================] - 67s 17ms/step - loss: 0.2687 - sparse_categorical_accuracy: 0.9259 - ppl_e: 1.2974 - ppl_2: 1.1978 - val_loss: 0.5674 - val_sparse_categorical_accuracy: 0.8765 - val_ppl_e: 1.7544 - val_ppl_2: 1.4755\n",
            "Epoch 24/200\n",
            "3806/3810 [============================>.] - ETA: 0s - loss: 0.2672 - sparse_categorical_accuracy: 0.9263 - ppl_e: 1.2956 - ppl_2: 1.1966Epoch 1/200\n",
            "30060/3810 [============================================================================================================================================================================================================================================] - 3s 98us/sample - loss: 0.4907 - sparse_categorical_accuracy: 0.8767 - ppl_e: 1.7562 - ppl_2: 1.4765\n",
            "3810/3810 [==============================] - 67s 17ms/step - loss: 0.2672 - sparse_categorical_accuracy: 0.9263 - ppl_e: 1.2956 - ppl_2: 1.1966 - val_loss: 0.5683 - val_sparse_categorical_accuracy: 0.8767 - val_ppl_e: 1.7562 - val_ppl_2: 1.4765\n",
            "Epoch 25/200\n",
            "3807/3810 [============================>.] - ETA: 0s - loss: 0.2658 - sparse_categorical_accuracy: 0.9266 - ppl_e: 1.2938 - ppl_2: 1.1955Epoch 1/200\n",
            "30060/3810 [============================================================================================================================================================================================================================================] - 3s 98us/sample - loss: 0.4916 - sparse_categorical_accuracy: 0.8769 - ppl_e: 1.7578 - ppl_2: 1.4774\n",
            "3810/3810 [==============================] - 67s 17ms/step - loss: 0.2658 - sparse_categorical_accuracy: 0.9266 - ppl_e: 1.2938 - ppl_2: 1.1955 - val_loss: 0.5691 - val_sparse_categorical_accuracy: 0.8769 - val_ppl_e: 1.7578 - val_ppl_2: 1.4774\n",
            "Epoch 26/200\n",
            "2733/3810 [====================>.........] - ETA: 17s - loss: 0.2647 - sparse_categorical_accuracy: 0.9269 - ppl_e: 1.2924 - ppl_2: 1.1946"
          ],
          "name": "stdout"
        },
        {
          "output_type": "error",
          "ename": "KeyboardInterrupt",
          "evalue": "ignored",
          "traceback": [
            "\u001b[0;31m---------------------------------------------------------------------------\u001b[0m",
            "\u001b[0;31mKeyboardInterrupt\u001b[0m                         Traceback (most recent call last)",
            "\u001b[0;32m<ipython-input-22-ed94c0fc2516>\u001b[0m in \u001b[0;36m<module>\u001b[0;34m()\u001b[0m\n\u001b[1;32m      8\u001b[0m                             \u001b[0;31m#validation_steps = val_samples//batch_size,\u001b[0m\u001b[0;34m\u001b[0m\u001b[0;34m\u001b[0m\u001b[0;34m\u001b[0m\u001b[0m\n\u001b[1;32m      9\u001b[0m                             \u001b[0mcallbacks\u001b[0m\u001b[0;34m=\u001b[0m \u001b[0;34m[\u001b[0m\u001b[0mcheckpoint\u001b[0m\u001b[0;34m,\u001b[0m\u001b[0mtbCallBack\u001b[0m\u001b[0;34m,\u001b[0m\u001b[0mreduce_lr\u001b[0m\u001b[0;34m]\u001b[0m\u001b[0;34m,\u001b[0m\u001b[0;31m#,lr_schedular],\u001b[0m\u001b[0;34m\u001b[0m\u001b[0;34m\u001b[0m\u001b[0m\n\u001b[0;32m---> 10\u001b[0;31m                             initial_epoch = 0)\n\u001b[0m",
            "\u001b[0;32m/usr/local/lib/python3.6/dist-packages/tensorflow_core/python/keras/engine/training.py\u001b[0m in \u001b[0;36mfit_generator\u001b[0;34m(self, generator, steps_per_epoch, epochs, verbose, callbacks, validation_data, validation_steps, validation_freq, class_weight, max_queue_size, workers, use_multiprocessing, shuffle, initial_epoch)\u001b[0m\n\u001b[1;32m   1294\u001b[0m         \u001b[0mshuffle\u001b[0m\u001b[0;34m=\u001b[0m\u001b[0mshuffle\u001b[0m\u001b[0;34m,\u001b[0m\u001b[0;34m\u001b[0m\u001b[0;34m\u001b[0m\u001b[0m\n\u001b[1;32m   1295\u001b[0m         \u001b[0minitial_epoch\u001b[0m\u001b[0;34m=\u001b[0m\u001b[0minitial_epoch\u001b[0m\u001b[0;34m,\u001b[0m\u001b[0;34m\u001b[0m\u001b[0;34m\u001b[0m\u001b[0m\n\u001b[0;32m-> 1296\u001b[0;31m         steps_name='steps_per_epoch')\n\u001b[0m\u001b[1;32m   1297\u001b[0m \u001b[0;34m\u001b[0m\u001b[0m\n\u001b[1;32m   1298\u001b[0m   def evaluate_generator(self,\n",
            "\u001b[0;32m/usr/local/lib/python3.6/dist-packages/tensorflow_core/python/keras/engine/training_generator.py\u001b[0m in \u001b[0;36mmodel_iteration\u001b[0;34m(model, data, steps_per_epoch, epochs, verbose, callbacks, validation_data, validation_steps, validation_freq, class_weight, max_queue_size, workers, use_multiprocessing, shuffle, initial_epoch, mode, batch_size, steps_name, **kwargs)\u001b[0m\n\u001b[1;32m    292\u001b[0m       \u001b[0;31m# Callbacks batch end.\u001b[0m\u001b[0;34m\u001b[0m\u001b[0;34m\u001b[0m\u001b[0;34m\u001b[0m\u001b[0m\n\u001b[1;32m    293\u001b[0m       \u001b[0mbatch_logs\u001b[0m \u001b[0;34m=\u001b[0m \u001b[0mcbks\u001b[0m\u001b[0;34m.\u001b[0m\u001b[0mmake_logs\u001b[0m\u001b[0;34m(\u001b[0m\u001b[0mmodel\u001b[0m\u001b[0;34m,\u001b[0m \u001b[0mbatch_logs\u001b[0m\u001b[0;34m,\u001b[0m \u001b[0mbatch_outs\u001b[0m\u001b[0;34m,\u001b[0m \u001b[0mmode\u001b[0m\u001b[0;34m)\u001b[0m\u001b[0;34m\u001b[0m\u001b[0;34m\u001b[0m\u001b[0m\n\u001b[0;32m--> 294\u001b[0;31m       \u001b[0mcallbacks\u001b[0m\u001b[0;34m.\u001b[0m\u001b[0m_call_batch_hook\u001b[0m\u001b[0;34m(\u001b[0m\u001b[0mmode\u001b[0m\u001b[0;34m,\u001b[0m \u001b[0;34m'end'\u001b[0m\u001b[0;34m,\u001b[0m \u001b[0mstep\u001b[0m\u001b[0;34m,\u001b[0m \u001b[0mbatch_logs\u001b[0m\u001b[0;34m)\u001b[0m\u001b[0;34m\u001b[0m\u001b[0;34m\u001b[0m\u001b[0m\n\u001b[0m\u001b[1;32m    295\u001b[0m       \u001b[0mprogbar\u001b[0m\u001b[0;34m.\u001b[0m\u001b[0mon_batch_end\u001b[0m\u001b[0;34m(\u001b[0m\u001b[0mstep\u001b[0m\u001b[0;34m,\u001b[0m \u001b[0mbatch_logs\u001b[0m\u001b[0;34m)\u001b[0m\u001b[0;34m\u001b[0m\u001b[0;34m\u001b[0m\u001b[0m\n\u001b[1;32m    296\u001b[0m       \u001b[0mstep\u001b[0m \u001b[0;34m+=\u001b[0m \u001b[0;36m1\u001b[0m\u001b[0;34m\u001b[0m\u001b[0;34m\u001b[0m\u001b[0m\n",
            "\u001b[0;32m/usr/local/lib/python3.6/dist-packages/tensorflow_core/python/keras/callbacks.py\u001b[0m in \u001b[0;36m_call_batch_hook\u001b[0;34m(self, mode, hook, batch, logs)\u001b[0m\n\u001b[1;32m    237\u001b[0m     \u001b[0mself\u001b[0m\u001b[0;34m.\u001b[0m\u001b[0m_delta_ts\u001b[0m\u001b[0;34m[\u001b[0m\u001b[0mhook_name\u001b[0m\u001b[0;34m]\u001b[0m\u001b[0;34m.\u001b[0m\u001b[0mappend\u001b[0m\u001b[0;34m(\u001b[0m\u001b[0mtime\u001b[0m\u001b[0;34m.\u001b[0m\u001b[0mtime\u001b[0m\u001b[0;34m(\u001b[0m\u001b[0;34m)\u001b[0m \u001b[0;34m-\u001b[0m \u001b[0mt_before_callbacks\u001b[0m\u001b[0;34m)\u001b[0m\u001b[0;34m\u001b[0m\u001b[0;34m\u001b[0m\u001b[0m\n\u001b[1;32m    238\u001b[0m \u001b[0;34m\u001b[0m\u001b[0m\n\u001b[0;32m--> 239\u001b[0;31m     \u001b[0mdelta_t_median\u001b[0m \u001b[0;34m=\u001b[0m \u001b[0mnp\u001b[0m\u001b[0;34m.\u001b[0m\u001b[0mmedian\u001b[0m\u001b[0;34m(\u001b[0m\u001b[0mself\u001b[0m\u001b[0;34m.\u001b[0m\u001b[0m_delta_ts\u001b[0m\u001b[0;34m[\u001b[0m\u001b[0mhook_name\u001b[0m\u001b[0;34m]\u001b[0m\u001b[0;34m)\u001b[0m\u001b[0;34m\u001b[0m\u001b[0;34m\u001b[0m\u001b[0m\n\u001b[0m\u001b[1;32m    240\u001b[0m     if (self._delta_t_batch > 0. and\n\u001b[1;32m    241\u001b[0m         delta_t_median > 0.95 * self._delta_t_batch and delta_t_median > 0.1):\n",
            "\u001b[0;32m<__array_function__ internals>\u001b[0m in \u001b[0;36mmedian\u001b[0;34m(*args, **kwargs)\u001b[0m\n",
            "\u001b[0;32m/usr/local/lib/python3.6/dist-packages/numpy/lib/function_base.py\u001b[0m in \u001b[0;36mmedian\u001b[0;34m(a, axis, out, overwrite_input, keepdims)\u001b[0m\n\u001b[1;32m   3500\u001b[0m     \"\"\"\n\u001b[1;32m   3501\u001b[0m     r, k = _ureduce(a, func=_median, axis=axis, out=out,\n\u001b[0;32m-> 3502\u001b[0;31m                     overwrite_input=overwrite_input)\n\u001b[0m\u001b[1;32m   3503\u001b[0m     \u001b[0;32mif\u001b[0m \u001b[0mkeepdims\u001b[0m\u001b[0;34m:\u001b[0m\u001b[0;34m\u001b[0m\u001b[0;34m\u001b[0m\u001b[0m\n\u001b[1;32m   3504\u001b[0m         \u001b[0;32mreturn\u001b[0m \u001b[0mr\u001b[0m\u001b[0;34m.\u001b[0m\u001b[0mreshape\u001b[0m\u001b[0;34m(\u001b[0m\u001b[0mk\u001b[0m\u001b[0;34m)\u001b[0m\u001b[0;34m\u001b[0m\u001b[0;34m\u001b[0m\u001b[0m\n",
            "\u001b[0;32m/usr/local/lib/python3.6/dist-packages/numpy/lib/function_base.py\u001b[0m in \u001b[0;36m_ureduce\u001b[0;34m(a, func, **kwargs)\u001b[0m\n\u001b[1;32m   3408\u001b[0m         \u001b[0mkeepdim\u001b[0m \u001b[0;34m=\u001b[0m \u001b[0;34m(\u001b[0m\u001b[0;36m1\u001b[0m\u001b[0;34m,\u001b[0m\u001b[0;34m)\u001b[0m \u001b[0;34m*\u001b[0m \u001b[0ma\u001b[0m\u001b[0;34m.\u001b[0m\u001b[0mndim\u001b[0m\u001b[0;34m\u001b[0m\u001b[0;34m\u001b[0m\u001b[0m\n\u001b[1;32m   3409\u001b[0m \u001b[0;34m\u001b[0m\u001b[0m\n\u001b[0;32m-> 3410\u001b[0;31m     \u001b[0mr\u001b[0m \u001b[0;34m=\u001b[0m \u001b[0mfunc\u001b[0m\u001b[0;34m(\u001b[0m\u001b[0ma\u001b[0m\u001b[0;34m,\u001b[0m \u001b[0;34m**\u001b[0m\u001b[0mkwargs\u001b[0m\u001b[0;34m)\u001b[0m\u001b[0;34m\u001b[0m\u001b[0;34m\u001b[0m\u001b[0m\n\u001b[0m\u001b[1;32m   3411\u001b[0m     \u001b[0;32mreturn\u001b[0m \u001b[0mr\u001b[0m\u001b[0;34m,\u001b[0m \u001b[0mkeepdim\u001b[0m\u001b[0;34m\u001b[0m\u001b[0;34m\u001b[0m\u001b[0m\n\u001b[1;32m   3412\u001b[0m \u001b[0;34m\u001b[0m\u001b[0m\n",
            "\u001b[0;32m/usr/local/lib/python3.6/dist-packages/numpy/lib/function_base.py\u001b[0m in \u001b[0;36m_median\u001b[0;34m(a, axis, out, overwrite_input)\u001b[0m\n\u001b[1;32m   3553\u001b[0m     \u001b[0;32mif\u001b[0m \u001b[0mnp\u001b[0m\u001b[0;34m.\u001b[0m\u001b[0missubdtype\u001b[0m\u001b[0;34m(\u001b[0m\u001b[0ma\u001b[0m\u001b[0;34m.\u001b[0m\u001b[0mdtype\u001b[0m\u001b[0;34m,\u001b[0m \u001b[0mnp\u001b[0m\u001b[0;34m.\u001b[0m\u001b[0minexact\u001b[0m\u001b[0;34m)\u001b[0m \u001b[0;32mand\u001b[0m \u001b[0msz\u001b[0m \u001b[0;34m>\u001b[0m \u001b[0;36m0\u001b[0m\u001b[0;34m:\u001b[0m\u001b[0;34m\u001b[0m\u001b[0;34m\u001b[0m\u001b[0m\n\u001b[1;32m   3554\u001b[0m         \u001b[0;31m# warn and return nans like mean would\u001b[0m\u001b[0;34m\u001b[0m\u001b[0;34m\u001b[0m\u001b[0;34m\u001b[0m\u001b[0m\n\u001b[0;32m-> 3555\u001b[0;31m         \u001b[0mrout\u001b[0m \u001b[0;34m=\u001b[0m \u001b[0mmean\u001b[0m\u001b[0;34m(\u001b[0m\u001b[0mpart\u001b[0m\u001b[0;34m[\u001b[0m\u001b[0mindexer\u001b[0m\u001b[0;34m]\u001b[0m\u001b[0;34m,\u001b[0m \u001b[0maxis\u001b[0m\u001b[0;34m=\u001b[0m\u001b[0maxis\u001b[0m\u001b[0;34m,\u001b[0m \u001b[0mout\u001b[0m\u001b[0;34m=\u001b[0m\u001b[0mout\u001b[0m\u001b[0;34m)\u001b[0m\u001b[0;34m\u001b[0m\u001b[0;34m\u001b[0m\u001b[0m\n\u001b[0m\u001b[1;32m   3556\u001b[0m         \u001b[0;32mreturn\u001b[0m \u001b[0mnp\u001b[0m\u001b[0;34m.\u001b[0m\u001b[0mlib\u001b[0m\u001b[0;34m.\u001b[0m\u001b[0mutils\u001b[0m\u001b[0;34m.\u001b[0m\u001b[0m_median_nancheck\u001b[0m\u001b[0;34m(\u001b[0m\u001b[0mpart\u001b[0m\u001b[0;34m,\u001b[0m \u001b[0mrout\u001b[0m\u001b[0;34m,\u001b[0m \u001b[0maxis\u001b[0m\u001b[0;34m,\u001b[0m \u001b[0mout\u001b[0m\u001b[0;34m)\u001b[0m\u001b[0;34m\u001b[0m\u001b[0;34m\u001b[0m\u001b[0m\n\u001b[1;32m   3557\u001b[0m     \u001b[0;32melse\u001b[0m\u001b[0;34m:\u001b[0m\u001b[0;34m\u001b[0m\u001b[0;34m\u001b[0m\u001b[0m\n",
            "\u001b[0;32m<__array_function__ internals>\u001b[0m in \u001b[0;36mmean\u001b[0;34m(*args, **kwargs)\u001b[0m\n",
            "\u001b[0;32m/usr/local/lib/python3.6/dist-packages/numpy/core/fromnumeric.py\u001b[0m in \u001b[0;36mmean\u001b[0;34m(a, axis, dtype, out, keepdims)\u001b[0m\n\u001b[1;32m   3255\u001b[0m \u001b[0;34m\u001b[0m\u001b[0m\n\u001b[1;32m   3256\u001b[0m     return _methods._mean(a, axis=axis, dtype=dtype,\n\u001b[0;32m-> 3257\u001b[0;31m                           out=out, **kwargs)\n\u001b[0m\u001b[1;32m   3258\u001b[0m \u001b[0;34m\u001b[0m\u001b[0m\n\u001b[1;32m   3259\u001b[0m \u001b[0;34m\u001b[0m\u001b[0m\n",
            "\u001b[0;32m/usr/local/lib/python3.6/dist-packages/numpy/core/_methods.py\u001b[0m in \u001b[0;36m_mean\u001b[0;34m(a, axis, dtype, out, keepdims)\u001b[0m\n\u001b[1;32m    133\u001b[0m \u001b[0;34m\u001b[0m\u001b[0m\n\u001b[1;32m    134\u001b[0m \u001b[0;32mdef\u001b[0m \u001b[0m_mean\u001b[0m\u001b[0;34m(\u001b[0m\u001b[0ma\u001b[0m\u001b[0;34m,\u001b[0m \u001b[0maxis\u001b[0m\u001b[0;34m=\u001b[0m\u001b[0;32mNone\u001b[0m\u001b[0;34m,\u001b[0m \u001b[0mdtype\u001b[0m\u001b[0;34m=\u001b[0m\u001b[0;32mNone\u001b[0m\u001b[0;34m,\u001b[0m \u001b[0mout\u001b[0m\u001b[0;34m=\u001b[0m\u001b[0;32mNone\u001b[0m\u001b[0;34m,\u001b[0m \u001b[0mkeepdims\u001b[0m\u001b[0;34m=\u001b[0m\u001b[0;32mFalse\u001b[0m\u001b[0;34m)\u001b[0m\u001b[0;34m:\u001b[0m\u001b[0;34m\u001b[0m\u001b[0;34m\u001b[0m\u001b[0m\n\u001b[0;32m--> 135\u001b[0;31m     \u001b[0marr\u001b[0m \u001b[0;34m=\u001b[0m \u001b[0masanyarray\u001b[0m\u001b[0;34m(\u001b[0m\u001b[0ma\u001b[0m\u001b[0;34m)\u001b[0m\u001b[0;34m\u001b[0m\u001b[0;34m\u001b[0m\u001b[0m\n\u001b[0m\u001b[1;32m    136\u001b[0m \u001b[0;34m\u001b[0m\u001b[0m\n\u001b[1;32m    137\u001b[0m     \u001b[0mis_float16_result\u001b[0m \u001b[0;34m=\u001b[0m \u001b[0;32mFalse\u001b[0m\u001b[0;34m\u001b[0m\u001b[0;34m\u001b[0m\u001b[0m\n",
            "\u001b[0;32m/usr/local/lib/python3.6/dist-packages/numpy/core/_asarray.py\u001b[0m in \u001b[0;36masanyarray\u001b[0;34m(a, dtype, order)\u001b[0m\n\u001b[1;32m     86\u001b[0m \u001b[0;34m\u001b[0m\u001b[0m\n\u001b[1;32m     87\u001b[0m \u001b[0;34m\u001b[0m\u001b[0m\n\u001b[0;32m---> 88\u001b[0;31m \u001b[0;34m@\u001b[0m\u001b[0mset_module\u001b[0m\u001b[0;34m(\u001b[0m\u001b[0;34m'numpy'\u001b[0m\u001b[0;34m)\u001b[0m\u001b[0;34m\u001b[0m\u001b[0;34m\u001b[0m\u001b[0m\n\u001b[0m\u001b[1;32m     89\u001b[0m \u001b[0;32mdef\u001b[0m \u001b[0masanyarray\u001b[0m\u001b[0;34m(\u001b[0m\u001b[0ma\u001b[0m\u001b[0;34m,\u001b[0m \u001b[0mdtype\u001b[0m\u001b[0;34m=\u001b[0m\u001b[0;32mNone\u001b[0m\u001b[0;34m,\u001b[0m \u001b[0morder\u001b[0m\u001b[0;34m=\u001b[0m\u001b[0;32mNone\u001b[0m\u001b[0;34m)\u001b[0m\u001b[0;34m:\u001b[0m\u001b[0;34m\u001b[0m\u001b[0;34m\u001b[0m\u001b[0m\n\u001b[1;32m     90\u001b[0m     \"\"\"Convert the input to an ndarray, but pass ndarray subclasses through.\n",
            "\u001b[0;31mKeyboardInterrupt\u001b[0m: "
          ]
        }
      ]
    }
  ]
}